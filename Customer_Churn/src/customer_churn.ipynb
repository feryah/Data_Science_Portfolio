{
 "cells": [
  {
   "cell_type": "markdown",
   "metadata": {},
   "source": [
    "# Telecom Company Customer Churn Prediction 🛰\n",
    "\n",
    "\n",
    "\n",
    "\n",
    "\n",
    "\n",
    "\n",
    "\n",
    "\n",
    "\n",
    "\n",
    "\n",
    "# Objectives\n",
    "We will build a **customer churn classifier**!\n",
    "\n",
    "# Guidelines\n",
    "The project is about a telecom company: they want to predict if a customer is about to leave. We will combine both **unsupervised (clustering)** and **supervised approaches (classification)**."
   ]
  },
  {
   "cell_type": "code",
   "execution_count": 1,
   "metadata": {},
   "outputs": [],
   "source": [
    "import numpy as np\n",
    "import pandas as pd\n",
    "import os\n",
    "from matplotlib import pyplot as plt\n",
    "import seaborn as sns\n",
    "from sklearn.preprocessing import StandardScaler\n",
    "from sklearn.model_selection import train_test_split\n",
    "from sklearn.linear_model import LogisticRegression\n",
    "from sklearn.metrics import f1_score, accuracy_score, recall_score, precision_score, classification_report\n",
    "from sklearn.svm import SVC\n",
    "from sklearn.ensemble import RandomForestClassifier\n",
    "from sklearn.ensemble import GradientBoostingClassifier\n",
    "import xgboost as xgb\n",
    "from sklearn.model_selection import GridSearchCV, RandomizedSearchCV, StratifiedKFold\n",
    "from sklearn.cluster import KMeans\n",
    "from sklearn.metrics import silhouette_samples\n",
    "from imblearn.over_sampling import SMOTE\n",
    "from imblearn.pipeline import Pipeline # when using smote, this Pipeline has to be used. Otherwise, sklearn's won't work.\n",
    "from imblearn.pipeline import make_pipeline as make_pipeline_imb\n",
    "import scipy.stats as st\n",
    "from xgboost import plot_tree\n",
    "from xgboost import plot_importance\n",
    "import warnings\n",
    "warnings.simplefilter(action='ignore', category=FutureWarning)"
   ]
  },
  {
   "cell_type": "markdown",
   "metadata": {},
   "source": [
    "# Data exploration"
   ]
  },
  {
   "cell_type": "code",
   "execution_count": 2,
   "metadata": {},
   "outputs": [],
   "source": [
    "PATH = os.path.join('..', 'data', 'Telco-Customer-Churn.csv')"
   ]
  },
  {
   "cell_type": "code",
   "execution_count": 3,
   "metadata": {},
   "outputs": [],
   "source": [
    "df = pd.read_csv(PATH)"
   ]
  },
  {
   "cell_type": "code",
   "execution_count": 4,
   "metadata": {},
   "outputs": [
    {
     "data": {
      "text/html": [
       "<div>\n",
       "<style scoped>\n",
       "    .dataframe tbody tr th:only-of-type {\n",
       "        vertical-align: middle;\n",
       "    }\n",
       "\n",
       "    .dataframe tbody tr th {\n",
       "        vertical-align: top;\n",
       "    }\n",
       "\n",
       "    .dataframe thead th {\n",
       "        text-align: right;\n",
       "    }\n",
       "</style>\n",
       "<table border=\"1\" class=\"dataframe\">\n",
       "  <thead>\n",
       "    <tr style=\"text-align: right;\">\n",
       "      <th></th>\n",
       "      <th>customerID</th>\n",
       "      <th>sex</th>\n",
       "      <th>SeniorCitizen</th>\n",
       "      <th>Partner</th>\n",
       "      <th>Dependents</th>\n",
       "      <th>tenure</th>\n",
       "      <th>PhoneService</th>\n",
       "      <th>MultipleLines</th>\n",
       "      <th>InternetService</th>\n",
       "      <th>OnlineSecurity</th>\n",
       "      <th>...</th>\n",
       "      <th>DeviceProtection</th>\n",
       "      <th>TechSupport</th>\n",
       "      <th>StreamingTV</th>\n",
       "      <th>StreamingMovies</th>\n",
       "      <th>Contract</th>\n",
       "      <th>PaperlessBilling</th>\n",
       "      <th>PaymentMethod</th>\n",
       "      <th>MonthlyCharges</th>\n",
       "      <th>TotalCharges</th>\n",
       "      <th>Churn</th>\n",
       "    </tr>\n",
       "  </thead>\n",
       "  <tbody>\n",
       "    <tr>\n",
       "      <th>0</th>\n",
       "      <td>7590-VHVEG</td>\n",
       "      <td>Female</td>\n",
       "      <td>0</td>\n",
       "      <td>Yes</td>\n",
       "      <td>No</td>\n",
       "      <td>1</td>\n",
       "      <td>No</td>\n",
       "      <td>No phone service</td>\n",
       "      <td>DSL</td>\n",
       "      <td>No</td>\n",
       "      <td>...</td>\n",
       "      <td>No</td>\n",
       "      <td>No</td>\n",
       "      <td>No</td>\n",
       "      <td>No</td>\n",
       "      <td>Month-to-month</td>\n",
       "      <td>Yes</td>\n",
       "      <td>Electronic check</td>\n",
       "      <td>29.85</td>\n",
       "      <td>29.85</td>\n",
       "      <td>No</td>\n",
       "    </tr>\n",
       "    <tr>\n",
       "      <th>1</th>\n",
       "      <td>5575-GNVDE</td>\n",
       "      <td>Male</td>\n",
       "      <td>0</td>\n",
       "      <td>No</td>\n",
       "      <td>No</td>\n",
       "      <td>34</td>\n",
       "      <td>Yes</td>\n",
       "      <td>No</td>\n",
       "      <td>DSL</td>\n",
       "      <td>Yes</td>\n",
       "      <td>...</td>\n",
       "      <td>Yes</td>\n",
       "      <td>No</td>\n",
       "      <td>No</td>\n",
       "      <td>No</td>\n",
       "      <td>One year</td>\n",
       "      <td>No</td>\n",
       "      <td>Mailed check</td>\n",
       "      <td>56.95</td>\n",
       "      <td>1889.5</td>\n",
       "      <td>No</td>\n",
       "    </tr>\n",
       "    <tr>\n",
       "      <th>2</th>\n",
       "      <td>3668-QPYBK</td>\n",
       "      <td>Male</td>\n",
       "      <td>0</td>\n",
       "      <td>No</td>\n",
       "      <td>No</td>\n",
       "      <td>2</td>\n",
       "      <td>Yes</td>\n",
       "      <td>No</td>\n",
       "      <td>DSL</td>\n",
       "      <td>Yes</td>\n",
       "      <td>...</td>\n",
       "      <td>No</td>\n",
       "      <td>No</td>\n",
       "      <td>No</td>\n",
       "      <td>No</td>\n",
       "      <td>Month-to-month</td>\n",
       "      <td>Yes</td>\n",
       "      <td>Mailed check</td>\n",
       "      <td>53.85</td>\n",
       "      <td>108.15</td>\n",
       "      <td>Yes</td>\n",
       "    </tr>\n",
       "  </tbody>\n",
       "</table>\n",
       "<p>3 rows × 21 columns</p>\n",
       "</div>"
      ],
      "text/plain": [
       "   customerID     sex  SeniorCitizen Partner Dependents  tenure PhoneService  \\\n",
       "0  7590-VHVEG  Female              0     Yes         No       1           No   \n",
       "1  5575-GNVDE    Male              0      No         No      34          Yes   \n",
       "2  3668-QPYBK    Male              0      No         No       2          Yes   \n",
       "\n",
       "      MultipleLines InternetService OnlineSecurity  ... DeviceProtection  \\\n",
       "0  No phone service             DSL             No  ...               No   \n",
       "1                No             DSL            Yes  ...              Yes   \n",
       "2                No             DSL            Yes  ...               No   \n",
       "\n",
       "  TechSupport StreamingTV StreamingMovies        Contract PaperlessBilling  \\\n",
       "0          No          No              No  Month-to-month              Yes   \n",
       "1          No          No              No        One year               No   \n",
       "2          No          No              No  Month-to-month              Yes   \n",
       "\n",
       "      PaymentMethod MonthlyCharges  TotalCharges Churn  \n",
       "0  Electronic check          29.85         29.85    No  \n",
       "1      Mailed check          56.95        1889.5    No  \n",
       "2      Mailed check          53.85        108.15   Yes  \n",
       "\n",
       "[3 rows x 21 columns]"
      ]
     },
     "execution_count": 4,
     "metadata": {},
     "output_type": "execute_result"
    }
   ],
   "source": [
    "df.head(3)"
   ]
  },
  {
   "cell_type": "code",
   "execution_count": 8,
   "metadata": {},
   "outputs": [
    {
     "name": "stdout",
     "output_type": "stream",
     "text": [
      "<class 'pandas.core.frame.DataFrame'>\n",
      "RangeIndex: 7043 entries, 0 to 7042\n",
      "Data columns (total 21 columns):\n",
      " #   Column            Non-Null Count  Dtype  \n",
      "---  ------            --------------  -----  \n",
      " 0   customerID        7043 non-null   object \n",
      " 1   sex               7043 non-null   object \n",
      " 2   SeniorCitizen     7043 non-null   int64  \n",
      " 3   Partner           7043 non-null   object \n",
      " 4   Dependents        7043 non-null   object \n",
      " 5   tenure            7043 non-null   int64  \n",
      " 6   PhoneService      7043 non-null   object \n",
      " 7   MultipleLines     7043 non-null   object \n",
      " 8   InternetService   7043 non-null   object \n",
      " 9   OnlineSecurity    7043 non-null   object \n",
      " 10  OnlineBackup      7043 non-null   object \n",
      " 11  DeviceProtection  7043 non-null   object \n",
      " 12  TechSupport       7043 non-null   object \n",
      " 13  StreamingTV       7043 non-null   object \n",
      " 14  StreamingMovies   7043 non-null   object \n",
      " 15  Contract          7043 non-null   object \n",
      " 16  PaperlessBilling  7043 non-null   object \n",
      " 17  PaymentMethod     7043 non-null   object \n",
      " 18  MonthlyCharges    7043 non-null   float64\n",
      " 19  TotalCharges      7043 non-null   object \n",
      " 20  Churn             7043 non-null   object \n",
      "dtypes: float64(1), int64(2), object(18)\n",
      "memory usage: 1.1+ MB\n"
     ]
    }
   ],
   "source": [
    "df.info()"
   ]
  },
  {
   "cell_type": "code",
   "execution_count": 6,
   "metadata": {},
   "outputs": [
    {
     "data": {
      "text/plain": [
       "(7043, 21)"
      ]
     },
     "execution_count": 6,
     "metadata": {},
     "output_type": "execute_result"
    }
   ],
   "source": [
    "df.shape"
   ]
  },
  {
   "cell_type": "code",
   "execution_count": 7,
   "metadata": {},
   "outputs": [
    {
     "data": {
      "text/plain": [
       "customerID          0\n",
       "sex                 0\n",
       "SeniorCitizen       0\n",
       "Partner             0\n",
       "Dependents          0\n",
       "tenure              0\n",
       "PhoneService        0\n",
       "MultipleLines       0\n",
       "InternetService     0\n",
       "OnlineSecurity      0\n",
       "OnlineBackup        0\n",
       "DeviceProtection    0\n",
       "TechSupport         0\n",
       "StreamingTV         0\n",
       "StreamingMovies     0\n",
       "Contract            0\n",
       "PaperlessBilling    0\n",
       "PaymentMethod       0\n",
       "MonthlyCharges      0\n",
       "TotalCharges        0\n",
       "Churn               0\n",
       "dtype: int64"
      ]
     },
     "execution_count": 7,
     "metadata": {},
     "output_type": "execute_result"
    }
   ],
   "source": [
    "df.isnull().sum()"
   ]
  },
  {
   "cell_type": "code",
   "execution_count": 8,
   "metadata": {},
   "outputs": [
    {
     "data": {
      "text/plain": [
       "Index(['customerID', 'sex', 'SeniorCitizen', 'Partner', 'Dependents', 'tenure',\n",
       "       'PhoneService', 'MultipleLines', 'InternetService', 'OnlineSecurity',\n",
       "       'OnlineBackup', 'DeviceProtection', 'TechSupport', 'StreamingTV',\n",
       "       'StreamingMovies', 'Contract', 'PaperlessBilling', 'PaymentMethod',\n",
       "       'MonthlyCharges', 'TotalCharges', 'Churn'],\n",
       "      dtype='object')"
      ]
     },
     "execution_count": 8,
     "metadata": {},
     "output_type": "execute_result"
    }
   ],
   "source": [
    "df.columns"
   ]
  },
  {
   "cell_type": "markdown",
   "metadata": {},
   "source": [
    "### Features are the following:\n",
    "\n",
    "- `customerID`: a unique ID for each customer\n",
    "- `sex`: the gender of the customer\n",
    "- `SeniorCitizen`: whether the customer is a senior (i.e. older than 65) or not\n",
    "- `Partner`: whether the customer has a partner or not\n",
    "- `Dependents`: whether the customer has people to take care of or not\n",
    "- `tenure`: the number of months the customer has stayed\n",
    "- `PhoneService`: whether the customer has a phone service or not\n",
    "- `MultipleLines`: whether the customer has multiple telephonic lines or not\n",
    "- `InternetService`: the kind of internet services the customer has (DSL, Fiber optic, no)\n",
    "- `OnlineSecurity`: what online security the customer has (Yes, No, No internet service)\n",
    "- `OnlineBackup`: whether the customer has online backup file system (Yes, No, No internet service)\n",
    "- `DeviceProtection`: Whether the customer has device protection or not (Yes, No, No internet service)\n",
    "- `TechSupport`: whether the customer has tech support or not (Yes, No, No internet service)\n",
    "- `StreamingTV`: whether the customer has a streaming TV device (e.g. a TV box) or not (Yes, No, No internet service)\n",
    "- `StreamingMovies`: whether the customer uses streaming movies (e.g. VOD) or not (Yes, No, No internet service)\n",
    "- `Contract`: the contract term of the customer (Month-to-month, One year, Two year)\n",
    "- `PaperlessBilling`: Whether the customer has electronic billing or not (Yes, No)\n",
    "- `PaymentMethod`: payment method of the customer (Electronic check, Mailed check, Bank transfer (automatic), Credit card (automatic))\n",
    "- `MonthlyCharges`: the amount charged to the customer monthly\n",
    "- `TotalCharges`: the total amount the customer paid\n",
    "\n",
    "#### And the Target :\n",
    "- `Churn`: whether the customer left or not (Yes, No)"
   ]
  },
  {
   "cell_type": "markdown",
   "metadata": {},
   "source": [
    "#### Numercial Variables\n",
    "##### continous (to scale)\n",
    "- `tenure`\n",
    "- `MonthlyCharges`\n",
    "- `TotalCharges`\n",
    "##### discrete\n",
    "- `SeniorCitizen`\n",
    "\n",
    "#### Categorical variables\n",
    "- `customerID`\n",
    "##### to dummify\n",
    "- `MultipleLines`\n",
    "- `InternetService`\n",
    "- `OnlineBackup`\n",
    "- `DeviceProtection`\n",
    "- `TechSupport`\n",
    "- `StreamingTV`\n",
    "- `StreamingMovies`\n",
    "- `Contract`\n",
    "- `PaymentMethod`\n",
    "- `OnlineSecurity`\n",
    "##### to map\n",
    "- `sex`\n",
    "- `Partner`\n",
    "- `Dependents`\n",
    "- `PhoneService`\n",
    "- `PaperlessBilling`\n",
    "- `Churn`"
   ]
  },
  {
   "cell_type": "code",
   "execution_count": 5,
   "metadata": {},
   "outputs": [
    {
     "data": {
      "text/plain": [
       "5174"
      ]
     },
     "execution_count": 5,
     "metadata": {},
     "output_type": "execute_result"
    }
   ],
   "source": [
    "(df.Churn == 'No').sum()"
   ]
  },
  {
   "cell_type": "code",
   "execution_count": 6,
   "metadata": {},
   "outputs": [
    {
     "data": {
      "text/plain": [
       "1869"
      ]
     },
     "execution_count": 6,
     "metadata": {},
     "output_type": "execute_result"
    }
   ],
   "source": [
    "(df.Churn == 'Yes').sum()"
   ]
  },
  {
   "cell_type": "code",
   "execution_count": 7,
   "metadata": {},
   "outputs": [
    {
     "data": {
      "text/plain": [
       "73.4630129206304"
      ]
     },
     "execution_count": 7,
     "metadata": {},
     "output_type": "execute_result"
    }
   ],
   "source": [
    "(5174/7043)*100"
   ]
  },
  {
   "cell_type": "code",
   "execution_count": 8,
   "metadata": {
    "scrolled": true
   },
   "outputs": [
    {
     "data": {
      "text/plain": [
       "26.536987079369588"
      ]
     },
     "execution_count": 8,
     "metadata": {},
     "output_type": "execute_result"
    }
   ],
   "source": [
    "(1869/7043)*100"
   ]
  },
  {
   "cell_type": "markdown",
   "metadata": {},
   "source": [
    "# Exploratory Data Analysis"
   ]
  },
  {
   "cell_type": "code",
   "execution_count": 28,
   "metadata": {},
   "outputs": [
    {
     "data": {
      "text/plain": [
       "[]"
      ]
     },
     "execution_count": 28,
     "metadata": {},
     "output_type": "execute_result"
    },
    {
     "data": {
      "image/png": "[encoded data removed]",
      "text/plain": [
       "<Figure size 432x288 with 1 Axes>"
      ]
     },
     "metadata": {
      "needs_background": "light"
     },
     "output_type": "display_data"
    }
   ],
   "source": [
    "plt.hist(df[df['Churn']=='No']['TotalCharges'], alpha = 0.5)\n",
    "plt.hist(df[df['Churn']=='Yes']['TotalCharges'], alpha = 0.5)\n",
    "plt.title('Total charges')\n",
    "plt.legend(['no churn', 'churn'])\n",
    "plt.plot()"
   ]
  },
  {
   "cell_type": "code",
   "execution_count": 9,
   "metadata": {},
   "outputs": [
    {
     "data": {
      "text/plain": [
       "[]"
      ]
     },
     "execution_count": 9,
     "metadata": {},
     "output_type": "execute_result"
    },
    {
     "data": {
      "image/png": "[encoded data removed]",
      "text/plain": [
       "<Figure size 432x288 with 1 Axes>"
      ]
     },
     "metadata": {
      "needs_background": "light"
     },
     "output_type": "display_data"
    }
   ],
   "source": [
    "plt.hist(df[df['Churn']=='No']['tenure'], alpha = 0.5)\n",
    "plt.hist(df[df['Churn']=='Yes']['tenure'], alpha = 0.5)\n",
    "plt.title('Tenure length (Month)')\n",
    "plt.legend(['no churn', 'churn'])\n",
    "plt.plot()"
   ]
  },
  {
   "cell_type": "markdown",
   "metadata": {},
   "source": [
    "We can see that the higher tenure means lower Churn Rate."
   ]
  },
  {
   "cell_type": "code",
   "execution_count": 10,
   "metadata": {},
   "outputs": [
    {
     "data": {
      "text/plain": [
       "[]"
      ]
     },
     "execution_count": 10,
     "metadata": {},
     "output_type": "execute_result"
    },
    {
     "data": {
      "image/png": "[encoded data removed]",
      "text/plain": [
       "<Figure size 432x288 with 1 Axes>"
      ]
     },
     "metadata": {
      "needs_background": "light"
     },
     "output_type": "display_data"
    }
   ],
   "source": [
    "plt.hist(df[df['Churn']=='No']['MonthlyCharges'], alpha = 0.5)\n",
    "plt.hist(df[df['Churn']=='Yes']['MonthlyCharges'], alpha = 0.5)\n",
    "plt.title('Monthly charges')\n",
    "plt.legend(['no churn', 'churn'])\n",
    "plt.plot()"
   ]
  },
  {
   "cell_type": "code",
   "execution_count": 8,
   "metadata": {},
   "outputs": [
    {
     "data": {
      "text/plain": [
       "[]"
      ]
     },
     "execution_count": 8,
     "metadata": {},
     "output_type": "execute_result"
    },
    {
     "data": {
      "image/png": "[encoded data removed]",
      "text/plain": [
       "<Figure size 432x288 with 1 Axes>"
      ]
     },
     "metadata": {
      "needs_background": "light"
     },
     "output_type": "display_data"
    }
   ],
   "source": [
    "plt.hist(df[df['Churn']=='No']['InternetService'], alpha = 0.5)\n",
    "plt.hist(df[df['Churn']=='Yes']['InternetService'], alpha = 0.5)\n",
    "plt.title('Internet Service')\n",
    "plt.legend(['no churn', 'churn'])\n",
    "plt.plot()"
   ]
  },
  {
   "cell_type": "markdown",
   "metadata": {},
   "source": [
    "This histogram shows us that customers who use fiber optic as an Internet service are more likely to leave. We would generally expect fiber optic customers to stay longer as they use a more premium service. But this can happen due to high prices, competition, customer service, etc."
   ]
  },
  {
   "cell_type": "code",
   "execution_count": 10,
   "metadata": {},
   "outputs": [
    {
     "data": {
      "text/plain": [
       "[]"
      ]
     },
     "execution_count": 10,
     "metadata": {},
     "output_type": "execute_result"
    },
    {
     "data": {
      "image/png": "[encoded data removed]",
      "text/plain": [
       "<Figure size 432x288 with 1 Axes>"
      ]
     },
     "metadata": {
      "needs_background": "light"
     },
     "output_type": "display_data"
    }
   ],
   "source": [
    "plt.hist(df[df['Churn']=='No']['Contract'], alpha = 0.5)\n",
    "plt.hist(df[df['Churn']=='Yes']['Contract'], alpha = 0.5)\n",
    "plt.title('Contract')\n",
    "plt.legend(['no churn', 'churn'])\n",
    "plt.plot()"
   ]
  },
  {
   "cell_type": "markdown",
   "metadata": {},
   "source": [
    "As expected, shorter the contract the higher the churn rate."
   ]
  },
  {
   "cell_type": "code",
   "execution_count": 11,
   "metadata": {},
   "outputs": [
    {
     "data": {
      "text/plain": [
       "[]"
      ]
     },
     "execution_count": 11,
     "metadata": {},
     "output_type": "execute_result"
    },
    {
     "data": {
      "image/png": "[encoded data removed]",
      "text/plain": [
       "<Figure size 432x288 with 1 Axes>"
      ]
     },
     "metadata": {
      "needs_background": "light"
     },
     "output_type": "display_data"
    }
   ],
   "source": [
    "plt.hist(df[df['Churn']=='No']['TechSupport'], alpha = 0.5)\n",
    "plt.hist(df[df['Churn']=='Yes']['TechSupport'], alpha = 0.5)\n",
    "plt.title('TechSupport')\n",
    "plt.legend(['no churn', 'churn'])\n",
    "plt.plot()"
   ]
  },
  {
   "cell_type": "markdown",
   "metadata": {},
   "source": [
    "Customers who use tech support are less likely to churn."
   ]
  },
  {
   "cell_type": "code",
   "execution_count": 15,
   "metadata": {},
   "outputs": [
    {
     "data": {
      "text/plain": [
       "[]"
      ]
     },
     "execution_count": 15,
     "metadata": {},
     "output_type": "execute_result"
    },
    {
     "data": {
      "image/png": "[encoded data removed]",
      "text/plain": [
       "<Figure size 432x288 with 1 Axes>"
      ]
     },
     "metadata": {
      "needs_background": "light"
     },
     "output_type": "display_data"
    }
   ],
   "source": [
    "plt.hist(df[df['Churn']=='No']['PaymentMethod'], alpha = 0.5)\n",
    "plt.hist(df[df['Churn']=='Yes']['PaymentMethod'], alpha = 0.5)\n",
    "plt.title('Payment Method')\n",
    "plt.legend(['no churn', 'churn'])\n",
    "plt.plot()"
   ]
  },
  {
   "cell_type": "markdown",
   "metadata": {},
   "source": [
    "Automatic payment makes the customer stay longer."
   ]
  },
  {
   "cell_type": "code",
   "execution_count": 16,
   "metadata": {},
   "outputs": [
    {
     "data": {
      "text/plain": [
       "[]"
      ]
     },
     "execution_count": 16,
     "metadata": {},
     "output_type": "execute_result"
    },
    {
     "data": {
      "image/png": "[encoded data removed]",
      "text/plain": [
       "<Figure size 432x288 with 1 Axes>"
      ]
     },
     "metadata": {
      "needs_background": "light"
     },
     "output_type": "display_data"
    }
   ],
   "source": [
    "plt.hist(df[df['Churn']=='No']['PaperlessBilling'], alpha = 0.5)\n",
    "plt.hist(df[df['Churn']=='Yes']['PaperlessBilling'], alpha = 0.5)\n",
    "plt.title('Paper less Billing')\n",
    "plt.legend(['no churn', 'churn'])\n",
    "plt.plot()"
   ]
  },
  {
   "cell_type": "markdown",
   "metadata": {},
   "source": [
    "Customer receiving electronic bills are less likely to churn."
   ]
  },
  {
   "cell_type": "markdown",
   "metadata": {},
   "source": [
    "# Clustering"
   ]
  },
  {
   "cell_type": "markdown",
   "metadata": {},
   "source": [
    "### Market segmentation : \n",
    "We use clusterings models to determine meaningful clusters of customers and try to label them according to their main characteristics."
   ]
  },
  {
   "cell_type": "markdown",
   "metadata": {},
   "source": [
    "#### Elbow Method:\n",
    "Shows optimal cluster number for optimal inertia.\n",
    "\n",
    "#### Inertia:\n",
    "\"Inertia is the sum of squared error for each cluster. Therefore the smaller the inertia the denser the cluster (closer together all the points are).\n"
   ]
  },
  {
   "cell_type": "code",
   "execution_count": 5,
   "metadata": {},
   "outputs": [],
   "source": [
    "# K-Means clustering \n",
    "inertia = []\n",
    "K = range(1, 10)\n",
    "for k in K:\n",
    "    means_k = KMeans(n_clusters=k, random_state=0)\n",
    "    means_k.fit(df.loc[:, [\"tenure\"]])\n",
    "    inertia.append(means_k.inertia_)"
   ]
  },
  {
   "cell_type": "code",
   "execution_count": 6,
   "metadata": {},
   "outputs": [
    {
     "data": {
      "image/png": "[encoded data removed]",
      "text/plain": [
       "<Figure size 432x288 with 1 Axes>"
      ]
     },
     "metadata": {
      "needs_background": "light"
     },
     "output_type": "display_data"
    }
   ],
   "source": [
    "#Plotting the elbow\n",
    "\n",
    "plt.plot(K , inertia , 'bo-')\n",
    "plt.xlabel('Number of Clusters') , plt.ylabel('Inertia')\n",
    "plt.show()"
   ]
  },
  {
   "cell_type": "markdown",
   "metadata": {},
   "source": [
    "##### Business sense:\n",
    "The plot has an arm shape, and the elbow would be the optimal K. According to the graph, it seems that 2 is the optimal one. We can also have a glimpse of our results relevance by using our business sense or topic-knowledge. Thus, we can take more or less clusters. We will be selecting 3 for this case."
   ]
  },
  {
   "cell_type": "code",
   "execution_count": 7,
   "metadata": {},
   "outputs": [],
   "source": [
    "def order_cluster(cluster_field_name, target_field_name, df):\n",
    "    new_cluster_field_name = 'new_' + cluster_field_name\n",
    "    df_new = df.groupby(cluster_field_name)[target_field_name].mean().reset_index()\n",
    "    df_new = df_new.sort_values(by=target_field_name, ascending=True).reset_index(drop=True)\n",
    "    df_new['index'] = df_new.index\n",
    "    df_final = pd.merge(df, df_new[[cluster_field_name,'index']], on=cluster_field_name)\n",
    "    df_final = df_final.drop([cluster_field_name], axis=1)\n",
    "    df_final = df_final.rename(columns={\"index\":cluster_field_name})\n",
    "    return df_final"
   ]
  },
  {
   "cell_type": "code",
   "execution_count": 8,
   "metadata": {
    "scrolled": false
   },
   "outputs": [],
   "source": [
    "means_k = KMeans(n_clusters=3, init='random', max_iter=100, random_state=0)\n",
    "means_k.fit(df.loc[:, [\"tenure\"]])\n",
    "\n",
    "y_kmeans = means_k.predict(df.loc[:, [\"tenure\"]])\n",
    "df['TenureCluster'] = y_kmeans"
   ]
  },
  {
   "cell_type": "code",
   "execution_count": 18,
   "metadata": {},
   "outputs": [
    {
     "data": {
      "text/plain": [
       "array([0, 1, 2], dtype=int32)"
      ]
     },
     "execution_count": 18,
     "metadata": {},
     "output_type": "execute_result"
    }
   ],
   "source": [
    "np.unique(df['TenureCluster'])"
   ]
  },
  {
   "cell_type": "code",
   "execution_count": 9,
   "metadata": {},
   "outputs": [],
   "source": [
    "df = order_cluster('TenureCluster', 'tenure', df)"
   ]
  },
  {
   "cell_type": "code",
   "execution_count": 10,
   "metadata": {},
   "outputs": [],
   "source": [
    "inertia = []\n",
    "K = range(1, 10)\n",
    "for k in K:\n",
    "    means_k = KMeans(n_clusters=k, random_state=0)\n",
    "    means_k.fit(df.loc[:, [\"MonthlyCharges\"]])\n",
    "    inertia.append(means_k.inertia_)"
   ]
  },
  {
   "cell_type": "code",
   "execution_count": 11,
   "metadata": {},
   "outputs": [
    {
     "data": {
      "image/png": "[encoded data removed]",
      "text/plain": [
       "<Figure size 432x288 with 1 Axes>"
      ]
     },
     "metadata": {
      "needs_background": "light"
     },
     "output_type": "display_data"
    }
   ],
   "source": [
    "plt.plot(K , inertia , 'bo-')\n",
    "plt.xlabel('Number of Clusters') , plt.ylabel('Inertia')\n",
    "plt.show()"
   ]
  },
  {
   "cell_type": "code",
   "execution_count": 12,
   "metadata": {},
   "outputs": [],
   "source": [
    "means_k = KMeans(n_clusters=3, init='random', max_iter=100, random_state=0)\n",
    "means_k.fit(df.loc[:, [\"MonthlyCharges\"]])\n",
    "y_kmeans = means_k.predict(df.loc[:, [\"MonthlyCharges\"]])\n",
    "df['MonthlyChargesCluster'] = y_kmeans"
   ]
  },
  {
   "cell_type": "code",
   "execution_count": 13,
   "metadata": {},
   "outputs": [],
   "source": [
    "df = order_cluster('MonthlyChargesCluster', 'MonthlyCharges', df)"
   ]
  },
  {
   "cell_type": "code",
   "execution_count": 5,
   "metadata": {},
   "outputs": [],
   "source": [
    "#convert to float\n",
    "df['TotalCharges'] = pd.to_numeric(df['TotalCharges'], errors='coerce')"
   ]
  },
  {
   "cell_type": "code",
   "execution_count": 6,
   "metadata": {},
   "outputs": [],
   "source": [
    "df['TotalCharges'] = np.nan_to_num(df['TotalCharges'])"
   ]
  },
  {
   "cell_type": "code",
   "execution_count": 7,
   "metadata": {},
   "outputs": [],
   "source": [
    "df = df.dropna()"
   ]
  },
  {
   "cell_type": "code",
   "execution_count": 17,
   "metadata": {},
   "outputs": [],
   "source": [
    "inertia = []\n",
    "K = range(1, 10)\n",
    "for k in K:\n",
    "    means_k = KMeans(n_clusters=k, random_state=0)\n",
    "    means_k.fit(df.loc[:, ['TotalCharges']])\n",
    "    inertia.append(means_k.inertia_)"
   ]
  },
  {
   "cell_type": "code",
   "execution_count": 18,
   "metadata": {},
   "outputs": [
    {
     "data": {
      "image/png": "[encoded data removed]",
      "text/plain": [
       "<Figure size 432x288 with 1 Axes>"
      ]
     },
     "metadata": {
      "needs_background": "light"
     },
     "output_type": "display_data"
    }
   ],
   "source": [
    "plt.plot(K , inertia , 'bo-')\n",
    "plt.xlabel('Number of Clusters') , plt.ylabel('Inertia')\n",
    "plt.show()"
   ]
  },
  {
   "cell_type": "code",
   "execution_count": 19,
   "metadata": {},
   "outputs": [],
   "source": [
    "means_k = KMeans(n_clusters=3, init='random', max_iter=100, random_state=0)\n",
    "means_k.fit(df.loc[:, ['TotalCharges']])\n",
    "y_kmeans = means_k.predict(df.loc[:, ['TotalCharges']])\n",
    "df['TotalChargesCluster'] = y_kmeans"
   ]
  },
  {
   "cell_type": "code",
   "execution_count": 20,
   "metadata": {
    "scrolled": true
   },
   "outputs": [],
   "source": [
    "df = order_cluster('TotalChargesCluster', 'TotalCharges', df)"
   ]
  },
  {
   "cell_type": "code",
   "execution_count": 21,
   "metadata": {},
   "outputs": [],
   "source": [
    "df['TenureCluster'] = df[\"TenureCluster\"].replace({0:'low_tenure', 1:'mid_tenure', 2:'high_tenure'})\n",
    "df['MonthlyChargesCluster'] = df[\"MonthlyChargesCluster\"].replace({0:'low_mnth', 1:'mid_mnth', 2:'high_mnth'})\n",
    "df['TotalChargesCluster'] = df[\"TotalChargesCluster\"].replace({0:'low_total', 1:'mid_total', 2:'high_total'})"
   ]
  },
  {
   "cell_type": "markdown",
   "metadata": {},
   "source": [
    "# Feature engineering\n",
    "\n",
    "### dummification"
   ]
  },
  {
   "cell_type": "code",
   "execution_count": 23,
   "metadata": {},
   "outputs": [],
   "source": [
    "to_dummify = df.drop(['customerID', 'SeniorCitizen', 'tenure', 'MonthlyCharges', 'TotalCharges', 'Churn'], axis=1)"
   ]
  },
  {
   "cell_type": "code",
   "execution_count": 24,
   "metadata": {},
   "outputs": [
    {
     "data": {
      "text/plain": [
       "Index(['sex_Female', 'sex_Male', 'Partner_No', 'Partner_Yes', 'Dependents_No',\n",
       "       'Dependents_Yes', 'PhoneService_No', 'PhoneService_Yes',\n",
       "       'MultipleLines_No', 'MultipleLines_No phone service',\n",
       "       'MultipleLines_Yes', 'InternetService_DSL',\n",
       "       'InternetService_Fiber optic', 'InternetService_No',\n",
       "       'OnlineSecurity_No', 'OnlineSecurity_No internet service',\n",
       "       'OnlineSecurity_Yes', 'OnlineBackup_No',\n",
       "       'OnlineBackup_No internet service', 'OnlineBackup_Yes',\n",
       "       'DeviceProtection_No', 'DeviceProtection_No internet service',\n",
       "       'DeviceProtection_Yes', 'TechSupport_No',\n",
       "       'TechSupport_No internet service', 'TechSupport_Yes', 'StreamingTV_No',\n",
       "       'StreamingTV_No internet service', 'StreamingTV_Yes',\n",
       "       'StreamingMovies_No', 'StreamingMovies_No internet service',\n",
       "       'StreamingMovies_Yes', 'Contract_Month-to-month', 'Contract_One year',\n",
       "       'Contract_Two year', 'PaperlessBilling_No', 'PaperlessBilling_Yes',\n",
       "       'PaymentMethod_Bank transfer (automatic)',\n",
       "       'PaymentMethod_Credit card (automatic)',\n",
       "       'PaymentMethod_Electronic check', 'PaymentMethod_Mailed check',\n",
       "       'TenureCluster_high_tenure', 'TenureCluster_low_tenure',\n",
       "       'TenureCluster_mid_tenure', 'MonthlyChargesCluster_high_mnth',\n",
       "       'MonthlyChargesCluster_low_mnth', 'MonthlyChargesCluster_mid_mnth',\n",
       "       'TotalChargesCluster_high_total', 'TotalChargesCluster_low_total',\n",
       "       'TotalChargesCluster_mid_total'],\n",
       "      dtype='object')"
      ]
     },
     "execution_count": 24,
     "metadata": {},
     "output_type": "execute_result"
    }
   ],
   "source": [
    "dummies = pd.get_dummies(to_dummify)\n",
    "dummies.columns"
   ]
  },
  {
   "cell_type": "code",
   "execution_count": 25,
   "metadata": {},
   "outputs": [
    {
     "data": {
      "text/plain": [
       "(Index(['sex_Female', 'Partner_Yes', 'Dependents_Yes', 'PhoneService_No',\n",
       "        'MultipleLines_No', 'MultipleLines_No phone service',\n",
       "        'MultipleLines_Yes', 'InternetService_DSL',\n",
       "        'InternetService_Fiber optic', 'InternetService_No',\n",
       "        'OnlineSecurity_No', 'OnlineSecurity_No internet service',\n",
       "        'OnlineSecurity_Yes', 'OnlineBackup_No',\n",
       "        'OnlineBackup_No internet service', 'OnlineBackup_Yes',\n",
       "        'DeviceProtection_No', 'DeviceProtection_No internet service',\n",
       "        'DeviceProtection_Yes', 'TechSupport_No',\n",
       "        'TechSupport_No internet service', 'TechSupport_Yes', 'StreamingTV_No',\n",
       "        'StreamingTV_No internet service', 'StreamingTV_Yes',\n",
       "        'StreamingMovies_No', 'StreamingMovies_No internet service',\n",
       "        'StreamingMovies_Yes', 'Contract_Month-to-month', 'Contract_One year',\n",
       "        'Contract_Two year', 'PaperlessBilling_Yes',\n",
       "        'PaymentMethod_Bank transfer (automatic)',\n",
       "        'PaymentMethod_Credit card (automatic)',\n",
       "        'PaymentMethod_Electronic check', 'PaymentMethod_Mailed check',\n",
       "        'TenureCluster_high_tenure', 'TenureCluster_low_tenure',\n",
       "        'TenureCluster_mid_tenure', 'MonthlyChargesCluster_high_mnth',\n",
       "        'MonthlyChargesCluster_low_mnth', 'MonthlyChargesCluster_mid_mnth',\n",
       "        'TotalChargesCluster_high_total', 'TotalChargesCluster_low_total',\n",
       "        'TotalChargesCluster_mid_total'],\n",
       "       dtype='object'),\n",
       " (7043, 45))"
      ]
     },
     "execution_count": 25,
     "metadata": {},
     "output_type": "execute_result"
    }
   ],
   "source": [
    "dummies = dummies.drop(['sex_Male', 'Partner_No', 'Dependents_No', 'PhoneService_Yes', 'PaperlessBilling_No'], axis=1)\n",
    "dummies.columns, dummies.shape"
   ]
  },
  {
   "cell_type": "markdown",
   "metadata": {},
   "source": [
    "### scaling\n",
    "Units are not the same for these 3 continuous variables. This why we have to scale them."
   ]
  },
  {
   "cell_type": "code",
   "execution_count": 26,
   "metadata": {},
   "outputs": [
    {
     "data": {
      "text/html": [
       "<div>\n",
       "<style scoped>\n",
       "    .dataframe tbody tr th:only-of-type {\n",
       "        vertical-align: middle;\n",
       "    }\n",
       "\n",
       "    .dataframe tbody tr th {\n",
       "        vertical-align: top;\n",
       "    }\n",
       "\n",
       "    .dataframe thead th {\n",
       "        text-align: right;\n",
       "    }\n",
       "</style>\n",
       "<table border=\"1\" class=\"dataframe\">\n",
       "  <thead>\n",
       "    <tr style=\"text-align: right;\">\n",
       "      <th></th>\n",
       "      <th>tenure</th>\n",
       "      <th>MonthlyCharges</th>\n",
       "      <th>TotalCharges</th>\n",
       "    </tr>\n",
       "  </thead>\n",
       "  <tbody>\n",
       "    <tr>\n",
       "      <th>0</th>\n",
       "      <td>1</td>\n",
       "      <td>29.85</td>\n",
       "      <td>29.85</td>\n",
       "    </tr>\n",
       "    <tr>\n",
       "      <th>1</th>\n",
       "      <td>10</td>\n",
       "      <td>29.75</td>\n",
       "      <td>301.90</td>\n",
       "    </tr>\n",
       "    <tr>\n",
       "      <th>2</th>\n",
       "      <td>16</td>\n",
       "      <td>18.95</td>\n",
       "      <td>326.80</td>\n",
       "    </tr>\n",
       "    <tr>\n",
       "      <th>3</th>\n",
       "      <td>1</td>\n",
       "      <td>39.65</td>\n",
       "      <td>39.65</td>\n",
       "    </tr>\n",
       "    <tr>\n",
       "      <th>4</th>\n",
       "      <td>12</td>\n",
       "      <td>19.80</td>\n",
       "      <td>202.25</td>\n",
       "    </tr>\n",
       "  </tbody>\n",
       "</table>\n",
       "</div>"
      ],
      "text/plain": [
       "   tenure  MonthlyCharges  TotalCharges\n",
       "0       1           29.85         29.85\n",
       "1      10           29.75        301.90\n",
       "2      16           18.95        326.80\n",
       "3       1           39.65         39.65\n",
       "4      12           19.80        202.25"
      ]
     },
     "execution_count": 26,
     "metadata": {},
     "output_type": "execute_result"
    }
   ],
   "source": [
    "to_scale = df[['tenure', 'MonthlyCharges', 'TotalCharges']]\n",
    "to_scale.head()"
   ]
  },
  {
   "cell_type": "code",
   "execution_count": 27,
   "metadata": {},
   "outputs": [
    {
     "name": "stdout",
     "output_type": "stream",
     "text": [
      "(7043, 49)\n",
      "(7043,)\n"
     ]
    }
   ],
   "source": [
    "X = pd.concat([to_scale, dummies, df['SeniorCitizen']], axis=1)\n",
    "print(X.shape)\n",
    "\n",
    "y = np.zeros(len(df))\n",
    "y[df['Churn']=='Yes']=1\n",
    "y[df['Churn']=='No']=0\n",
    "print(y.shape)"
   ]
  },
  {
   "cell_type": "code",
   "execution_count": 39,
   "metadata": {},
   "outputs": [],
   "source": [
    "# Now we can vizualise and evaluate clusters"
   ]
  },
  {
   "cell_type": "markdown",
   "metadata": {},
   "source": [
    "#### Silhouette:\n",
    "The Silhouette Score is from -1 to 1 and shows how close or far away the clusters are from each other and how dense the clusters are.\""
   ]
  },
  {
   "cell_type": "code",
   "execution_count": 13,
   "metadata": {},
   "outputs": [
    {
     "data": {
      "text/plain": [
       "<matplotlib.collections.PathCollection at 0x121a95f90>"
      ]
     },
     "execution_count": 13,
     "metadata": {},
     "output_type": "execute_result"
    },
    {
     "data": {
      "image/png": "[encoded data removed]",
      "text/plain": [
       "<Figure size 432x288 with 1 Axes>"
      ]
     },
     "metadata": {
      "needs_background": "light"
     },
     "output_type": "display_data"
    }
   ],
   "source": [
    "kmeans = KMeans(n_clusters=3, init='random', max_iter=100, random_state=0)\n",
    "kmeans.fit(X)\n",
    "\n",
    "labels = kmeans.labels_\n",
    "\n",
    "silhouette = silhouette_samples(X.loc[:, [\"tenure\"]].to_numpy(), labels)\n",
    "\n",
    "plt.scatter(X.to_numpy()[:, 0], X.to_numpy()[:, 1], c=labels)\n",
    "\n",
    "plt.scatter(kmeans.cluster_centers_[:, 0], kmeans.cluster_centers_[:, 1], marker=\"*\", s=200, c='red')"
   ]
  },
  {
   "cell_type": "code",
   "execution_count": 14,
   "metadata": {},
   "outputs": [
    {
     "data": {
      "text/plain": [
       "array([-0.87676022, -0.87625049, -0.8753014 , -0.8739929 , -0.8722322 ,\n",
       "       -0.86991357, -0.86688159, -0.86393924, -0.85845277, -0.85607103,\n",
       "       -0.84641056, -0.83500476, -0.82149079, -0.80596408, -0.78877185,\n",
       "       -0.76966308, -0.74871727, -0.74681758, -0.74530842, -0.74505665,\n",
       "       -0.7396402 , -0.73891853, -0.730148  , -0.7269958 , -0.72525907,\n",
       "       -0.71647171, -0.69996442, -0.69807996, -0.67475886, -0.67241947,\n",
       "       -0.64648522, -0.64251178, -0.63918365, -0.63896001, -0.63836909,\n",
       "       -0.63751329, -0.63608498, -0.63526697, -0.63208473, -0.62626647,\n",
       "       -0.61870104, -0.61306702, -0.60874689, -0.59623625, -0.58085167,\n",
       "       -0.5733558 , -0.56249213, -0.5417713 , -0.52759342, -0.51795711,\n",
       "       -0.49080911, -0.48008523, -0.4762461 , -0.46067485, -0.4519293 ,\n",
       "       -0.42646149, -0.41867266, -0.41850844, -0.40007991, -0.38800358,\n",
       "       -0.3793846 , -0.36105098, -0.35471759, -0.34539118, -0.33302728,\n",
       "       -0.31741538, -0.29757907, -0.28288418, -0.278883  , -0.26931889,\n",
       "       -0.2445573 , -0.21678022, -0.21564516, -0.20528618, -0.18589844,\n",
       "       -0.15629913, -0.14533895, -0.12239992, -0.12088339, -0.09128133,\n",
       "       -0.06461904, -0.05380613, -0.02924268, -0.02034751,  0.01950461,\n",
       "        0.02786549,  0.05299202,  0.06329204,  0.09049946,  0.11963621,\n",
       "        0.12164483,  0.14412646,  0.15557321,  0.18519799,  0.20415874,\n",
       "        0.21497029,  0.21566908,  0.24390731,  0.26869021,  0.27785997,\n",
       "        0.28186682,  0.29697471,  0.31682809,  0.33208106,  0.34482795,\n",
       "        0.35380215,  0.36050123,  0.37850415,  0.38747701,  0.39956374,\n",
       "        0.41768349,  0.41784795,  0.42596802,  0.43439441,  0.45115176,\n",
       "        0.46021082,  0.46494361,  0.47550306,  0.47934764,  0.490371  ,\n",
       "        0.49183838,  0.50244038,  0.51557031,  0.51754236,  0.52100987,\n",
       "        0.52692322,  0.53545985,  0.53615223,  0.54137704,  0.54642388,\n",
       "        0.55424179,  0.56957963,  0.57275053,  0.58229928,  0.58711378,\n",
       "        0.59288361,  0.60061186,  0.60128314,  0.60763954,  0.60777959,\n",
       "        0.6120663 ,  0.61251809,  0.61252347,  0.61461473,  0.61511598,\n",
       "        0.61568602,  0.6459837 ,  0.67429745,  0.69765163,  0.71606947,\n",
       "        0.7266085 ,  0.72976516,  0.73854814,  0.73927083,  0.74469497,\n",
       "        0.74494709,  0.7464584 ])"
      ]
     },
     "execution_count": 14,
     "metadata": {},
     "output_type": "execute_result"
    }
   ],
   "source": [
    "np.unique(silhouette)"
   ]
  },
  {
   "cell_type": "markdown",
   "metadata": {},
   "source": [
    "#### No fit before split! \n",
    "In order to avoid data leaking whilst scaling, we have to split data into train and test, before fitting with the scaling process."
   ]
  },
  {
   "cell_type": "code",
   "execution_count": 28,
   "metadata": {},
   "outputs": [],
   "source": [
    "X_train, X_test, y_train, y_test = train_test_split(X, y, test_size=.2, random_state=42, stratify=y)"
   ]
  },
  {
   "cell_type": "code",
   "execution_count": 29,
   "metadata": {},
   "outputs": [],
   "source": [
    "scaler = StandardScaler()\n",
    "\n",
    "X_train_scaled = scaler.fit_transform(X_train)\n",
    "X_test_scaled = scaler.transform(X_test)"
   ]
  },
  {
   "cell_type": "markdown",
   "metadata": {},
   "source": [
    "# Basic Modeling\n",
    "\n",
    "## Pipeline\n",
    "- We're gonna use a pipeline in order to apply the DRY principle, i.e, Don't Repeat Yourself !\n",
    "- This is going to help us to choose the best classifier amongst: Logistic regression, Support Vector Machine, Random Forest Classifier, Gradient Boosting Classifier, XGBoost Classifier."
   ]
  },
  {
   "cell_type": "code",
   "execution_count": 30,
   "metadata": {},
   "outputs": [
    {
     "name": "stderr",
     "output_type": "stream",
     "text": [
      "/Users/ferialyahiaoui/.pyenv/versions/3.7.6/lib/python3.7/site-packages/sklearn/linear_model/_logistic.py:765: ConvergenceWarning: lbfgs failed to converge (status=1):\n",
      "STOP: TOTAL NO. of ITERATIONS REACHED LIMIT.\n",
      "\n",
      "Increase the number of iterations (max_iter) or scale the data as shown in:\n",
      "    https://scikit-learn.org/stable/modules/preprocessing.html\n",
      "Please also refer to the documentation for alternative solver options:\n",
      "    https://scikit-learn.org/stable/modules/linear_model.html#logistic-regression\n",
      "  extra_warning_msg=_LOGISTIC_SOLVER_CONVERGENCE_MSG)\n"
     ]
    },
    {
     "name": "stdout",
     "output_type": "stream",
     "text": [
      "scores for classifier LogisticRegression(): \n",
      "               precision    recall  f1-score   support\n",
      "\n",
      "         0.0       0.84      0.89      0.86      1035\n",
      "         1.0       0.63      0.53      0.58       374\n",
      "\n",
      "    accuracy                           0.79      1409\n",
      "   macro avg       0.74      0.71      0.72      1409\n",
      "weighted avg       0.78      0.79      0.79      1409\n",
      " \n",
      "\n",
      "\n",
      "scores for classifier RandomForestClassifier(): \n",
      "               precision    recall  f1-score   support\n",
      "\n",
      "         0.0       0.83      0.87      0.85      1035\n",
      "         1.0       0.59      0.50      0.54       374\n",
      "\n",
      "    accuracy                           0.78      1409\n",
      "   macro avg       0.71      0.69      0.70      1409\n",
      "weighted avg       0.77      0.78      0.77      1409\n",
      " \n",
      "\n",
      "\n",
      "scores for classifier SVC(): \n",
      "               precision    recall  f1-score   support\n",
      "\n",
      "         0.0       0.83      0.88      0.86      1035\n",
      "         1.0       0.61      0.50      0.55       374\n",
      "\n",
      "    accuracy                           0.78      1409\n",
      "   macro avg       0.72      0.69      0.70      1409\n",
      "weighted avg       0.77      0.78      0.77      1409\n",
      " \n",
      "\n",
      "\n",
      "scores for classifier GradientBoostingClassifier(): \n",
      "               precision    recall  f1-score   support\n",
      "\n",
      "         0.0       0.84      0.89      0.86      1035\n",
      "         1.0       0.63      0.54      0.58       374\n",
      "\n",
      "    accuracy                           0.79      1409\n",
      "   macro avg       0.74      0.71      0.72      1409\n",
      "weighted avg       0.79      0.79      0.79      1409\n",
      " \n",
      "\n",
      "\n",
      "[13:44:03] WARNING: /Users/travis/build/dmlc/xgboost/src/learner.cc:1061: Starting in XGBoost 1.3.0, the default evaluation metric used with the objective 'binary:logistic' was changed from 'error' to 'logloss'. Explicitly set eval_metric if you'd like to restore the old behavior.\n"
     ]
    },
    {
     "name": "stderr",
     "output_type": "stream",
     "text": [
      "/Users/ferialyahiaoui/.pyenv/versions/3.7.6/lib/python3.7/site-packages/xgboost/sklearn.py:892: UserWarning: The use of label encoder in XGBClassifier is deprecated and will be removed in a future release. To remove this warning, do the following: 1) Pass option use_label_encoder=False when constructing XGBClassifier object; and 2) Encode your labels (y) as integers starting with 0, i.e. 0, 1, 2, ..., [num_class - 1].\n",
      "  warnings.warn(label_encoder_deprecation_msg, UserWarning)\n"
     ]
    },
    {
     "name": "stdout",
     "output_type": "stream",
     "text": [
      "scores for classifier XGBClassifier(base_score=0.5, booster='gbtree', colsample_bylevel=1,\n",
      "              colsample_bynode=1, colsample_bytree=1, gamma=0, gpu_id=-1,\n",
      "              importance_type='gain', interaction_constraints='',\n",
      "              learning_rate=0.300000012, max_delta_step=0, max_depth=6,\n",
      "              min_child_weight=1, missing=nan, monotone_constraints='()',\n",
      "              n_estimators=100, n_jobs=4, num_parallel_tree=1, random_state=0,\n",
      "              reg_alpha=0, reg_lambda=1, scale_pos_weight=1, subsample=1,\n",
      "              tree_method='exact', validate_parameters=1, verbosity=None): \n",
      "               precision    recall  f1-score   support\n",
      "\n",
      "         0.0       0.82      0.87      0.85      1035\n",
      "         1.0       0.57      0.49      0.53       374\n",
      "\n",
      "    accuracy                           0.77      1409\n",
      "   macro avg       0.70      0.68      0.69      1409\n",
      "weighted avg       0.76      0.77      0.76      1409\n",
      " \n",
      "\n",
      "\n"
     ]
    }
   ],
   "source": [
    "scores = []\n",
    "\n",
    "classifiers = [LogisticRegression(), RandomForestClassifier(), SVC(), GradientBoostingClassifier(), xgb.XGBClassifier()]\n",
    "\n",
    "for c in classifiers:\n",
    "    steps = [\n",
    "             ('classifier', c)\n",
    "    ]\n",
    "\n",
    "    #Build preprocessing pipeline\n",
    "\n",
    "    pipe = Pipeline(steps=steps)\n",
    "\n",
    "\n",
    "    pipe.fit(X_train_scaled, y_train)\n",
    "    y_pred = pipe.predict(X_test_scaled)\n",
    "    report = classification_report(y_test, y_pred)\n",
    "    print(f'scores for classifier {c}: \\n', report, '\\n\\n')\n",
    "    scores.append(report)"
   ]
  },
  {
   "cell_type": "markdown",
   "metadata": {},
   "source": [
    "## SMOTE\n",
    "- We add a smote because the two classes are imbalanced. "
   ]
  },
  {
   "cell_type": "code",
   "execution_count": 31,
   "metadata": {
    "scrolled": false
   },
   "outputs": [
    {
     "name": "stdout",
     "output_type": "stream",
     "text": [
      "scores for classifier LogisticRegression(): \n",
      "               precision    recall  f1-score   support\n",
      "\n",
      "         0.0       0.90      0.72      0.80      1035\n",
      "         1.0       0.50      0.78      0.61       374\n",
      "\n",
      "    accuracy                           0.74      1409\n",
      "   macro avg       0.70      0.75      0.71      1409\n",
      "weighted avg       0.80      0.74      0.75      1409\n",
      " \n",
      "\n",
      "\n",
      "scores for classifier RandomForestClassifier(): \n",
      "               precision    recall  f1-score   support\n",
      "\n",
      "         0.0       0.84      0.84      0.84      1035\n",
      "         1.0       0.55      0.56      0.56       374\n",
      "\n",
      "    accuracy                           0.76      1409\n",
      "   macro avg       0.70      0.70      0.70      1409\n",
      "weighted avg       0.77      0.76      0.76      1409\n",
      " \n",
      "\n",
      "\n",
      "scores for classifier SVC(): \n",
      "               precision    recall  f1-score   support\n",
      "\n",
      "         0.0       0.88      0.77      0.82      1035\n",
      "         1.0       0.53      0.72      0.61       374\n",
      "\n",
      "    accuracy                           0.75      1409\n",
      "   macro avg       0.71      0.74      0.71      1409\n",
      "weighted avg       0.79      0.75      0.76      1409\n",
      " \n",
      "\n",
      "\n",
      "scores for classifier GradientBoostingClassifier(): \n",
      "               precision    recall  f1-score   support\n",
      "\n",
      "         0.0       0.86      0.81      0.83      1035\n",
      "         1.0       0.55      0.64      0.59       374\n",
      "\n",
      "    accuracy                           0.76      1409\n",
      "   macro avg       0.70      0.73      0.71      1409\n",
      "weighted avg       0.78      0.76      0.77      1409\n",
      " \n",
      "\n",
      "\n"
     ]
    },
    {
     "name": "stderr",
     "output_type": "stream",
     "text": [
      "/Users/ferialyahiaoui/.pyenv/versions/3.7.6/lib/python3.7/site-packages/xgboost/sklearn.py:892: UserWarning: The use of label encoder in XGBClassifier is deprecated and will be removed in a future release. To remove this warning, do the following: 1) Pass option use_label_encoder=False when constructing XGBClassifier object; and 2) Encode your labels (y) as integers starting with 0, i.e. 0, 1, 2, ..., [num_class - 1].\n",
      "  warnings.warn(label_encoder_deprecation_msg, UserWarning)\n"
     ]
    },
    {
     "name": "stdout",
     "output_type": "stream",
     "text": [
      "[13:58:26] WARNING: /Users/travis/build/dmlc/xgboost/src/learner.cc:1061: Starting in XGBoost 1.3.0, the default evaluation metric used with the objective 'binary:logistic' was changed from 'error' to 'logloss'. Explicitly set eval_metric if you'd like to restore the old behavior.\n",
      "scores for classifier XGBClassifier(base_score=0.5, booster='gbtree', colsample_bylevel=1,\n",
      "              colsample_bynode=1, colsample_bytree=1, gamma=0, gpu_id=-1,\n",
      "              importance_type='gain', interaction_constraints='',\n",
      "              learning_rate=0.300000012, max_delta_step=0, max_depth=6,\n",
      "              min_child_weight=1, missing=nan, monotone_constraints='()',\n",
      "              n_estimators=100, n_jobs=4, num_parallel_tree=1, random_state=0,\n",
      "              reg_alpha=0, reg_lambda=1, scale_pos_weight=1, subsample=1,\n",
      "              tree_method='exact', validate_parameters=1, verbosity=None): \n",
      "               precision    recall  f1-score   support\n",
      "\n",
      "         0.0       0.83      0.86      0.84      1035\n",
      "         1.0       0.57      0.52      0.55       374\n",
      "\n",
      "    accuracy                           0.77      1409\n",
      "   macro avg       0.70      0.69      0.70      1409\n",
      "weighted avg       0.76      0.77      0.77      1409\n",
      " \n",
      "\n",
      "\n"
     ]
    }
   ],
   "source": [
    "scores = []\n",
    "\n",
    "classifiers = [LogisticRegression(), RandomForestClassifier(), SVC(), GradientBoostingClassifier(), xgb.XGBClassifier()]\n",
    "\n",
    "for c in classifiers:\n",
    "    steps = [\n",
    "             ('smote', SMOTE(random_state=42, n_jobs=-1)),\n",
    "             ('classifier', c)\n",
    "    ]\n",
    "\n",
    "    #Build preprocessing pipeline\n",
    "\n",
    "    pipe = Pipeline(steps=steps)\n",
    "\n",
    "\n",
    "    pipe.fit(X_train_scaled, y_train)\n",
    "    y_pred = pipe.predict(X_test_scaled)\n",
    "    report = classification_report(y_test, y_pred)\n",
    "    print(f'scores for classifier {c}: \\n', report, '\\n\\n')\n",
    "    scores.append(report)"
   ]
  },
  {
   "cell_type": "markdown",
   "metadata": {},
   "source": [
    "#### smote helped a bit to improve the results. Let's now combine: smote and tuning hyperparameters for each classifier."
   ]
  },
  {
   "cell_type": "markdown",
   "metadata": {},
   "source": [
    "# Define hyperparameters for each classifier"
   ]
  },
  {
   "cell_type": "code",
   "execution_count": 33,
   "metadata": {},
   "outputs": [],
   "source": [
    "lr_params = {\n",
    "    \"classifier__solver\": ['newton-cg', 'lbfgs', 'liblinear', 'sag', 'saga'],\n",
    "    \"classifier__penalty\": [None, 'l1', 'l2', 'elasticnet'],\n",
    "    \"classifier__C\": [0.001, 0.01, 0.1, 1, 10, 100, 1000],\n",
    "    \"classifier__class_weight\": ['balanced', 'balanced_subsample', None]\n",
    "}\n",
    "\n",
    "\n",
    "rf_params = {\n",
    "    \"classifier__max_depth\": [5, 10, 20, 30, None], \n",
    "    \"classifier__n_estimators\": [10, 30, 50], \n",
    "    \"classifier__criterion\": ['gini', 'entropy'],\n",
    "    \"classifier__class_weight\": ['balanced', 'balanced_subsample', None]}\n",
    "\n",
    "\n",
    "svc_params = {\"classifier__kernel\": ['poly', 'rbf', 'sigmoid'],\n",
    "              \"classifier__C\": [50, 10, 1.0, 0.1, 0.01],\n",
    "              \"classifier__gamma\": ['scale']\n",
    "             }\n",
    "    \n",
    "gb_params = {\"classifier__n_estimators\": [10, 100, 1000],\n",
    "             \"classifier__learning_rate\": [0.001, 0.01, 0.1], \n",
    "             \"classifier__subsample\": [0.5, 0.7, 1.0],\n",
    "             \"classifier__max_depth\": [3, 7, 9]\n",
    "            }\n",
    "    \n",
    "xgb_params = {\n",
    "    \"classifier__n_estimators\": st.randint(3, 50),\n",
    "    \"classifier__learning_rate\": [0.01, 0.05, 0.10, 0.15, 0.20, 0.25, 0.30],\n",
    "    \"classifier__max_depth\": [3, 4, 5, 6, 8, 10, 12, 15, 30, 100],\n",
    "    \"classifier__min_child_weight\": [1, 3, 5, 7, 11],\n",
    "    \"classifier__subsample\": [1, 0.9, 0.8],\n",
    "    \"classifier__gamma\": [0.0, 0.1, 0.2 , 0.3, 0.4],\n",
    "    \"classifier__colsample_bytree\": [0.3, 0.4, 0.5 , 0.7]\n",
    "    \n",
    "}\n",
    "\n",
    "hyperparameters = [lr_params, rf_params, svc_params, gb_params, xgb_params]"
   ]
  },
  {
   "cell_type": "markdown",
   "metadata": {},
   "source": [
    "## StratifiedKFold\n",
    "This cross-validation object is a variation of KFold that returns stratified folds. The folds are made by preserving the percentage of samples for each class."
   ]
  },
  {
   "cell_type": "code",
   "execution_count": 34,
   "metadata": {},
   "outputs": [],
   "source": [
    "kfold = 5\n",
    "skf = StratifiedKFold(n_splits=kfold)"
   ]
  },
  {
   "cell_type": "code",
   "execution_count": 99,
   "metadata": {},
   "outputs": [
    {
     "data": {
      "text/plain": [
       "dict_keys(['C', 'class_weight', 'dual', 'fit_intercept', 'intercept_scaling', 'l1_ratio', 'max_iter', 'multi_class', 'n_jobs', 'penalty', 'random_state', 'solver', 'tol', 'verbose', 'warm_start'])"
      ]
     },
     "execution_count": 99,
     "metadata": {},
     "output_type": "execute_result"
    }
   ],
   "source": [
    "LogisticRegression().get_params().keys()"
   ]
  },
  {
   "cell_type": "code",
   "execution_count": 35,
   "metadata": {
    "scrolled": true
   },
   "outputs": [
    {
     "name": "stdout",
     "output_type": "stream",
     "text": [
      "Fitting 5 folds for each of 5 candidates, totalling 25 fits\n"
     ]
    },
    {
     "name": "stderr",
     "output_type": "stream",
     "text": [
      "/Users/ferialyahiaoui/.pyenv/versions/3.7.6/lib/python3.7/site-packages/sklearn/model_selection/_search.py:921: UserWarning: One or more of the test scores are non-finite: [       nan 0.63702365        nan 0.63702365        nan]\n",
      "  category=UserWarning\n",
      "/Users/ferialyahiaoui/.pyenv/versions/3.7.6/lib/python3.7/site-packages/sklearn/linear_model/_sag.py:329: ConvergenceWarning: The max_iter was reached which means the coef_ did not converge\n",
      "  \"the coef_ did not converge\", ConvergenceWarning)\n"
     ]
    },
    {
     "name": "stdout",
     "output_type": "stream",
     "text": [
      "For LogisticRegression():\n",
      " random_search.best_params: {'classifier__solver': 'saga', 'classifier__penalty': 'l2', 'classifier__class_weight': 'balanced_subsample', 'classifier__C': 100} \n",
      " random_search.best_score: 63.70236496879998\n",
      "\n",
      "\n",
      "Fitting 5 folds for each of 5 candidates, totalling 25 fits\n",
      "For RandomForestClassifier():\n",
      " random_search.best_params: {'classifier__n_estimators': 10, 'classifier__max_depth': 5, 'classifier__criterion': 'gini', 'classifier__class_weight': 'balanced'} \n",
      " random_search.best_score: 62.47776825247531\n",
      "\n",
      "\n",
      "Fitting 5 folds for each of 5 candidates, totalling 25 fits\n",
      "For SVC():\n",
      " random_search.best_params: {'classifier__kernel': 'rbf', 'classifier__gamma': 'scale', 'classifier__C': 0.01} \n",
      " random_search.best_score: 62.61233180354226\n",
      "\n",
      "\n",
      "Fitting 5 folds for each of 5 candidates, totalling 25 fits\n",
      "For GradientBoostingClassifier():\n",
      " random_search.best_params: {'classifier__subsample': 0.7, 'classifier__n_estimators': 100, 'classifier__max_depth': 9, 'classifier__learning_rate': 0.001} \n",
      " random_search.best_score: 63.36831731048095\n",
      "\n",
      "\n",
      "Fitting 5 folds for each of 5 candidates, totalling 25 fits\n"
     ]
    },
    {
     "name": "stderr",
     "output_type": "stream",
     "text": [
      "/Users/ferialyahiaoui/.pyenv/versions/3.7.6/lib/python3.7/site-packages/xgboost/sklearn.py:892: UserWarning: The use of label encoder in XGBClassifier is deprecated and will be removed in a future release. To remove this warning, do the following: 1) Pass option use_label_encoder=False when constructing XGBClassifier object; and 2) Encode your labels (y) as integers starting with 0, i.e. 0, 1, 2, ..., [num_class - 1].\n",
      "  warnings.warn(label_encoder_deprecation_msg, UserWarning)\n"
     ]
    },
    {
     "name": "stdout",
     "output_type": "stream",
     "text": [
      "[14:01:33] WARNING: /Users/travis/build/dmlc/xgboost/src/learner.cc:1061: Starting in XGBoost 1.3.0, the default evaluation metric used with the objective 'binary:logistic' was changed from 'error' to 'logloss'. Explicitly set eval_metric if you'd like to restore the old behavior.\n"
     ]
    },
    {
     "name": "stderr",
     "output_type": "stream",
     "text": [
      "/Users/ferialyahiaoui/.pyenv/versions/3.7.6/lib/python3.7/site-packages/xgboost/sklearn.py:892: UserWarning: The use of label encoder in XGBClassifier is deprecated and will be removed in a future release. To remove this warning, do the following: 1) Pass option use_label_encoder=False when constructing XGBClassifier object; and 2) Encode your labels (y) as integers starting with 0, i.e. 0, 1, 2, ..., [num_class - 1].\n",
      "  warnings.warn(label_encoder_deprecation_msg, UserWarning)\n"
     ]
    },
    {
     "name": "stdout",
     "output_type": "stream",
     "text": [
      "[14:01:33] WARNING: /Users/travis/build/dmlc/xgboost/src/learner.cc:1061: Starting in XGBoost 1.3.0, the default evaluation metric used with the objective 'binary:logistic' was changed from 'error' to 'logloss'. Explicitly set eval_metric if you'd like to restore the old behavior.\n",
      "For XGBClassifier(base_score=0.5, booster='gbtree', colsample_bylevel=1,\n",
      "              colsample_bynode=1, colsample_bytree=1, gamma=0, gpu_id=-1,\n",
      "              importance_type='gain', interaction_constraints='',\n",
      "              learning_rate=0.300000012, max_delta_step=0, max_depth=6,\n",
      "              min_child_weight=1, missing=nan, monotone_constraints='()',\n",
      "              n_estimators=100, n_jobs=4, num_parallel_tree=1, random_state=0,\n",
      "              reg_alpha=0, reg_lambda=1, scale_pos_weight=1, subsample=1,\n",
      "              tree_method='exact', validate_parameters=1, verbosity=None):\n",
      " random_search.best_params: {'classifier__colsample_bytree': 0.4, 'classifier__gamma': 0.3, 'classifier__learning_rate': 0.2, 'classifier__max_depth': 3, 'classifier__min_child_weight': 7, 'classifier__n_estimators': 24, 'classifier__subsample': 1} \n",
      " random_search.best_score: 64.00720301175113\n",
      "\n",
      "\n"
     ]
    }
   ],
   "source": [
    "for c, h in zip(classifiers, hyperparameters):\n",
    "    s = [\n",
    "        ('smote', SMOTE(random_state=42, n_jobs=-1)),\n",
    "        ('classifier', c)\n",
    "    ]\n",
    "\n",
    "    # Build preprocessing pipeline\n",
    "\n",
    "    my_pipeline = Pipeline(steps=s)\n",
    "    \n",
    "    random_search = RandomizedSearchCV(my_pipeline, \n",
    "                                   param_distributions=h, \n",
    "                                   n_iter=5, \n",
    "                                   scoring='f1', \n",
    "                                   n_jobs=-1, \n",
    "                                   cv=skf, \n",
    "                                   verbose=1, \n",
    "                                   random_state=42)\n",
    "    \n",
    "    \n",
    "    random_search.fit(X_train_scaled, y_train)\n",
    "    my_pipeline.fit(X_train_scaled, y_train)\n",
    "    y_pred = my_pipeline.predict(X_test_scaled)\n",
    "    print(f'For {c}:\\n random_search.best_params: {random_search.best_params_} \\n random_search.best_score: {random_search.best_score_*100}\\n\\n')"
   ]
  },
  {
   "cell_type": "markdown",
   "metadata": {},
   "source": [
    "#### The best score obtained with SMOTE and optimization of the classifiers hyperparameters: F-score = 0.64 for XGBoost"
   ]
  },
  {
   "cell_type": "code",
   "execution_count": 36,
   "metadata": {},
   "outputs": [],
   "source": [
    "sm = SMOTE(random_state=42)\n",
    "X_res, y_res = sm.fit_resample(X_train_scaled, y_train)"
   ]
  },
  {
   "cell_type": "code",
   "execution_count": 37,
   "metadata": {},
   "outputs": [],
   "source": [
    "X_res_df = pd.DataFrame(X_res, columns=X_train.columns)\n",
    "X_test_scaled_df = pd.DataFrame(X_test_scaled, columns=X_test.columns) # we have to retrieve the columns in order to display deatures names"
   ]
  },
  {
   "cell_type": "code",
   "execution_count": 38,
   "metadata": {
    "scrolled": true
   },
   "outputs": [
    {
     "name": "stderr",
     "output_type": "stream",
     "text": [
      "/Users/ferialyahiaoui/.pyenv/versions/3.7.6/lib/python3.7/site-packages/xgboost/sklearn.py:892: UserWarning: The use of label encoder in XGBClassifier is deprecated and will be removed in a future release. To remove this warning, do the following: 1) Pass option use_label_encoder=False when constructing XGBClassifier object; and 2) Encode your labels (y) as integers starting with 0, i.e. 0, 1, 2, ..., [num_class - 1].\n",
      "  warnings.warn(label_encoder_deprecation_msg, UserWarning)\n"
     ]
    },
    {
     "name": "stdout",
     "output_type": "stream",
     "text": [
      "[14:04:17] WARNING: /Users/travis/build/dmlc/xgboost/src/learner.cc:1061: Starting in XGBoost 1.3.0, the default evaluation metric used with the objective 'binary:logistic' was changed from 'error' to 'logloss'. Explicitly set eval_metric if you'd like to restore the old behavior.\n"
     ]
    }
   ],
   "source": [
    "xgboost = xgb.XGBClassifier(colsample_bytree= 0.4, \n",
    "                            gamma=0.3, \n",
    "                            learning_rate=0.2, \n",
    "                            max_depth=3,\n",
    "                            min_child_weight=7,\n",
    "                            n_estimators=24,\n",
    "                            subsample=1)\n",
    "\n",
    "xgboost.fit(X_res_df, y_res)\n",
    "\n",
    "y_pred = xgboost.predict(X_test_scaled_df)\n"
   ]
  },
  {
   "cell_type": "markdown",
   "metadata": {},
   "source": [
    "#### Let's now try to identify which variables are the most important."
   ]
  },
  {
   "cell_type": "code",
   "execution_count": 39,
   "metadata": {},
   "outputs": [
    {
     "data": {
      "text/plain": [
       "<AxesSubplot:title={'center':'Feature importance'}, xlabel='F score', ylabel='Features'>"
      ]
     },
     "execution_count": 39,
     "metadata": {},
     "output_type": "execute_result"
    },
    {
     "data": {
      "image/png": "[encoded data removed]",
      "text/plain": [
       "<Figure size 1440x1152 with 1 Axes>"
      ]
     },
     "metadata": {
      "needs_background": "light"
     },
     "output_type": "display_data"
    }
   ],
   "source": [
    "# set up the parameters\n",
    "fig, ax = plt.subplots(figsize=(20, 16))\n",
    "plot_importance(xgboost, ax=ax)"
   ]
  },
  {
   "cell_type": "markdown",
   "metadata": {},
   "source": [
    "**We can see that our model assigned more importance to TotalCharges and tenure compared to other features.**"
   ]
  },
  {
   "cell_type": "markdown",
   "metadata": {
    "scrolled": true
   },
   "source": [
    "#!pip3 install xgboost\n",
    "#!brew install libomp\n",
    "#!pip install plotly\n",
    "#!pip install --user scikit-learn"
   ]
  }
 ],
 "metadata": {
  "anaconda-cloud": {},
  "kernelspec": {
   "display_name": "Python 3",
   "language": "python",
   "name": "python3"
  },
  "language_info": {
   "codemirror_mode": {
    "name": "ipython",
    "version": 3
   },
   "file_extension": ".py",
   "mimetype": "text/x-python",
   "name": "python",
   "nbconvert_exporter": "python",
   "pygments_lexer": "ipython3",
   "version": "3.7.6"
  }
 },
 "nbformat": 4,
 "nbformat_minor": 4
}
