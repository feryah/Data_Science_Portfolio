{
 "cells": [
  {
   "cell_type": "markdown",
   "metadata": {
    "id": "lsf8VHuL5W34"
   },
   "source": [
    "# News Aggregator using Topic Modeling"
   ]
  },
  {
   "cell_type": "markdown",
   "metadata": {
    "id": "kUcfEN2p5W38"
   },
   "source": [
    "![](https://images.unsplash.com/photo-1504711434969-e33886168f5c?ixlib=rb-1.2.1&ixid=eyJhcHBfaWQiOjEyMDd9&auto=format&fit=crop&w=1500&q=80)"
   ]
  },
  {
   "cell_type": "markdown",
   "metadata": {
    "id": "AjuaDB9j5W39"
   },
   "source": [
    "This dataset contains headlines, URLs, and categories for 422,937 news stories collected by a web aggregator between March 10th, 2014 and August 10th, 2014.\n",
    "\n",
    "News categories included in this dataset include business; science and technology; entertainment; and health. Different news articles that refer to the same news item (e.g., several articles about recently released employment statistics) are also categorized together.\n",
    "\n",
    "Content\n",
    "The columns included in this dataset are:\n",
    "\n",
    "- ID : the numeric ID of the article\n",
    "- TITLE : the headline of the article\n",
    "- URL : the URL of the article\n",
    "- PUBLISHER : the publisher of the article\n",
    "- CATEGORY : the category of the news item; one of: \n",
    "        -- b : business \n",
    "        -- t : science and technology \n",
    "        -- e : entertainment \n",
    "        -- m : health\n",
    "- STORY : alphanumeric ID of the news story that the article discusses\n",
    "- HOSTNAME : hostname where the article was posted\n",
    "- TIMESTAMP : approximate timestamp of the article's publication, given in Unix time (seconds since midnight on Jan 1, 1970)\n",
    "\n",
    "➡️ Can we predict the category (business, entertainment, etc.) of a news article given only its headline?\n",
    "\n",
    "\n",
    "👉 Source: https://www.kaggle.com/uciml/news-aggregator-dataset/data"
   ]
  },
  {
   "cell_type": "markdown",
   "metadata": {
    "id": "V6jxL87bf8I1"
   },
   "source": [
    "First of all, we have to set our Spark environement in Google Colaboratory for the part about Classification."
   ]
  },
  {
   "cell_type": "code",
   "execution_count": null,
   "metadata": {
    "id": "MNV67Am3NlmN"
   },
   "outputs": [],
   "source": [
    "# innstall java\n",
    "!apt-get install openjdk-8-jdk-headless -qq > /dev/null\n",
    "\n",
    "# install spark (change the version number if needed)\n",
    "!wget -q https://archive.apache.org/dist/spark/spark-2.3.2/spark-2.3.2-bin-hadoop2.7.tgz\n",
    "\n",
    "# unzip the spark file to the current folder\n",
    "!tar xf spark-2.3.2-bin-hadoop2.7.tgz\n",
    "\n",
    "# set your spark folder to your system path environment. \n",
    "import os\n",
    "os.environ[\"JAVA_HOME\"] = \"/usr/lib/jvm/java-8-openjdk-amd64\"\n",
    "os.environ[\"SPARK_HOME\"] = \"/content/spark-2.3.2-bin-hadoop2.7\"\n",
    "\n",
    "# install findspark using pip\n",
    "!pip install -q findspark"
   ]
  },
  {
   "cell_type": "code",
   "execution_count": null,
   "metadata": {
    "id": "z6-xI2kgj3go"
   },
   "outputs": [],
   "source": [
    "!update-alternatives --config java"
   ]
  },
  {
   "cell_type": "code",
   "execution_count": null,
   "metadata": {
    "id": "tg0H_etriDPV"
   },
   "outputs": [],
   "source": [
    "!java -version"
   ]
  },
  {
   "cell_type": "code",
   "execution_count": null,
   "metadata": {
    "id": "oftXjH24yaLb"
   },
   "outputs": [],
   "source": [
    "!pip install pyLDAvis\n",
    "!pip install -U gensim"
   ]
  },
  {
   "cell_type": "code",
   "execution_count": null,
   "metadata": {
    "id": "wI_-3CiSygwW"
   },
   "outputs": [],
   "source": [
    "!python -m spacy download en_core_web_md\n",
    "!python -m spacy link en_core_web_md en_core_web_md"
   ]
  },
  {
   "cell_type": "code",
   "execution_count": null,
   "metadata": {
    "id": "RN3MOYHf5W4A"
   },
   "outputs": [],
   "source": [
    "import numpy as np\n",
    "import pandas as pd\n",
    "import os\n",
    "import tqdm\n",
    "\n",
    "import spacy\n",
    "\n",
    "from sklearn.feature_extraction.text import TfidfVectorizer\n",
    "import re\n",
    "import string\n",
    "from sklearn.metrics import classification_report\n",
    "%matplotlib inline\n",
    "from matplotlib import pyplot as plt\n",
    "import seaborn as sns\n",
    "\n",
    "\n",
    "from gensim.models import TfidfModel\n",
    "from gensim.corpora import Dictionary\n",
    "from gensim.models import LsiModel\n",
    "from pprint import pprint\n",
    "from gensim.models import LdaModel, LdaMulticore, LsiModel, HdpModel\n",
    "from gensim.matutils import Sparse2Corpus\n",
    "from gensim.utils import ClippedCorpus\n",
    "import pyLDAvis\n",
    "import pyLDAvis.gensim\n",
    "\n",
    "import findspark\n",
    "findspark.init(\"/content/spark-2.3.2-bin-hadoop2.7\")\n",
    "from pyspark.rdd import ignore_unicode_prefix\n",
    "from pyspark import SparkContext, SparkConf\n",
    "import pyspark.sql.functions as F\n",
    "from pyspark.sql import SparkSession, SQLContext\n",
    "from pyspark.sql.functions import concat_ws, col, regexp_replace, trim, lower\n",
    "import pyspark.sql.types as T\n",
    "from pyspark.ml import Pipeline \n",
    "from pyspark.ml.feature import CountVectorizer, HashingTF, IDF, Word2Vec, StringIndexer, Tokenizer, RegexTokenizer, StopWordsRemover, VectorAssembler\n",
    "from pyspark.sql.functions import col, udf, regexp_replace, isnull\n",
    "from pyspark.sql.types import StringType, IntegerType, ArrayType\n",
    "from pyspark.mllib.clustering import LDA, LDAModel\n",
    "from pyspark.mllib.linalg import Vector, Vectors\n",
    "from pyspark.ml.classification import NaiveBayes\n",
    "from pyspark.ml.evaluation import MulticlassClassificationEvaluator\n",
    "from pyspark.ml.stat import Correlation\n",
    "from pyspark.ml.tuning import CrossValidator, ParamGridBuilder\n",
    "from pyspark.ml.classification import LogisticRegression\n",
    "from pyspark.ml.classification import NaiveBayes\n",
    "import warnings\n",
    "warnings.simplefilter(action='ignore', category=FutureWarning)\n",
    "warnings.simplefilter(action='ignore', category=DeprecationWarning)"
   ]
  },
  {
   "cell_type": "markdown",
   "metadata": {
    "id": "O9fDUplz5W4B"
   },
   "source": [
    "<h1> Load the data"
   ]
  },
  {
   "cell_type": "code",
   "execution_count": null,
   "metadata": {
    "id": "FYxWfHmY5W4C",
    "scrolled": false
   },
   "outputs": [],
   "source": [
    "#PATH = os.path.join('content', 'uci-news-aggregator.csv')\n",
    "df = pd.read_csv('/content/uci-news-aggregator.csv')"
   ]
  },
  {
   "cell_type": "markdown",
   "metadata": {
    "id": "mvt-39sv5W4D"
   },
   "source": [
    "<h1> Data Preparation"
   ]
  },
  {
   "cell_type": "code",
   "execution_count": null,
   "metadata": {
    "colab": {
     "base_uri": "https://localhost:8080/",
     "height": 301
    },
    "id": "TnymMSi15W4D",
    "outputId": "aa310a90-0ec5-4817-fc5d-068e93074af4",
    "scrolled": false
   },
   "outputs": [
    {
     "data": {
      "text/html": [
       "<div>\n",
       "<style scoped>\n",
       "    .dataframe tbody tr th:only-of-type {\n",
       "        vertical-align: middle;\n",
       "    }\n",
       "\n",
       "    .dataframe tbody tr th {\n",
       "        vertical-align: top;\n",
       "    }\n",
       "\n",
       "    .dataframe thead th {\n",
       "        text-align: right;\n",
       "    }\n",
       "</style>\n",
       "<table border=\"1\" class=\"dataframe\">\n",
       "  <thead>\n",
       "    <tr style=\"text-align: right;\">\n",
       "      <th></th>\n",
       "      <th>ID</th>\n",
       "      <th>TITLE</th>\n",
       "      <th>URL</th>\n",
       "      <th>PUBLISHER</th>\n",
       "      <th>CATEGORY</th>\n",
       "      <th>STORY</th>\n",
       "      <th>HOSTNAME</th>\n",
       "      <th>TIMESTAMP</th>\n",
       "    </tr>\n",
       "  </thead>\n",
       "  <tbody>\n",
       "    <tr>\n",
       "      <th>0</th>\n",
       "      <td>1</td>\n",
       "      <td>Fed official says weak data caused by weather,...</td>\n",
       "      <td>http://www.latimes.com/business/money/la-fi-mo...</td>\n",
       "      <td>Los Angeles Times</td>\n",
       "      <td>b</td>\n",
       "      <td>ddUyU0VZz0BRneMioxUPQVP6sIxvM</td>\n",
       "      <td>www.latimes.com</td>\n",
       "      <td>1394470370698</td>\n",
       "    </tr>\n",
       "    <tr>\n",
       "      <th>1</th>\n",
       "      <td>2</td>\n",
       "      <td>Fed's Charles Plosser sees high bar for change...</td>\n",
       "      <td>http://www.livemint.com/Politics/H2EvwJSK2VE6O...</td>\n",
       "      <td>Livemint</td>\n",
       "      <td>b</td>\n",
       "      <td>ddUyU0VZz0BRneMioxUPQVP6sIxvM</td>\n",
       "      <td>www.livemint.com</td>\n",
       "      <td>1394470371207</td>\n",
       "    </tr>\n",
       "  </tbody>\n",
       "</table>\n",
       "</div>"
      ],
      "text/plain": [
       "   ID  ...      TIMESTAMP\n",
       "0   1  ...  1394470370698\n",
       "1   2  ...  1394470371207\n",
       "\n",
       "[2 rows x 8 columns]"
      ]
     },
     "execution_count": 14,
     "metadata": {
      "tags": []
     },
     "output_type": "execute_result"
    }
   ],
   "source": [
    "df.head(2)"
   ]
  },
  {
   "cell_type": "code",
   "execution_count": null,
   "metadata": {
    "colab": {
     "base_uri": "https://localhost:8080/"
    },
    "id": "aZZsQhkG5W4E",
    "outputId": "b1faa7d3-affc-4e91-a5de-9283963769bb"
   },
   "outputs": [
    {
     "data": {
      "text/plain": [
       "ID           0\n",
       "TITLE        0\n",
       "URL          0\n",
       "PUBLISHER    2\n",
       "CATEGORY     0\n",
       "STORY        0\n",
       "HOSTNAME     0\n",
       "TIMESTAMP    0\n",
       "dtype: int64"
      ]
     },
     "execution_count": 15,
     "metadata": {
      "tags": []
     },
     "output_type": "execute_result"
    }
   ],
   "source": [
    "df.isna().sum()"
   ]
  },
  {
   "cell_type": "markdown",
   "metadata": {
    "id": "NAQ-b5Rx5W4F"
   },
   "source": [
    "- As there are only two missing values, we drop them."
   ]
  },
  {
   "cell_type": "code",
   "execution_count": null,
   "metadata": {
    "id": "1m1FJGXv5W4G",
    "scrolled": true
   },
   "outputs": [],
   "source": [
    "df = df.dropna()"
   ]
  },
  {
   "cell_type": "code",
   "execution_count": null,
   "metadata": {
    "colab": {
     "base_uri": "https://localhost:8080/"
    },
    "id": "y4_ZcNc_5W4H",
    "outputId": "00dfbf16-2c61-4220-f548-5f626cab33b2"
   },
   "outputs": [
    {
     "data": {
      "text/plain": [
       "(422417, 8)"
      ]
     },
     "execution_count": 17,
     "metadata": {
      "tags": []
     },
     "output_type": "execute_result"
    }
   ],
   "source": [
    "df.shape"
   ]
  },
  {
   "cell_type": "code",
   "execution_count": null,
   "metadata": {
    "colab": {
     "base_uri": "https://localhost:8080/"
    },
    "id": "kEfsM49c5W4I",
    "outputId": "055c5bda-8035-4066-c688-16cbc21e77ca"
   },
   "outputs": [
    {
     "data": {
      "text/plain": [
       "array(['b', 't', 'e', 'm'], dtype=object)"
      ]
     },
     "execution_count": 18,
     "metadata": {
      "tags": []
     },
     "output_type": "execute_result"
    }
   ],
   "source": [
    "# Identify the different values of news article category\n",
    "df.CATEGORY.unique()"
   ]
  },
  {
   "cell_type": "markdown",
   "metadata": {
    "id": "nYAT7xr_5W4J"
   },
   "source": [
    "- CATEGORY : the category of the news item; one of: \n",
    "        -- b : business \n",
    "        -- t : science and technology \n",
    "        -- e : entertainment \n",
    "        -- m : health"
   ]
  },
  {
   "cell_type": "markdown",
   "metadata": {
    "id": "L3uqyx-75W4K"
   },
   "source": [
    "### Convert date"
   ]
  },
  {
   "cell_type": "code",
   "execution_count": null,
   "metadata": {
    "id": "IKNG3jft5W4K",
    "scrolled": false
   },
   "outputs": [],
   "source": [
    "#df_sample = df.sample(n=10000, random_state=1)\n",
    "df['TIMESTAMP'] = pd.to_datetime(df['TIMESTAMP'], unit='ms')"
   ]
  },
  {
   "cell_type": "markdown",
   "metadata": {
    "id": "8V8ElwWI5W4L"
   },
   "source": [
    "<h1> EDA"
   ]
  },
  {
   "cell_type": "markdown",
   "metadata": {
    "id": "mxqevA255W4M"
   },
   "source": [
    "### Check the ratio of each category in the dataset"
   ]
  },
  {
   "cell_type": "code",
   "execution_count": null,
   "metadata": {
    "id": "lTcM-ddE5W4M",
    "scrolled": true
   },
   "outputs": [],
   "source": [
    "ratio_cat = df.CATEGORY.value_counts(normalize=True,\n",
    "                         sort=True,\n",
    "                         ascending=False)*100"
   ]
  },
  {
   "cell_type": "code",
   "execution_count": null,
   "metadata": {
    "colab": {
     "base_uri": "https://localhost:8080/",
     "height": 613
    },
    "id": "mtcK2Thl5W4N",
    "outputId": "df01a860-29b5-40ad-84a6-8e7a3ebb05d8"
   },
   "outputs": [
    {
     "data": {
      "image/png": "[encoded data removed]",
      "text/plain": [
       "<Figure size 1080x648 with 1 Axes>"
      ]
     },
     "metadata": {
      "needs_background": "light",
      "tags": []
     },
     "output_type": "display_data"
    }
   ],
   "source": [
    "plt.figure(figsize=(15, 9))\n",
    "\n",
    "plt.bar(x=pd.Series(ratio_cat.values, index=pd.Index(['entertainment', 'business', 'science and technology', 'health'])).index, height=ratio_cat, width=.7)\n",
    "\n",
    "sns.despine(left=True)\n",
    "plt.xticks(rotation=30)\n",
    "plt.yticks([])\n",
    "\n",
    "for idx, value in enumerate(ratio_cat):\n",
    "    plt.text(x=idx, y=ratio_cat[idx] - .5, s=round(ratio_cat[idx], 1),\n",
    "    ha='center', va='top', color='white', fontweight='bold')\n",
    "    \n",
    "plt.tick_params(bottom=False)\n",
    "    \n",
    "plt.title('Ratio of each news category', fontsize=15, fontweight='bold')\n",
    "\n",
    "plt.show()"
   ]
  },
  {
   "cell_type": "markdown",
   "metadata": {
    "id": "bi7Ygsv65W4O"
   },
   "source": [
    "- Categories are quite balanced."
   ]
  },
  {
   "cell_type": "markdown",
   "metadata": {
    "id": "q7Pp5xGO5W4P"
   },
   "source": [
    "## News Timeline"
   ]
  },
  {
   "cell_type": "code",
   "execution_count": null,
   "metadata": {
    "colab": {
     "base_uri": "https://localhost:8080/"
    },
    "id": "sgHxvgPh5W4P",
    "outputId": "eaf71f94-99b2-4685-e0e3-349b049f25b2",
    "scrolled": true
   },
   "outputs": [
    {
     "name": "stdout",
     "output_type": "stream",
     "text": [
      "News timeline starts at: 2014-03-10 16:52:50.698000 and ends at: 2014-08-28 12:33:11.565000.\n",
      "News timeline has been collected for a range time of: 170 days 19:40:20.867000.\n"
     ]
    }
   ],
   "source": [
    "start, end = df['TIMESTAMP'].min(), df['TIMESTAMP'].max()\n",
    "print(f'News timeline starts at: {start} and ends at: {end}.')\n",
    "print(f'News timeline has been collected for a range time of: {end - start}.')"
   ]
  },
  {
   "cell_type": "markdown",
   "metadata": {
    "id": "14rjcP_C5W4Q"
   },
   "source": [
    "### Check the ratio of each publisher in the dataset"
   ]
  },
  {
   "cell_type": "code",
   "execution_count": null,
   "metadata": {
    "colab": {
     "base_uri": "https://localhost:8080/"
    },
    "id": "YV6d2y4y5W4Q",
    "outputId": "38dbbb8a-dbb9-475f-f416-fa64fa7f20a7",
    "scrolled": true
   },
   "outputs": [
    {
     "data": {
      "text/plain": [
       "Reuters             3902\n",
       "Huffington Post     2455\n",
       "Businessweek        2395\n",
       "Contactmusic.com    2334\n",
       "Daily Mail          2254\n",
       "Name: PUBLISHER, dtype: int64"
      ]
     },
     "execution_count": 23,
     "metadata": {
      "tags": []
     },
     "output_type": "execute_result"
    }
   ],
   "source": [
    "ratio_pub = df.PUBLISHER.value_counts(normalize=False,\n",
    "                         sort=True,\n",
    "                         ascending=False)[:5]\n",
    "ratio_pub"
   ]
  },
  {
   "cell_type": "code",
   "execution_count": null,
   "metadata": {
    "colab": {
     "base_uri": "https://localhost:8080/",
     "height": 600
    },
    "id": "_ccFhb6l5W4R",
    "outputId": "942fdb0c-5671-48a9-9223-7ec093b6a5f8"
   },
   "outputs": [
    {
     "data": {
      "image/png": "[encoded data removed]",
      "text/plain": [
       "<Figure size 1080x648 with 1 Axes>"
      ]
     },
     "metadata": {
      "needs_background": "light",
      "tags": []
     },
     "output_type": "display_data"
    }
   ],
   "source": [
    "plt.figure(figsize=(15, 9))\n",
    "\n",
    "plt.bar(x=ratio_pub.index.tolist(), height=ratio_pub, width=.7)\n",
    "\n",
    "sns.despine(left=True)\n",
    "plt.xticks(rotation=30)\n",
    "plt.yticks([])\n",
    "\n",
    "for idx, value in enumerate(ratio_pub):\n",
    "    plt.text(x=idx, y=ratio_pub[idx] - .5, s=round(ratio_pub[idx], 1),\n",
    "    ha='center', va='top', color='white', fontweight='bold')\n",
    "    \n",
    "plt.tick_params(bottom=False)\n",
    "    \n",
    "plt.title('Ratio of the 5 most common news publishers', fontsize=15, fontweight='bold')\n",
    "\n",
    "plt.show()"
   ]
  },
  {
   "cell_type": "markdown",
   "metadata": {
    "id": "TKcLZe-65W4S"
   },
   "source": [
    "<h1> Preprocessing of our news titles"
   ]
  },
  {
   "cell_type": "code",
   "execution_count": null,
   "metadata": {
    "id": "lEq8ZVUq5W4S"
   },
   "outputs": [],
   "source": [
    "nlp = spacy.load('en_core_web_md')"
   ]
  },
  {
   "cell_type": "code",
   "execution_count": null,
   "metadata": {
    "id": "spmADncZ5W4T"
   },
   "outputs": [],
   "source": [
    "def text_process_spacy(mess):\n",
    "    tokens = [token.lemma_.lower() for token in nlp(mess) if token.is_alpha and not token.is_punct and not token.is_stop]\n",
    "    return tokens"
   ]
  },
  {
   "cell_type": "code",
   "execution_count": null,
   "metadata": {
    "colab": {
     "base_uri": "https://localhost:8080/"
    },
    "id": "A5HHGAVm5W4T",
    "outputId": "89c013e2-a867-4bfe-ca0b-537213395adc"
   },
   "outputs": [
    {
     "name": "stdout",
     "output_type": "stream",
     "text": [
      "CPU times: user 1h 2min 2s, sys: 3.97 s, total: 1h 2min 6s\n",
      "Wall time: 1h 2min 6s\n"
     ]
    }
   ],
   "source": [
    "%%time\n",
    "df['TITLE_PROCESSED'] = df['TITLE'].apply(text_process_spacy)"
   ]
  },
  {
   "cell_type": "code",
   "execution_count": null,
   "metadata": {
    "id": "idtwSsIR5W4U"
   },
   "outputs": [],
   "source": [
    "#df.to_csv(os.path.join('..', 'data', 'processed_df.csv'))"
   ]
  },
  {
   "cell_type": "code",
   "execution_count": null,
   "metadata": {
    "colab": {
     "base_uri": "https://localhost:8080/",
     "height": 301
    },
    "id": "OcDJk-H35W4V",
    "outputId": "efc98b09-daa0-40f3-ed13-5c33cfbf4884"
   },
   "outputs": [
    {
     "data": {
      "text/html": [
       "<div>\n",
       "<style scoped>\n",
       "    .dataframe tbody tr th:only-of-type {\n",
       "        vertical-align: middle;\n",
       "    }\n",
       "\n",
       "    .dataframe tbody tr th {\n",
       "        vertical-align: top;\n",
       "    }\n",
       "\n",
       "    .dataframe thead th {\n",
       "        text-align: right;\n",
       "    }\n",
       "</style>\n",
       "<table border=\"1\" class=\"dataframe\">\n",
       "  <thead>\n",
       "    <tr style=\"text-align: right;\">\n",
       "      <th></th>\n",
       "      <th>ID</th>\n",
       "      <th>TITLE</th>\n",
       "      <th>URL</th>\n",
       "      <th>PUBLISHER</th>\n",
       "      <th>CATEGORY</th>\n",
       "      <th>STORY</th>\n",
       "      <th>HOSTNAME</th>\n",
       "      <th>TIMESTAMP</th>\n",
       "      <th>TITLE_PROCESSED</th>\n",
       "    </tr>\n",
       "  </thead>\n",
       "  <tbody>\n",
       "    <tr>\n",
       "      <th>0</th>\n",
       "      <td>1</td>\n",
       "      <td>Fed official says weak data caused by weather,...</td>\n",
       "      <td>http://www.latimes.com/business/money/la-fi-mo...</td>\n",
       "      <td>Los Angeles Times</td>\n",
       "      <td>b</td>\n",
       "      <td>ddUyU0VZz0BRneMioxUPQVP6sIxvM</td>\n",
       "      <td>www.latimes.com</td>\n",
       "      <td>2014-03-10 16:52:50.698</td>\n",
       "      <td>[fed, official, say, weak, datum, cause, weath...</td>\n",
       "    </tr>\n",
       "    <tr>\n",
       "      <th>1</th>\n",
       "      <td>2</td>\n",
       "      <td>Fed's Charles Plosser sees high bar for change...</td>\n",
       "      <td>http://www.livemint.com/Politics/H2EvwJSK2VE6O...</td>\n",
       "      <td>Livemint</td>\n",
       "      <td>b</td>\n",
       "      <td>ddUyU0VZz0BRneMioxUPQVP6sIxvM</td>\n",
       "      <td>www.livemint.com</td>\n",
       "      <td>2014-03-10 16:52:51.207</td>\n",
       "      <td>[fed, charles, plosser, see, high, bar, change...</td>\n",
       "    </tr>\n",
       "  </tbody>\n",
       "</table>\n",
       "</div>"
      ],
      "text/plain": [
       "   ID  ...                                    TITLE_PROCESSED\n",
       "0   1  ...  [fed, official, say, weak, datum, cause, weath...\n",
       "1   2  ...  [fed, charles, plosser, see, high, bar, change...\n",
       "\n",
       "[2 rows x 9 columns]"
      ]
     },
     "execution_count": 29,
     "metadata": {
      "tags": []
     },
     "output_type": "execute_result"
    }
   ],
   "source": [
    "df.head(2)"
   ]
  },
  {
   "cell_type": "markdown",
   "metadata": {
    "id": "0v-dL0PF5W4V"
   },
   "source": [
    "<h1> Build our gensim BOW"
   ]
  },
  {
   "cell_type": "markdown",
   "metadata": {
    "id": "5kK7CbWX5W4W"
   },
   "source": [
    "- Create a corpus"
   ]
  },
  {
   "cell_type": "code",
   "execution_count": null,
   "metadata": {
    "id": "zqZVQM9b5W4W",
    "scrolled": false
   },
   "outputs": [],
   "source": [
    "corpus = df['TITLE_PROCESSED']"
   ]
  },
  {
   "cell_type": "markdown",
   "metadata": {
    "id": "1IBMvaD95W4X"
   },
   "source": [
    "- Compute the dictionary: this is a dictionary mapping words and their corresponding numbers for later visualisation"
   ]
  },
  {
   "cell_type": "code",
   "execution_count": null,
   "metadata": {
    "id": "9lwtpkpv5W4Y",
    "scrolled": true
   },
   "outputs": [],
   "source": [
    "id2word = Dictionary(corpus)"
   ]
  },
  {
   "cell_type": "markdown",
   "metadata": {
    "id": "TNO4W_wA5W4Y"
   },
   "source": [
    "- Create a gensim BOW of news article headlines "
   ]
  },
  {
   "cell_type": "code",
   "execution_count": null,
   "metadata": {
    "id": "HGW82tJr5W4Y"
   },
   "outputs": [],
   "source": [
    "bow = [id2word.doc2bow(line) for line in corpus]"
   ]
  },
  {
   "cell_type": "markdown",
   "metadata": {
    "id": "LN3jz6eh5W4Z"
   },
   "source": [
    "## Applying Latent Dirichlet Allocation (LDA) Model"
   ]
  },
  {
   "cell_type": "code",
   "execution_count": null,
   "metadata": {
    "colab": {
     "base_uri": "https://localhost:8080/"
    },
    "id": "moEr6iaX5W4Z",
    "outputId": "9ed07a35-09d0-4a23-82f9-8b13d692be0c"
   },
   "outputs": [
    {
     "name": "stdout",
     "output_type": "stream",
     "text": [
      "CPU times: user 6min 7s, sys: 15.3 s, total: 6min 22s\n",
      "Wall time: 6min 17s\n"
     ]
    }
   ],
   "source": [
    "%%time\n",
    "lda_multi_model = LdaMulticore(bow,\n",
    "                         num_topics=4,\n",
    "                         id2word=id2word,\n",
    "                         passes=10,\n",
    "                         workers=2)"
   ]
  },
  {
   "cell_type": "code",
   "execution_count": null,
   "metadata": {
    "colab": {
     "base_uri": "https://localhost:8080/"
    },
    "id": "wuzKRuUc5W4a",
    "outputId": "d4409b3d-5201-498a-ce94-1da495a1fa70"
   },
   "outputs": [
    {
     "name": "stdout",
     "output_type": "stream",
     "text": [
      "[(0,\n",
      "  '0.010*\"facebook\" + 0.009*\"study\" + 0.008*\"new\" + 0.007*\"say\" + '\n",
      "  '0.006*\"american\" + 0.005*\"user\" + 0.005*\"ceo\" + 0.005*\"help\" + '\n",
      "  '0.005*\"charge\" + 0.005*\"xbox\"'),\n",
      " (1,\n",
      "  '0.012*\"video\" + 0.012*\"new\" + 0.009*\"star\" + 0.009*\"watch\" + 0.007*\"review\" '\n",
      "  '+ 0.005*\"bieber\" + 0.005*\"movie\" + 0.005*\"bachelorette\" + 0.005*\"justin\" + '\n",
      "  '0.005*\"live\"'),\n",
      " (2,\n",
      "  '0.019*\"ebola\" + 0.016*\"google\" + 0.010*\"west\" + 0.010*\"ice\" + '\n",
      "  '0.010*\"challenge\" + 0.008*\"kardashian\" + 0.008*\"bucket\" + 0.008*\"amazon\" + '\n",
      "  '0.007*\"case\" + 0.007*\"kim\"'),\n",
      " (3,\n",
      "  '0.016*\"apple\" + 0.012*\"galaxy\" + 0.010*\"stock\" + 0.009*\"samsung\" + '\n",
      "  '0.009*\"microsoft\" + 0.008*\"sale\" + 0.008*\"price\" + 0.008*\"buy\" + '\n",
      "  '0.007*\"china\" + 0.007*\"high\"')]\n"
     ]
    }
   ],
   "source": [
    "pprint(lda_multi_model.print_topics())"
   ]
  },
  {
   "cell_type": "markdown",
   "metadata": {
    "id": "8QypUH8V5W4b"
   },
   "source": [
    "At first glance, our model seems to be coherent with the existing categories:\n",
    "- The first topic obviously corresponds to Business\n",
    "- The second one to Entertainment\n",
    "- The third one to Health\n",
    "- The fourth one to Science and Technology\n",
    "\n",
    "However, we can observe a mix between the two last categories. Is it because the Health category is smaller than the others or because there are less than 4 categories in reality?"
   ]
  },
  {
   "cell_type": "code",
   "execution_count": null,
   "metadata": {
    "colab": {
     "base_uri": "https://localhost:8080/",
     "height": 881
    },
    "id": "mYG9e3xZB5R8",
    "outputId": "7675a388-68e7-4133-986c-75f440ac6e1c",
    "scrolled": true
   },
   "outputs": [
    {
     "data": {
      "text/html": [
       "\n",
       "<link rel=\"stylesheet\" type=\"text/css\" href=\"https://cdn.rawgit.com/bmabey/pyLDAvis/files/ldavis.v1.0.0.css\">\n",
       "\n",
       "\n",
       "<div id=\"ldavis_el2891399391574416566488073471\"></div>\n",
       "<script type=\"text/javascript\">\n",
       "\n",
       "var ldavis_el2891399391574416566488073471_data = {\"mdsDat\": {\"x\": [0.3448299749431295, -0.20092548779177735, -0.01963832622470061, -0.12426616092665202], \"y\": [0.09345612414028674, 0.2817101375493222, -0.21260305400879492, -0.16256320768081423], \"topics\": [1, 2, 3, 4], \"cluster\": [1, 1, 1, 1], \"Freq\": [28.972223217222304, 26.987074302338886, 22.32194742980981, 21.718755050629]}, \"tinfo\": {\"Term\": [\"ebola\", \"apple\", \"google\", \"video\", \"galaxy\", \"stock\", \"west\", \"samsung\", \"star\", \"watch\", \"ice\", \"study\", \"challenge\", \"sale\", \"facebook\", \"kardashian\", \"buy\", \"amazon\", \"china\", \"case\", \"july\", \"microsoft\", \"market\", \"kim\", \"review\", \"virus\", \"bucket\", \"price\", \"car\", \"recall\", \"video\", \"star\", \"watch\", \"review\", \"bieber\", \"movie\", \"bachelorette\", \"justin\", \"live\", \"film\", \"season\", \"trailer\", \"beyonce\", \"music\", \"awards\", \"chris\", \"andi\", \"jay\", \"mtv\", \"z\", \"photo\", \"game\", \"cast\", \"finale\", \"fan\", \"true\", \"vma\", \"nick\", \"miley\", \"dead\", \"chelsea\", \"die\", \"new\", \"man\", \"get\", \"reveal\", \"good\", \"apple\", \"galaxy\", \"stock\", \"samsung\", \"sale\", \"buy\", \"china\", \"market\", \"july\", \"job\", \"billion\", \"iphone\", \"profit\", \"dollar\", \"rate\", \"mobile\", \"fall\", \"share\", \"fed\", \"android\", \"app\", \"phone\", \"low\", \"drop\", \"business\", \"bank\", \"close\", \"ipad\", \"ibm\", \"t\", \"high\", \"microsoft\", \"price\", \"rise\", \"deal\", \"update\", \"report\", \"new\", \"study\", \"american\", \"user\", \"charge\", \"xbox\", \"target\", \"people\", \"plane\", \"windows\", \"experiment\", \"airlines\", \"help\", \"attack\", \"flight\", \"lose\", \"e\", \"miss\", \"general\", \"control\", \"production\", \"alzheimer\", \"investigation\", \"space\", \"comic\", \"cancel\", \"security\", \"fine\", \"rule\", \"malaysia\", \"ban\", \"bang\", \"state\", \"facebook\", \"ceo\", \"risk\", \"say\", \"health\", \"new\", \"find\", \"change\", \"life\", \"microsoft\", \"face\", \"report\", \"ebola\", \"google\", \"west\", \"kardashian\", \"amazon\", \"case\", \"kim\", \"virus\", \"recall\", \"car\", \"gas\", \"house\", \"water\", \"outbreak\", \"uk\", \"nasa\", \"nile\", \"service\", \"gm\", \"court\", \"guardian\", \"cancer\", \"tim\", \"africa\", \"grow\", \"kanye\", \"sue\", \"cause\", \"kill\", \"mosquito\", \"als\", \"ice\", \"challenge\", \"bucket\", \"world\", \"million\", \"new\", \"report\", \"test\", \"say\"], \"Freq\": [11246.0, 11563.0, 9277.0, 9720.0, 8823.0, 7548.0, 6029.0, 6927.0, 7205.0, 7012.0, 6154.0, 5424.0, 6473.0, 5933.0, 7093.0, 4949.0, 5586.0, 4635.0, 5223.0, 4342.0, 5029.0, 8347.0, 4979.0, 4244.0, 5232.0, 4169.0, 5492.0, 7646.0, 3845.0, 3828.0, 9719.357594871815, 7205.091998112727, 7011.708223159682, 5232.103043312231, 4311.201113718615, 3986.6758656651427, 3929.9902586467065, 3842.0546664161707, 3720.7866685090994, 3491.7769788148344, 3385.09627526356, 3328.537099595885, 3147.203858972547, 3028.19961070403, 2935.370348866184, 2883.980071287228, 2757.3429923193994, 2740.1592342440977, 2752.721408893844, 2688.899824203648, 2713.5269507932762, 2654.4068009080643, 2522.462932349079, 2465.886381612732, 2282.948534913433, 2143.854825595982, 2195.171166712505, 2107.212654178615, 2090.7425678069517, 2172.170642296412, 2281.800116810686, 3352.715431858542, 9245.612669288326, 2863.397638875019, 2853.3328530851168, 2602.3849210987705, 2369.1176002152783, 11563.098915391807, 8822.469249599584, 7547.377740622305, 6926.751379027098, 5932.787494111093, 5585.272585551673, 5223.132013004735, 4979.027742351087, 5028.82793366969, 4430.946023993952, 4364.387252182317, 4272.700423664134, 4062.7779134243274, 3987.0597218306193, 3946.189611838703, 3918.4203750228085, 3887.9455642670005, 3884.4231872997902, 3680.919398994562, 3573.4237128961986, 3519.1913665336074, 3487.059533784817, 3249.6250176993485, 3298.9048930928884, 3257.329205781018, 3216.8172219056237, 3074.499280608102, 3132.917914661609, 3015.4559919628928, 2971.831754394112, 5218.467420337041, 6468.349949879519, 5746.0433193550025, 4040.709768901828, 4005.854455907298, 4171.441297273772, 4282.203506777254, 4628.886460819832, 5423.289062407657, 3539.5232893144985, 3305.633669856475, 2887.799443947294, 2840.5309365446974, 2644.2474028526576, 2198.9621185864357, 2153.688529269643, 2188.889690584244, 1983.0051151595737, 1942.6491812126355, 2998.38609313527, 1980.2901581073336, 1869.1533683878426, 1744.4027723081, 2085.1787299444295, 1673.4352133937361, 1658.6729904541064, 1646.6295697115136, 1728.8228152416364, 1651.1863511215286, 1617.5023130485097, 1517.3623526229694, 2325.2828154582967, 1544.1689931945837, 1504.0375017735755, 1486.9174930095182, 1473.3259030414272, 1462.9546930472295, 1441.174226376408, 1700.3096424439943, 2259.308533094795, 5954.256277837066, 3069.5067457776636, 2649.0207940862383, 4428.183817772214, 2805.690791602706, 4969.2110712928015, 2463.901282280435, 2083.4183656912433, 1833.8379920314933, 1879.1074513779483, 1733.889576781953, 1734.687657946491, 11246.192313496565, 9276.968855290632, 6029.140393957906, 4949.133701227403, 4634.530075748594, 4341.515898035029, 4243.638413958209, 4169.086867168316, 3827.917113613001, 3844.561750887447, 3191.1096032981995, 3172.2892272374916, 3109.297002892353, 2871.2200216852457, 2710.1053313390667, 2614.453469245748, 2522.8022395710354, 2376.8606321807374, 2210.8001613927004, 2170.932955901163, 3625.4905449574544, 2018.8195499324108, 2327.4374688713574, 1950.3630370229978, 2008.8053595221488, 1855.3406731659538, 1975.068798971343, 1816.694081797979, 1689.8718725229521, 1588.720942191728, 2715.085337196808, 5849.111380862884, 5828.775109863844, 4640.278559972696, 3832.3456330123727, 2919.7189602013277, 4186.983849822346, 3117.247553145705, 2353.325739723152, 2333.7881541376896], \"Total\": [11246.0, 11563.0, 9277.0, 9720.0, 8823.0, 7548.0, 6029.0, 6927.0, 7205.0, 7012.0, 6154.0, 5424.0, 6473.0, 5933.0, 7093.0, 4949.0, 5586.0, 4635.0, 5223.0, 4342.0, 5029.0, 8347.0, 4979.0, 4244.0, 5232.0, 4169.0, 5492.0, 7646.0, 3845.0, 3828.0, 9720.162460169122, 7205.881390201081, 7012.514967398806, 5232.91005704841, 4311.990139403548, 3987.466999594702, 3930.7747198521365, 3842.842007027921, 3721.5994060277676, 3492.56821807802, 3385.8878085195906, 3329.322931833689, 3147.9893042990825, 3029.0091550919974, 2936.1567060523557, 2884.766867669928, 2758.1261687716633, 2740.942355626451, 2753.5134780252592, 2689.6855322040565, 2714.3278519948394, 2655.2083722088714, 2523.25982900679, 2466.66972342406, 2283.7457984610214, 2144.6503683830924, 2195.9888851631767, 2107.998368150334, 2091.527136295955, 2172.9929583708595, 2282.663949802173, 4223.487254816926, 23030.694051223305, 4330.145105634399, 5845.463032730411, 4251.993617481603, 4153.025210092882, 11563.882140664988, 8823.270655320885, 7548.151790552755, 6927.525989452536, 5933.574356378788, 5586.07262494893, 5223.926063110946, 4979.807091232632, 5029.654437974978, 4431.739715879769, 4365.179186547364, 4273.483052581705, 4063.557070066092, 3987.840232373844, 3946.9704594286127, 3919.209845122048, 3888.7370197590226, 3885.217802601592, 3681.7029962811084, 3574.2128747040406, 3519.9843574021434, 3487.8601494290565, 3250.4113502060854, 3299.7053163478663, 3258.125167370597, 3217.6081449918165, 3075.308584575622, 3133.7445703564854, 3016.2615860585956, 2972.6319620843256, 5970.415141934006, 8347.965480574207, 7646.582731687644, 4920.300653977721, 5105.166924455304, 5836.483130088004, 9134.393313885521, 23030.694051223305, 5424.044262344257, 3540.2895666363015, 3306.393793485616, 2888.5685053467128, 2841.3523903802106, 2645.013627093461, 2199.7301804381796, 2154.4609754393005, 2189.7018053300603, 1983.7782849676457, 1943.40820472689, 2999.5726924964274, 1981.0774871842195, 1869.9205673787221, 1745.179490731069, 2086.1099625473507, 1674.208876515153, 1659.450452756283, 1647.4022512103393, 1729.6393104767094, 1651.9793520049511, 1618.2974780454792, 1518.126234623742, 2326.4574681171207, 1544.9540265936819, 1504.803780971455, 1487.686817396713, 1474.0941838668991, 1463.725009181736, 1441.9403908420418, 1701.2142118391876, 2323.170548333349, 7093.580630239042, 3540.3167553490002, 3134.729338249156, 10225.656685085585, 4842.277242191538, 23030.694051223305, 5305.756497165109, 3373.6359013414663, 2714.706003107598, 8347.965480574207, 2983.7762162506447, 9134.393313885521, 11246.975592801384, 9277.751971030199, 6029.911679697042, 4949.906052698514, 4635.314539783865, 4342.303246940985, 4244.409958823077, 4169.857589070156, 3828.6871404308704, 3845.3466946969306, 3191.8974370153205, 3173.1165399501187, 3110.1110671638244, 2871.99290456834, 2710.904057668427, 2615.2478680573754, 2523.5790978977475, 2377.6462665247464, 2211.575873443571, 2171.7168309506455, 3626.8786352802713, 2019.594901495359, 2328.3327001298526, 1951.1357619384037, 2009.6308167696152, 1856.1098475325598, 1975.9100850990305, 1817.497843030469, 1690.668265370498, 1589.493277175562, 2730.13682979726, 6154.521603007744, 6473.018271232942, 5492.011855452642, 5015.850675985778, 5227.6140257298275, 23030.694051223305, 9134.393313885521, 3719.3655931242274, 10225.656685085585], \"Category\": [\"Default\", \"Default\", \"Default\", \"Default\", \"Default\", \"Default\", \"Default\", \"Default\", \"Default\", \"Default\", \"Default\", \"Default\", \"Default\", \"Default\", \"Default\", \"Default\", \"Default\", \"Default\", \"Default\", \"Default\", \"Default\", \"Default\", \"Default\", \"Default\", \"Default\", \"Default\", \"Default\", \"Default\", \"Default\", \"Default\", \"Topic1\", \"Topic1\", \"Topic1\", \"Topic1\", \"Topic1\", \"Topic1\", \"Topic1\", \"Topic1\", \"Topic1\", \"Topic1\", \"Topic1\", \"Topic1\", \"Topic1\", \"Topic1\", \"Topic1\", \"Topic1\", \"Topic1\", \"Topic1\", \"Topic1\", \"Topic1\", \"Topic1\", \"Topic1\", \"Topic1\", \"Topic1\", \"Topic1\", \"Topic1\", \"Topic1\", \"Topic1\", \"Topic1\", \"Topic1\", \"Topic1\", \"Topic1\", \"Topic1\", \"Topic1\", \"Topic1\", \"Topic1\", \"Topic1\", \"Topic2\", \"Topic2\", \"Topic2\", \"Topic2\", \"Topic2\", \"Topic2\", \"Topic2\", \"Topic2\", \"Topic2\", \"Topic2\", \"Topic2\", \"Topic2\", \"Topic2\", \"Topic2\", \"Topic2\", \"Topic2\", \"Topic2\", \"Topic2\", \"Topic2\", \"Topic2\", \"Topic2\", \"Topic2\", \"Topic2\", \"Topic2\", \"Topic2\", \"Topic2\", \"Topic2\", \"Topic2\", \"Topic2\", \"Topic2\", \"Topic2\", \"Topic2\", \"Topic2\", \"Topic2\", \"Topic2\", \"Topic2\", \"Topic2\", \"Topic2\", \"Topic3\", \"Topic3\", \"Topic3\", \"Topic3\", \"Topic3\", \"Topic3\", \"Topic3\", \"Topic3\", \"Topic3\", \"Topic3\", \"Topic3\", \"Topic3\", \"Topic3\", \"Topic3\", \"Topic3\", \"Topic3\", \"Topic3\", \"Topic3\", \"Topic3\", \"Topic3\", \"Topic3\", \"Topic3\", \"Topic3\", \"Topic3\", \"Topic3\", \"Topic3\", \"Topic3\", \"Topic3\", \"Topic3\", \"Topic3\", \"Topic3\", \"Topic3\", \"Topic3\", \"Topic3\", \"Topic3\", \"Topic3\", \"Topic3\", \"Topic3\", \"Topic3\", \"Topic3\", \"Topic3\", \"Topic3\", \"Topic3\", \"Topic3\", \"Topic4\", \"Topic4\", \"Topic4\", \"Topic4\", \"Topic4\", \"Topic4\", \"Topic4\", \"Topic4\", \"Topic4\", \"Topic4\", \"Topic4\", \"Topic4\", \"Topic4\", \"Topic4\", \"Topic4\", \"Topic4\", \"Topic4\", \"Topic4\", \"Topic4\", \"Topic4\", \"Topic4\", \"Topic4\", \"Topic4\", \"Topic4\", \"Topic4\", \"Topic4\", \"Topic4\", \"Topic4\", \"Topic4\", \"Topic4\", \"Topic4\", \"Topic4\", \"Topic4\", \"Topic4\", \"Topic4\", \"Topic4\", \"Topic4\", \"Topic4\", \"Topic4\", \"Topic4\"], \"logprob\": [30.0, 29.0, 28.0, 27.0, 26.0, 25.0, 24.0, 23.0, 22.0, 21.0, 20.0, 19.0, 18.0, 17.0, 16.0, 15.0, 14.0, 13.0, 12.0, 11.0, 10.0, 9.0, 8.0, 7.0, 6.0, 5.0, 4.0, 3.0, 2.0, 1.0, -4.4028000831604, -4.702199935913086, -4.729400157928467, -5.02209997177124, -5.215700149536133, -5.294000148773193, -5.308300018310547, -5.330900192260742, -5.36299991607666, -5.426499843597412, -5.457600116729736, -5.474400043487549, -5.530399799346924, -5.568999767303467, -5.600100040435791, -5.617800235748291, -5.662700176239014, -5.668900012969971, -5.664400100708008, -5.68779993057251, -5.678699970245361, -5.700699806213379, -5.751699924468994, -5.774400234222412, -5.851500034332275, -5.914299964904785, -5.890699863433838, -5.931600093841553, -5.9394001960754395, -5.901199817657471, -5.8520002365112305, -5.467199802398682, -4.4527997970581055, -5.624899864196777, -5.628499984741211, -5.7204999923706055, -5.8144001960754395, -4.158100128173828, -4.428699970245361, -4.584799766540527, -4.670599937438965, -4.825500011444092, -4.885799884796143, -4.952899932861328, -5.000699996948242, -4.990799903869629, -5.117300033569336, -5.132500171661377, -5.15369987487793, -5.204100131988525, -5.222899913787842, -5.2332000732421875, -5.240300178527832, -5.2480998039245605, -5.249000072479248, -5.302800178527832, -5.332399845123291, -5.347700119018555, -5.356900215148926, -5.4274001121521, -5.412399768829346, -5.425099849700928, -5.437600135803223, -5.482800006866455, -5.464000225067139, -5.502200126647949, -5.5167999267578125, -4.953800201416016, -4.738999843597412, -4.857399940490723, -5.209499835968018, -5.218200206756592, -5.177700042724609, -5.151500225067139, -5.073599815368652, -4.725500106811523, -5.152200222015381, -5.2204999923706055, -5.3557000160217285, -5.372200012207031, -5.44379997253418, -5.628200054168701, -5.64900016784668, -5.632800102233887, -5.731599807739258, -5.752099990844727, -5.3180999755859375, -5.732900142669678, -5.7906999588012695, -5.859799861907959, -5.681300163269043, -5.901299953460693, -5.910200119018555, -5.917399883270264, -5.86870002746582, -5.914700031280518, -5.935299873352051, -5.999199867248535, -5.572299957275391, -5.9816999435424805, -6.007999897003174, -6.019499778747559, -6.02869987487793, -6.035699844360352, -6.0507001876831055, -5.88539981842041, -5.601099967956543, -4.6321001052856445, -5.2947001457214355, -5.441999912261963, -4.928199768066406, -5.384500026702881, -4.812900066375732, -5.514400005340576, -5.682199954986572, -5.809800148010254, -5.785399913787842, -5.865799903869629, -5.865300178527832, -3.9686999320983887, -4.161200046539307, -4.592199802398682, -4.789599895477295, -4.855199813842773, -4.920599937438965, -4.943399906158447, -4.961100101470947, -5.046500205993652, -5.042099952697754, -5.228400230407715, -5.234300136566162, -5.25439977645874, -5.334000110626221, -5.3917999267578125, -5.427700042724609, -5.463399887084961, -5.5229997634887695, -5.595399856567383, -5.61359977722168, -5.100800037384033, -5.686299800872803, -5.544000148773193, -5.720799922943115, -5.691199779510498, -5.770699977874756, -5.708199977874756, -5.791800022125244, -5.864099979400635, -5.92579984664917, -5.389999866485596, -4.622499942779541, -4.625999927520752, -4.854000091552734, -5.045300006866455, -5.317299842834473, -4.9567999839782715, -5.251800060272217, -5.5329999923706055, -5.541299819946289], \"loglift\": [30.0, 29.0, 28.0, 27.0, 26.0, 25.0, 24.0, 23.0, 22.0, 21.0, 20.0, 19.0, 18.0, 17.0, 16.0, 15.0, 14.0, 13.0, 12.0, 11.0, 10.0, 9.0, 8.0, 7.0, 6.0, 5.0, 4.0, 3.0, 2.0, 1.0, 1.2387, 1.2387, 1.2387, 1.2387, 1.2386, 1.2386, 1.2386, 1.2386, 1.2386, 1.2386, 1.2386, 1.2386, 1.2386, 1.2386, 1.2386, 1.2386, 1.2385, 1.2385, 1.2385, 1.2385, 1.2385, 1.2385, 1.2385, 1.2385, 1.2385, 1.2385, 1.2385, 1.2385, 1.2385, 1.2385, 1.2385, 1.0079, 0.3262, 0.8252, 0.5217, 0.7479, 0.6775, 1.3097, 1.3097, 1.3097, 1.3097, 1.3097, 1.3097, 1.3097, 1.3097, 1.3096, 1.3096, 1.3096, 1.3096, 1.3096, 1.3096, 1.3096, 1.3096, 1.3096, 1.3096, 1.3096, 1.3096, 1.3096, 1.3096, 1.3096, 1.3096, 1.3096, 1.3096, 1.3095, 1.3095, 1.3095, 1.3095, 1.1752, 1.0547, 1.0241, 1.1129, 1.0673, 0.9739, 0.5522, -0.2947, 1.4995, 1.4994, 1.4994, 1.4993, 1.4993, 1.4993, 1.4993, 1.4992, 1.4992, 1.4992, 1.4992, 1.4992, 1.4992, 1.4992, 1.4992, 1.4992, 1.4991, 1.4991, 1.4991, 1.4991, 1.4991, 1.4991, 1.4991, 1.4991, 1.4991, 1.4991, 1.4991, 1.4991, 1.4991, 1.4991, 1.4991, 1.4717, 1.3245, 1.3569, 1.3312, 0.6627, 0.9539, -0.034, 0.7326, 1.0176, 1.1073, 0.0084, 0.9568, -0.1616, 1.5269, 1.5269, 1.5269, 1.5268, 1.5268, 1.5268, 1.5268, 1.5268, 1.5268, 1.5268, 1.5267, 1.5267, 1.5267, 1.5267, 1.5267, 1.5267, 1.5267, 1.5267, 1.5266, 1.5266, 1.5266, 1.5266, 1.5266, 1.5266, 1.5266, 1.5266, 1.5266, 1.5266, 1.5265, 1.5265, 1.5215, 1.4761, 1.4222, 1.3585, 1.2579, 0.9445, -0.1779, 0.4519, 1.0693, 0.0496]}, \"token.table\": {\"Topic\": [4, 3, 1, 2, 3, 4, 3, 4, 3, 1, 2, 2, 2, 3, 1, 1, 3, 3, 2, 1, 1, 2, 1, 2, 3, 4, 2, 2, 3, 4, 4, 4, 1, 4, 2, 3, 3, 4, 3, 4, 3, 1, 2, 1, 2, 1, 3, 3, 4, 1, 2, 4, 1, 3, 4, 2, 2, 3, 4, 3, 1, 2, 3, 4, 2, 3, 2, 1, 2, 1, 1, 1, 3, 4, 3, 3, 2, 1, 4, 3, 1, 2, 3, 4, 4, 1, 2, 3, 4, 4, 1, 4, 3, 4, 3, 4, 2, 3, 4, 4, 2, 1, 4, 3, 2, 2, 1, 2, 2, 1, 4, 4, 4, 4, 1, 3, 1, 3, 2, 3, 1, 4, 2, 2, 3, 1, 2, 3, 4, 3, 2, 4, 1, 1, 1, 4, 1, 2, 3, 4, 1, 4, 4, 3, 2, 1, 3, 2, 4, 3, 2, 2, 4, 2, 3, 4, 1, 2, 3, 4, 1, 2, 4, 3, 4, 3, 2, 2, 1, 2, 3, 4, 1, 3, 4, 2, 3, 1, 3, 4, 2, 3, 4, 2, 3, 3, 4, 4, 1, 1, 4, 2, 3, 4, 3, 1, 4, 1, 1, 4, 4, 3, 1, 4, 3, 1], \"Freq\": [0.9994178970215403, 0.9997899542021603, 0.0021976920477079385, 0.0007325640159026462, 0.0029302560636105847, 0.9944556515878422, 0.9994071645001116, 0.9999321427313798, 0.999918208205614, 0.9995916906251737, 0.9996606596342863, 0.9997203517680204, 0.9999237158720352, 0.9994561105301585, 0.9996060475757403, 0.9998029091191047, 0.9993478295996046, 0.9992862675195531, 0.9998109947002829, 0.9996857345424486, 0.9997703753089554, 0.9997298652593694, 0.1540419107362386, 0.0003641652736081291, 0.0007283305472162582, 0.8448634347708596, 0.9996546580279158, 0.9998079822764675, 0.9993824886842845, 0.999705435236087, 0.9999098404579726, 0.9999301644947991, 0.9995007137226586, 0.9997260832895191, 0.13275648267627058, 0.8671540464173418, 0.09948990919151765, 0.900507268132541, 0.6174347383402377, 0.3823767702635173, 0.9998031878608175, 0.9997091337942098, 0.9998227266045195, 0.9997341665011054, 0.9995744867418558, 0.0004298380751440658, 0.999373524709953, 0.9997558269633031, 0.999669924301166, 0.999543045748476, 0.7846952037572054, 0.21527209908366665, 0.7938937180823437, 0.20551737169563802, 0.0007103134966439102, 0.99978930139502, 0.9997862486857927, 0.9994679271144483, 0.999913257320305, 0.9996076754274692, 0.2134878602928345, 0.08948392260311902, 0.581142778253964, 0.11596043902876098, 0.16056771035273587, 0.8393504367341434, 0.9998104732319831, 0.999673431928578, 0.9998090567648128, 0.9998373065198616, 0.9997284908402206, 0.1568108149034999, 0.4644012595219036, 0.37864534512155207, 0.9995383320006056, 0.9995076970675751, 0.9998559881737145, 0.9995449049417292, 0.9997188390187877, 0.9997285530546965, 0.488070831006071, 0.11205271444408571, 0.2172625150289906, 0.18253472719364802, 0.9997396094565483, 0.5704275510398401, 0.30002225774404423, 0.12954412091998058, 0.9999189490048294, 0.9996861031566837, 0.00027571917909591806, 0.9994820242227029, 0.5794794183924192, 0.42046332710155576, 0.9994756944879644, 0.00033338081870846044, 0.8739760763620409, 0.12561940537974908, 0.0003349850810126642, 0.9996481251362623, 0.9995817385121945, 0.04955706059280791, 0.9503581882207655, 0.9998161783914793, 0.9997624023465318, 0.9998869651345842, 0.9996561928329077, 0.9998330867949851, 0.9998698841077358, 0.9997808895014728, 0.9994020571928783, 0.9998169555767589, 0.9996047330016268, 0.9999034120579645, 0.32416033227636437, 0.6755796015850594, 0.9998389385953801, 0.9993241435982181, 0.9998734467235787, 0.9995046821109238, 0.6611787665671192, 0.33855678371896497, 0.9998379272092581, 0.7747995622467649, 0.2250847831573394, 0.9997479658347208, 0.24332324340307737, 0.1979870730520323, 0.5585722254221588, 0.9992779416403113, 0.9996913038163665, 0.9996896638805302, 0.9998828831449265, 0.9998135189715405, 0.999666836565911, 0.9995228490298694, 0.4014642363549998, 0.200992640070008, 0.2157555473121343, 0.18180086065524378, 0.999526390453893, 0.9997705251647433, 0.9996542802850381, 0.9996680590898498, 0.9997533876382064, 0.9998792142980818, 0.9997860367653183, 0.7514467836970392, 0.2484770081838452, 0.9996303793092369, 0.9998629107315373, 0.9997541254897678, 0.9998205284460007, 0.4687777121980041, 0.1899414597532782, 0.341237769481826, 0.6119482374813932, 0.09854201057060097, 0.1095956489878283, 0.1796804202289717, 0.9998260896827027, 0.8212912755103965, 0.178647619691571, 0.845049034274694, 0.15471830185852267, 0.9992577245885138, 0.9999032022952286, 0.9999240725399895, 0.16439042027020004, 0.17426753653866536, 0.4330284241263806, 0.2282493997088917, 0.9997377915129507, 0.9994658566242198, 0.9997281906338024, 0.9996865548693881, 0.9992581416498469, 0.9998776846088142, 0.9723780295082575, 0.027118112376724315, 0.9998474076058994, 0.99980747532768, 0.9995394096594304, 0.999787406550025, 0.9996167781205064, 0.367266934588319, 0.6326347709270239, 0.9994276161092536, 0.9999030037517235, 0.9996967485270885, 0.9996665106366013, 0.7146426892759833, 0.13758285291024086, 0.14769168020999704, 0.999880899399705, 0.9998804073312678, 0.9997943361249545, 0.9995496857156891, 0.9999265645205464, 0.9996427564354358, 0.9998488071226463, 0.999679497304906, 0.23585231627085906, 0.7639780861791479, 0.9998759779387436, 0.9997451255190064], \"Term\": [\"africa\", \"airlines\", \"als\", \"als\", \"als\", \"als\", \"alzheimer\", \"amazon\", \"american\", \"andi\", \"android\", \"app\", \"apple\", \"attack\", \"awards\", \"bachelorette\", \"ban\", \"bang\", \"bank\", \"beyonce\", \"bieber\", \"billion\", \"bucket\", \"bucket\", \"bucket\", \"bucket\", \"business\", \"buy\", \"cancel\", \"cancer\", \"car\", \"case\", \"cast\", \"cause\", \"ceo\", \"ceo\", \"challenge\", \"challenge\", \"change\", \"change\", \"charge\", \"chelsea\", \"china\", \"chris\", \"close\", \"comic\", \"comic\", \"control\", \"court\", \"dead\", \"deal\", \"deal\", \"die\", \"die\", \"die\", \"dollar\", \"drop\", \"e\", \"ebola\", \"experiment\", \"face\", \"face\", \"face\", \"face\", \"facebook\", \"facebook\", \"fall\", \"fan\", \"fed\", \"film\", \"finale\", \"find\", \"find\", \"find\", \"fine\", \"flight\", \"galaxy\", \"game\", \"gas\", \"general\", \"get\", \"get\", \"get\", \"get\", \"gm\", \"good\", \"good\", \"good\", \"google\", \"grow\", \"guardian\", \"guardian\", \"health\", \"health\", \"help\", \"help\", \"high\", \"high\", \"high\", \"house\", \"ibm\", \"ice\", \"ice\", \"investigation\", \"ipad\", \"iphone\", \"jay\", \"job\", \"july\", \"justin\", \"kanye\", \"kardashian\", \"kill\", \"kim\", \"life\", \"life\", \"live\", \"lose\", \"low\", \"malaysia\", \"man\", \"man\", \"market\", \"microsoft\", \"microsoft\", \"miley\", \"million\", \"million\", \"million\", \"miss\", \"mobile\", \"mosquito\", \"movie\", \"mtv\", \"music\", \"nasa\", \"new\", \"new\", \"new\", \"new\", \"nick\", \"nile\", \"outbreak\", \"people\", \"phone\", \"photo\", \"plane\", \"price\", \"price\", \"production\", \"profit\", \"rate\", \"recall\", \"report\", \"report\", \"report\", \"reveal\", \"reveal\", \"reveal\", \"reveal\", \"review\", \"rise\", \"rise\", \"risk\", \"risk\", \"rule\", \"sale\", \"samsung\", \"say\", \"say\", \"say\", \"say\", \"season\", \"security\", \"service\", \"share\", \"space\", \"star\", \"state\", \"state\", \"stock\", \"study\", \"sue\", \"t\", \"target\", \"test\", \"test\", \"tim\", \"trailer\", \"true\", \"uk\", \"update\", \"update\", \"update\", \"user\", \"video\", \"virus\", \"vma\", \"watch\", \"water\", \"west\", \"windows\", \"world\", \"world\", \"xbox\", \"z\"]}, \"R\": 30, \"lambda.step\": 0.01, \"plot.opts\": {\"xlab\": \"PC1\", \"ylab\": \"PC2\"}, \"topic.order\": [2, 4, 1, 3]};\n",
       "\n",
       "function LDAvis_load_lib(url, callback){\n",
       "  var s = document.createElement('script');\n",
       "  s.src = url;\n",
       "  s.async = true;\n",
       "  s.onreadystatechange = s.onload = callback;\n",
       "  s.onerror = function(){console.warn(\"failed to load library \" + url);};\n",
       "  document.getElementsByTagName(\"head\")[0].appendChild(s);\n",
       "}\n",
       "\n",
       "if(typeof(LDAvis) !== \"undefined\"){\n",
       "   // already loaded: just create the visualization\n",
       "   !function(LDAvis){\n",
       "       new LDAvis(\"#\" + \"ldavis_el2891399391574416566488073471\", ldavis_el2891399391574416566488073471_data);\n",
       "   }(LDAvis);\n",
       "}else if(typeof define === \"function\" && define.amd){\n",
       "   // require.js is available: use it to load d3/LDAvis\n",
       "   require.config({paths: {d3: \"https://cdnjs.cloudflare.com/ajax/libs/d3/3.5.5/d3.min\"}});\n",
       "   require([\"d3\"], function(d3){\n",
       "      window.d3 = d3;\n",
       "      LDAvis_load_lib(\"https://cdn.rawgit.com/bmabey/pyLDAvis/files/ldavis.v1.0.0.js\", function(){\n",
       "        new LDAvis(\"#\" + \"ldavis_el2891399391574416566488073471\", ldavis_el2891399391574416566488073471_data);\n",
       "      });\n",
       "    });\n",
       "}else{\n",
       "    // require.js not available: dynamically load d3 & LDAvis\n",
       "    LDAvis_load_lib(\"https://cdnjs.cloudflare.com/ajax/libs/d3/3.5.5/d3.min.js\", function(){\n",
       "         LDAvis_load_lib(\"https://cdn.rawgit.com/bmabey/pyLDAvis/files/ldavis.v1.0.0.js\", function(){\n",
       "                 new LDAvis(\"#\" + \"ldavis_el2891399391574416566488073471\", ldavis_el2891399391574416566488073471_data);\n",
       "            })\n",
       "         });\n",
       "}\n",
       "</script>"
      ],
      "text/plain": [
       "PreparedData(topic_coordinates=              x         y  topics  cluster       Freq\n",
       "topic                                                \n",
       "1      0.344830  0.093456       1        1  28.972223\n",
       "3     -0.200925  0.281710       2        1  26.987074\n",
       "0     -0.019638 -0.212603       3        1  22.321947\n",
       "2     -0.124266 -0.162563       4        1  21.718755, topic_info=          Term          Freq         Total Category  logprob  loglift\n",
       "12861    ebola  11246.000000  11246.000000  Default  30.0000  30.0000\n",
       "1640     apple  11563.000000  11563.000000  Default  29.0000  29.0000\n",
       "1695    google   9277.000000   9277.000000  Default  28.0000  28.0000\n",
       "1185     video   9720.000000   9720.000000  Default  27.0000  27.0000\n",
       "2032    galaxy   8823.000000   8823.000000  Default  26.0000  26.0000\n",
       "...        ...           ...           ...      ...      ...      ...\n",
       "189    million   2919.718960   5227.614026   Topic4  -5.3173   0.9445\n",
       "111        new   4186.983850  23030.694051   Topic4  -4.9568  -0.1779\n",
       "219     report   3117.247553   9134.393314   Topic4  -5.2518   0.4519\n",
       "93        test   2353.325740   3719.365593   Topic4  -5.5330   1.0693\n",
       "4          say   2333.788154  10225.656685   Topic4  -5.5413   0.0496\n",
       "\n",
       "[189 rows x 6 columns], token_table=       Topic      Freq      Term\n",
       "term                            \n",
       "1308       4  0.999418    africa\n",
       "664        3  0.999790  airlines\n",
       "43661      1  0.002198       als\n",
       "43661      2  0.000733       als\n",
       "43661      3  0.002930       als\n",
       "...      ...       ...       ...\n",
       "1324       3  0.999679   windows\n",
       "809        1  0.235852     world\n",
       "809        4  0.763978     world\n",
       "1305       3  0.999876      xbox\n",
       "8745       1  0.999745         z\n",
       "\n",
       "[206 rows x 3 columns], R=30, lambda_step=0.01, plot_opts={'xlab': 'PC1', 'ylab': 'PC2'}, topic_order=[2, 4, 1, 3])"
      ]
     },
     "execution_count": 68,
     "metadata": {
      "tags": []
     },
     "output_type": "execute_result"
    }
   ],
   "source": [
    "#%%time\n",
    "pyLDAvis.enable_notebook()\n",
    "vis = pyLDAvis.gensim.prepare(topic_model=lda_multi_model, \n",
    "                              corpus=bow, \n",
    "                              dictionary=id2word)\n",
    "vis"
   ]
  },
  {
   "cell_type": "markdown",
   "metadata": {},
   "source": [
    "![lda_multi_model-4_topics.png](attachment:NLP/Topic_Modeling_Text_Classification_PySpark/vizualisations/lda_multi_model-4_topics.png)"
   ]
  },
  {
   "cell_type": "markdown",
   "metadata": {
    "id": "WvINYVSKi5Zj"
   },
   "source": [
    "We can see that the first bubbles that represent repectively Entertainement and Business are explicitly separated. Whilst the two last ones overlapped at some level. This suggests that they share topics and thus have to be one sigle topic."
   ]
  },
  {
   "cell_type": "code",
   "execution_count": null,
   "metadata": {
    "colab": {
     "base_uri": "https://localhost:8080/"
    },
    "id": "kJqNOo1j5W4b",
    "outputId": "f0d1bc6f-3871-447d-abc8-bf82fd342281"
   },
   "outputs": [
    {
     "name": "stdout",
     "output_type": "stream",
     "text": [
      "CPU times: user 1min 19s, sys: 81.7 ms, total: 1min 19s\n",
      "Wall time: 1min 19s\n"
     ]
    }
   ],
   "source": [
    "%%time\n",
    "lda1 = LdaModel(corpus=bow, \n",
    "                num_topics=3, \n",
    "                id2word=id2word, \n",
    "                random_state=42)"
   ]
  },
  {
   "cell_type": "code",
   "execution_count": null,
   "metadata": {
    "colab": {
     "base_uri": "https://localhost:8080/"
    },
    "id": "U7GwPnPe5W4c",
    "outputId": "ab65a74e-a368-46de-ac95-e75aabc57073"
   },
   "outputs": [
    {
     "name": "stdout",
     "output_type": "stream",
     "text": [
      "[(0,\n",
      "  '0.030*\"ebola\" + 0.008*\"stock\" + 0.008*\"health\" + 0.007*\"say\" + '\n",
      "  '0.007*\"outbreak\" + 0.007*\"report\" + 0.006*\"case\" + 0.006*\"virus\" + '\n",
      "  '0.006*\"high\" + 0.006*\"china\"'),\n",
      " (1,\n",
      "  '0.016*\"apple\" + 0.012*\"galaxy\" + 0.011*\"new\" + 0.011*\"challenge\" + '\n",
      "  '0.010*\"microsoft\" + 0.008*\"price\" + 0.007*\"samsung\" + 0.007*\"google\" + '\n",
      "  '0.007*\"buy\" + 0.006*\"july\"'),\n",
      " (2,\n",
      "  '0.011*\"new\" + 0.010*\"video\" + 0.008*\"watch\" + 0.007*\"star\" + 0.006*\"ice\" + '\n",
      "  '0.006*\"guardian\" + 0.006*\"bucket\" + 0.005*\"review\" + 0.005*\"mtv\" + '\n",
      "  '0.005*\"bachelorette\"')]\n"
     ]
    }
   ],
   "source": [
    "pprint(lda1.print_topics())"
   ]
  },
  {
   "cell_type": "code",
   "execution_count": null,
   "metadata": {
    "colab": {
     "base_uri": "https://localhost:8080/"
    },
    "id": "ibgTbPzM5W4d",
    "outputId": "22a4c982-5e9c-40bc-874a-3e0c3cc14b77"
   },
   "outputs": [
    {
     "name": "stdout",
     "output_type": "stream",
     "text": [
      "Beyonce won a music award: Entertainment \n",
      " Topic Mix: {'Health': 0.06776138, 'Business & Technology': 0.067209005, 'Entertainment': 0.86502963}\n",
      "\n",
      "Samsung releases new product - stock rises: Business & Technology \n",
      " Topic Mix: {'Health': 0.3272729, 'Business & Technology': 0.62156874, 'Entertainment': 0.051158383}\n",
      "\n",
      "New cow disease outbreaks with multiple symptoms endagers humans: Health \n",
      " Topic Mix: {'Health': 0.7260087, 'Business & Technology': 0.22996916, 'Entertainment': 0.044022147}\n",
      "\n"
     ]
    }
   ],
   "source": [
    "topic_mapping = {\n",
    "    0: \"Health\",\n",
    "    1: \"Business & Technology\",\n",
    "    2: \"Entertainment\"\n",
    "}\n",
    "\n",
    "new_headlines = [\n",
    "    \"Beyonce won a music award\",\n",
    "    \"Samsung releases new product - stock rises\",\n",
    "    \"New cow disease outbreaks with multiple symptoms endagers humans\"\n",
    "]\n",
    "\n",
    "def rank_headline(headline):\n",
    "    bow_vector = id2word.doc2bow(text_process_spacy(headline))\n",
    "    lda_vector = lda1[bow_vector]\n",
    "    top_topic = topic_mapping[max(lda_vector, key=lambda item: item[1])[0]]\n",
    "    distribution = {topic_mapping[topic_no]: proportion for topic_no, proportion in lda_vector}\n",
    "    return top_topic, distribution\n",
    "\n",
    "for headline in new_headlines:\n",
    "    top_topic, distribution = rank_headline(headline)\n",
    "    print(f\"{headline}: {top_topic} \\n Topic Mix: {distribution}\\n\")"
   ]
  },
  {
   "cell_type": "markdown",
   "metadata": {
    "id": "hi0TVZt25W4e"
   },
   "source": [
    "## Applying Latent Dirichlet Allocation (LDA) Model with Tf-Idf"
   ]
  },
  {
   "cell_type": "code",
   "execution_count": null,
   "metadata": {
    "colab": {
     "base_uri": "https://localhost:8080/"
    },
    "id": "GYDxfTOw5W4f",
    "outputId": "9396b110-40fd-4075-b510-1c1946f6dc77"
   },
   "outputs": [
    {
     "name": "stdout",
     "output_type": "stream",
     "text": [
      "[(0,\n",
      "  '0.007*\"ice\" + 0.006*\"stock\" + 0.005*\"health\" + 0.005*\"price\" + '\n",
      "  '0.005*\"challenge\" + 0.005*\"job\" + 0.005*\"july\" + 0.004*\"report\" + '\n",
      "  '0.004*\"sale\" + 0.004*\"china\"'),\n",
      " (1,\n",
      "  '0.027*\"ebola\" + 0.007*\"guardian\" + 0.006*\"case\" + 0.006*\"microsoft\" + '\n",
      "  '0.005*\"virus\" + 0.005*\"apple\" + 0.005*\"buy\" + 0.005*\"burger\" + '\n",
      "  '0.005*\"bachelorette\" + 0.005*\"king\"'),\n",
      " (2,\n",
      "  '0.008*\"galaxy\" + 0.005*\"new\" + 0.005*\"ipad\" + 0.005*\"video\" + '\n",
      "  '0.004*\"iphone\" + 0.004*\"samsung\" + 0.004*\"mtv\" + 0.004*\"vma\" + '\n",
      "  '0.004*\"panda\" + 0.004*\"apple\"')]\n",
      "CPU times: user 13min 36s, sys: 481 ms, total: 13min 37s\n",
      "Wall time: 13min 36s\n"
     ]
    }
   ],
   "source": [
    "%%time\n",
    "tfidf_model = TfidfModel(bow)\n",
    "\n",
    "tf_idf_gensim = tfidf_model[bow]\n",
    "\n",
    "lda_tfidf = LdaModel(corpus=tf_idf_gensim, \n",
    "                num_topics=3, \n",
    "                id2word=id2word, \n",
    "                passes=10)\n",
    "\n",
    "# Print the main topics\n",
    "pprint(lda_tfidf.print_topics())"
   ]
  },
  {
   "cell_type": "markdown",
   "metadata": {
    "id": "bcx0BjE25W4g"
   },
   "source": [
    "Now it's easier to distinguish the different topics by reducing their numbers:\n",
    "- Health\n",
    "- Bunsiness, Science and Technology\n",
    "- Entertainment"
   ]
  },
  {
   "cell_type": "markdown",
   "metadata": {
    "id": "SzbMNViu5W4g"
   },
   "source": [
    "Let's evaluate our model:\n",
    "\n",
    "   - Coherence Score: Higher is better\n"
   ]
  },
  {
   "cell_type": "code",
   "execution_count": null,
   "metadata": {
    "colab": {
     "base_uri": "https://localhost:8080/"
    },
    "id": "FcFrGp8L5W4h",
    "outputId": "301216f9-6634-4929-bb43-8d31b0318ad5"
   },
   "outputs": [
    {
     "name": "stdout",
     "output_type": "stream",
     "text": [
      "coherence for lda with tfidf 0.46287866931982197\n"
     ]
    }
   ],
   "source": [
    "# check the coherence of the model\n",
    "# Improve your preprocessing or adjust num_topics to improve your coherence\n",
    "from gensim.models.coherencemodel import CoherenceModel\n",
    "\n",
    "\n",
    "coherencemodel = CoherenceModel(model=lda_tfidf, texts=corpus, dictionary=id2word)\n",
    "print(\"coherence for lda with tfidf\", coherencemodel.get_coherence())"
   ]
  },
  {
   "cell_type": "code",
   "execution_count": null,
   "metadata": {
    "colab": {
     "base_uri": "https://localhost:8080/",
     "height": 881
    },
    "id": "axq3lnnQ5W4h",
    "outputId": "43623f0f-eb25-411f-8ab2-de2e1ab26997"
   },
   "outputs": [
    {
     "data": {
      "text/html": [
       "\n",
       "<link rel=\"stylesheet\" type=\"text/css\" href=\"https://cdn.rawgit.com/bmabey/pyLDAvis/files/ldavis.v1.0.0.css\">\n",
       "\n",
       "\n",
       "<div id=\"ldavis_el2891399391575491289965112082\"></div>\n",
       "<script type=\"text/javascript\">\n",
       "\n",
       "var ldavis_el2891399391575491289965112082_data = {\"mdsDat\": {\"x\": [0.22217338418879157, -0.3129325176338687, 0.09075913344507709], \"y\": [0.21719019061378295, 0.07070219582721314, -0.28789238644099596], \"topics\": [1, 2, 3], \"cluster\": [1, 1, 1], \"Freq\": [34.851196157475556, 33.7844514150264, 31.364352427498037]}, \"tinfo\": {\"Term\": [\"ebola\", \"galaxy\", \"ice\", \"guardian\", \"case\", \"stock\", \"health\", \"virus\", \"price\", \"ipad\", \"buy\", \"burger\", \"bachelorette\", \"job\", \"iphone\", \"king\", \"samsung\", \"microsoft\", \"break\", \"billion\", \"mtv\", \"google\", \"amazon\", \"china\", \"vma\", \"high\", \"profit\", \"andi\", \"rise\", \"market\", \"galaxy\", \"iphone\", \"samsung\", \"bieber\", \"ipad\", \"beyonce\", \"mtv\", \"justin\", \"die\", \"kardashian\", \"phone\", \"fake\", \"awards\", \"brown\", \"blue\", \"nicki\", \"kim\", \"nasa\", \"minaj\", \"user\", \"jay\", \"child\", \"z\", \"album\", \"chelsea\", \"pro\", \"baby\", \"photo\", \"family\", \"windows\", \"battery\", \"vma\", \"flight\", \"doctor\", \"james\", \"airlines\", \"tony\", \"vmas\", \"pregnancy\", \"panda\", \"video\", \"west\", \"release\", \"new\", \"watch\", \"apple\", \"facebook\", \"launch\", \"get\", \"stock\", \"health\", \"price\", \"job\", \"profit\", \"high\", \"rise\", \"market\", \"dollar\", \"fall\", \"fed\", \"rate\", \"china\", \"study\", \"cut\", \"drop\", \"earning\", \"growth\", \"low\", \"gas\", \"risk\", \"share\", \"ice\", \"economy\", \"gain\", \"water\", \"global\", \"warn\", \"american\", \"bank\", \"change\", \"tim\", \"argentina\", \"nile\", \"leone\", \"sale\", \"july\", \"report\", \"challenge\", \"bucket\", \"say\", \"outbreak\", \"als\", \"hit\", \"bachelorette\", \"case\", \"buy\", \"amazon\", \"andi\", \"mobile\", \"break\", \"car\", \"tv\", \"africa\", \"trailer\", \"dorfman\", \"book\", \"t\", \"tesla\", \"true\", \"network\", \"finale\", \"games\", \"guardian\", \"m\", \"pay\", \"win\", \"thing\", \"online\", \"billion\", \"season\", \"xbox\", \"nick\", \"toll\", \"ebola\", \"virus\", \"burger\", \"comic\", \"man\", \"playstation\", \"film\", \"king\", \"google\", \"emmys\", \"emmy\", \"microsoft\", \"million\", \"apple\", \"review\", \"outbreak\", \"new\", \"big\", \"challenge\"], \"Freq\": [8671.0, 2743.0, 2585.0, 2284.0, 2049.0, 2008.0, 1888.0, 1755.0, 1795.0, 1762.0, 1589.0, 1585.0, 1559.0, 1593.0, 1609.0, 1467.0, 1534.0, 2368.0, 1382.0, 1364.0, 1499.0, 1399.0, 1311.0, 1401.0, 1492.0, 1388.0, 1366.0, 1252.0, 1339.0, 1337.0, 2742.14835204871, 1608.3154562210666, 1533.6411488584163, 1277.895370946427, 1761.329981430897, 1137.2633448265851, 1498.3801018079166, 1108.251932073541, 1193.3749786862513, 896.1972573458752, 1062.0092856485146, 1197.8983133522372, 1044.0918117221204, 888.8770548171767, 833.8711788534439, 918.4218292100991, 765.9600575693825, 764.782248626031, 936.6290954583014, 869.9568008259619, 717.9259980953241, 789.7117438609025, 713.8075535380312, 708.8723911334963, 984.0994516101001, 761.0978656571864, 716.0438107568535, 713.223037326204, 986.6233279172818, 700.1066122247828, 1021.0580447418234, 1482.7996896980087, 897.5922224623037, 856.5362484205605, 783.9953876174235, 786.2058167925657, 770.8255929176536, 959.5402419205445, 1260.300204257671, 1428.9573294884062, 1671.6207435539893, 1172.7391240590073, 1041.7876827509738, 1762.9353322623504, 1151.6978778076586, 1401.0196612308766, 976.7957155040714, 950.7136542682152, 945.8085827883561, 2008.1645920429535, 1887.2413200928886, 1794.618508479173, 1592.5254940814311, 1365.5672594665025, 1388.2698568235035, 1338.8291705797635, 1336.5876269752605, 1194.8382725733668, 1226.1627586783563, 1045.4501355742016, 1013.5019811232079, 1400.918243053366, 1159.3878682952536, 1123.8856874713308, 1048.8444568269574, 995.5833259276247, 934.6531081616423, 920.9164421402787, 863.8647657174406, 905.589531223673, 1013.5868168719758, 2583.5420314356975, 801.8003255911402, 777.7310380961566, 954.9969962095382, 773.7264180280047, 795.5282331318514, 877.2735946428014, 756.1915088746036, 880.3019958941859, 1245.5565187510351, 865.8505056363083, 996.8405479695373, 846.1460052613133, 1487.0275814097226, 1566.3419571188256, 1562.394623463643, 1655.0268342625134, 1399.9089650336405, 1311.0283255508666, 1205.4584604962488, 1055.0633952736466, 1009.9884684793943, 1558.3340088329721, 2048.4378282492385, 1588.9299828042206, 1311.305158819731, 1252.3075461628132, 1173.3010198604145, 1381.298970660127, 1006.8458205883802, 1053.1063440849885, 1160.41611715802, 1063.9932439928177, 921.0363358607675, 964.1331982176961, 943.1017759322347, 990.3351607722454, 1050.9058404989255, 1215.7399050913289, 986.3293761701524, 867.5997469828426, 2282.252222823253, 920.3701594085003, 922.3192671382538, 976.8760795626065, 817.6476460929398, 882.165361120762, 1362.8856910373984, 773.6510393202966, 896.4789776169588, 1044.8452596039087, 882.7658677398282, 8653.544856066826, 1754.0669711289277, 1583.982554477028, 1081.0824452604415, 1050.7380175918559, 1002.0320638460655, 967.2088482407146, 1459.1018509132114, 1383.6852002692983, 1204.2286528174407, 1119.6680984914758, 1919.8391439571287, 1186.2439196319935, 1673.0055733104286, 1143.9690209261405, 1256.3787749285775, 1394.1916213497148, 1131.0772729146722, 1176.2450293243242], \"Total\": [8671.0, 2743.0, 2585.0, 2284.0, 2049.0, 2008.0, 1888.0, 1755.0, 1795.0, 1762.0, 1589.0, 1585.0, 1559.0, 1593.0, 1609.0, 1467.0, 1534.0, 2368.0, 1382.0, 1364.0, 1499.0, 1399.0, 1311.0, 1401.0, 1492.0, 1388.0, 1366.0, 1252.0, 1339.0, 1337.0, 2743.161385990713, 1609.1195897341872, 1534.4098906352708, 1278.5888071119302, 1762.3865609152078, 1137.9497613182568, 1499.2899880988016, 1108.9400850006773, 1194.199220888039, 896.8720573739006, 1062.8128030068804, 1198.8352282132466, 1044.9335373444912, 889.6225311226077, 834.5908538493768, 919.230455824623, 766.6368750462492, 765.4758370404306, 937.4795370242301, 870.7769905686001, 718.6043219772488, 790.4673179922216, 714.493785480215, 709.5649555371418, 985.0755032436914, 761.8528718478036, 716.7588826403012, 713.9575094908627, 987.6436479646378, 700.8358407263783, 1022.6627313346216, 1492.1285484603989, 898.7522985979135, 857.8340350380814, 784.948520007299, 787.2521790972285, 771.8510775312825, 972.2048492181124, 1312.4859411229854, 1631.8412279725667, 2204.2627593747284, 1588.1784223934103, 1303.5315619719288, 3811.2508472591703, 1777.3709624143016, 3318.606759009701, 1375.8670116258745, 1413.8378022877368, 1494.5980246198737, 2008.8693645762987, 1888.0233779501139, 1795.3836987475827, 1593.241125160822, 1366.2798462687822, 1388.998500739177, 1339.5510699256897, 1337.31208572613, 1195.550409240971, 1226.899975263799, 1046.1433330972845, 1014.1888011008006, 1401.8890686120988, 1160.1931135688865, 1124.666849749282, 1049.6068867335725, 996.3070824127702, 935.344644459446, 921.6187267141396, 864.5496291430637, 906.3091383397509, 1014.4035947704377, 2585.6429998328504, 802.498102000182, 778.4263730802472, 955.8707962153886, 774.4498675148408, 796.2836565040617, 878.1067606617735, 756.9115995036918, 881.1421893033092, 1251.3980541079793, 867.0228794795125, 1001.7362116925307, 847.5813206949036, 1628.8751534822534, 1906.7812883536255, 2297.570981778313, 2832.4082933457903, 2562.5433532470697, 2523.061078374253, 2462.202920684532, 1583.9601603154852, 1559.8605961314856, 1559.036319675829, 2049.426460084909, 1589.7141432148503, 1311.9919803513087, 1252.9862350167032, 1174.0083789872117, 1382.2028914421915, 1007.5582691681966, 1053.8712057754624, 1161.259661702606, 1064.7711986762044, 921.7131818161546, 964.8696432192265, 943.8222424153868, 991.0986069992223, 1051.7173625899748, 1216.6833277772835, 987.1029452286999, 868.2856379688874, 2284.0754489173924, 921.1249787403302, 923.0844083901745, 977.7045947342484, 818.3751756296856, 882.9529382400895, 1364.1085372650832, 774.3461207531329, 897.2844220107144, 1045.7909235390023, 883.5686935417484, 8671.779763640208, 1755.774187557594, 1585.4705832022014, 1082.4209112044005, 1052.1736190771462, 1003.1096865380406, 968.4001361027451, 1467.0059090566488, 1399.0409626840617, 1214.1900842273058, 1150.7848915051443, 2368.7219669448655, 1336.518522611972, 3318.606759009701, 1609.04181073965, 2462.202920684532, 3811.2508472591703, 1953.489043638178, 2832.4082933457903], \"Category\": [\"Default\", \"Default\", \"Default\", \"Default\", \"Default\", \"Default\", \"Default\", \"Default\", \"Default\", \"Default\", \"Default\", \"Default\", \"Default\", \"Default\", \"Default\", \"Default\", \"Default\", \"Default\", \"Default\", \"Default\", \"Default\", \"Default\", \"Default\", \"Default\", \"Default\", \"Default\", \"Default\", \"Default\", \"Default\", \"Default\", \"Topic1\", \"Topic1\", \"Topic1\", \"Topic1\", \"Topic1\", \"Topic1\", \"Topic1\", \"Topic1\", \"Topic1\", \"Topic1\", \"Topic1\", \"Topic1\", \"Topic1\", \"Topic1\", \"Topic1\", \"Topic1\", \"Topic1\", \"Topic1\", \"Topic1\", \"Topic1\", \"Topic1\", \"Topic1\", \"Topic1\", \"Topic1\", \"Topic1\", \"Topic1\", \"Topic1\", \"Topic1\", \"Topic1\", \"Topic1\", \"Topic1\", \"Topic1\", \"Topic1\", \"Topic1\", \"Topic1\", \"Topic1\", \"Topic1\", \"Topic1\", \"Topic1\", \"Topic1\", \"Topic1\", \"Topic1\", \"Topic1\", \"Topic1\", \"Topic1\", \"Topic1\", \"Topic1\", \"Topic1\", \"Topic1\", \"Topic2\", \"Topic2\", \"Topic2\", \"Topic2\", \"Topic2\", \"Topic2\", \"Topic2\", \"Topic2\", \"Topic2\", \"Topic2\", \"Topic2\", \"Topic2\", \"Topic2\", \"Topic2\", \"Topic2\", \"Topic2\", \"Topic2\", \"Topic2\", \"Topic2\", \"Topic2\", \"Topic2\", \"Topic2\", \"Topic2\", \"Topic2\", \"Topic2\", \"Topic2\", \"Topic2\", \"Topic2\", \"Topic2\", \"Topic2\", \"Topic2\", \"Topic2\", \"Topic2\", \"Topic2\", \"Topic2\", \"Topic2\", \"Topic2\", \"Topic2\", \"Topic2\", \"Topic2\", \"Topic2\", \"Topic2\", \"Topic2\", \"Topic2\", \"Topic3\", \"Topic3\", \"Topic3\", \"Topic3\", \"Topic3\", \"Topic3\", \"Topic3\", \"Topic3\", \"Topic3\", \"Topic3\", \"Topic3\", \"Topic3\", \"Topic3\", \"Topic3\", \"Topic3\", \"Topic3\", \"Topic3\", \"Topic3\", \"Topic3\", \"Topic3\", \"Topic3\", \"Topic3\", \"Topic3\", \"Topic3\", \"Topic3\", \"Topic3\", \"Topic3\", \"Topic3\", \"Topic3\", \"Topic3\", \"Topic3\", \"Topic3\", \"Topic3\", \"Topic3\", \"Topic3\", \"Topic3\", \"Topic3\", \"Topic3\", \"Topic3\", \"Topic3\", \"Topic3\", \"Topic3\", \"Topic3\", \"Topic3\", \"Topic3\", \"Topic3\", \"Topic3\", \"Topic3\", \"Topic3\"], \"logprob\": [30.0, 29.0, 28.0, 27.0, 26.0, 25.0, 24.0, 23.0, 22.0, 21.0, 20.0, 19.0, 18.0, 17.0, 16.0, 15.0, 14.0, 13.0, 12.0, 11.0, 10.0, 9.0, 8.0, 7.0, 6.0, 5.0, 4.0, 3.0, 2.0, 1.0, -4.874599933624268, -5.408100128173828, -5.455699920654297, -5.6381001472473145, -5.317200183868408, -5.754700183868408, -5.478899955749512, -5.7804999351501465, -5.706500053405762, -5.9928998947143555, -5.823200225830078, -5.7027997970581055, -5.840199947357178, -6.001100063323975, -6.065000057220459, -5.968400001525879, -6.149899959564209, -6.151500225067139, -5.948800086975098, -6.022600173950195, -6.214700222015381, -6.1194000244140625, -6.2204999923706055, -6.227399826049805, -5.8993000984191895, -6.156300067901611, -6.217299938201904, -6.22130012512207, -5.8968000411987305, -6.239799976348877, -5.862500190734863, -5.4893999099731445, -5.991399765014648, -6.0381999015808105, -6.126699924468994, -6.123899936676025, -6.143599987030029, -5.924600124359131, -5.6519999504089355, -5.526400089263916, -5.369500160217285, -5.723999977111816, -5.842400074005127, -5.316299915313721, -5.742099761962891, -5.54610013961792, -5.906799793243408, -5.933899879455566, -5.939000129699707, -5.15500020980835, -5.217100143432617, -5.267399787902832, -5.386899948120117, -5.5406999588012695, -5.524199962615967, -5.560400009155273, -5.562099933624268, -5.674200057983398, -5.6483001708984375, -5.807799816131592, -5.838799953460693, -5.515100002288818, -5.7042999267578125, -5.735400199890137, -5.804500102996826, -5.8566999435424805, -5.9197998046875, -5.934599876403809, -5.998600006103516, -5.951399803161621, -5.838699817657471, -4.90310001373291, -6.0731000900268555, -6.103600025177002, -5.8983001708984375, -6.108799934387207, -6.080999851226807, -5.9832000732421875, -6.131700038909912, -5.979700088500977, -5.632599830627441, -5.996300220489502, -5.855400085449219, -6.0192999839782715, -5.45550012588501, -5.403500080108643, -5.406000137329102, -5.348400115966797, -5.5157999992370605, -5.581399917602539, -5.66540002822876, -5.798600196838379, -5.842299938201904, -5.3343000411987305, -5.060800075531006, -5.314799785614014, -5.506899833679199, -5.5528998374938965, -5.618100166320801, -5.454899787902832, -5.771100044250488, -5.726200103759766, -5.6290998458862305, -5.71589994430542, -5.860199928283691, -5.8144001960754395, -5.83650016784668, -5.787600040435791, -5.728300094604492, -5.582600116729736, -5.7916998863220215, -5.919899940490723, -4.952700138092041, -5.860899925231934, -5.858799934387207, -5.801300048828125, -5.9791998863220215, -5.903299808502197, -5.468299865722656, -6.0345001220703125, -5.887199878692627, -5.734000205993652, -5.902599811553955, -3.6198999881744385, -5.216000080108643, -5.317999839782715, -5.699900150299072, -5.728400230407715, -5.775899887084961, -5.811200141906738, -5.400100231170654, -5.453199863433838, -5.592100143432617, -5.664899826049805, -5.125699996948242, -5.607100009918213, -5.263299942016602, -5.643400192260742, -5.549699783325195, -5.4456000328063965, -5.654699802398682, -5.615600109100342], \"loglift\": [30.0, 29.0, 28.0, 27.0, 26.0, 25.0, 24.0, 23.0, 22.0, 21.0, 20.0, 19.0, 18.0, 17.0, 16.0, 15.0, 14.0, 13.0, 12.0, 11.0, 10.0, 9.0, 8.0, 7.0, 6.0, 5.0, 4.0, 3.0, 2.0, 1.0, 1.0537, 1.0536, 1.0536, 1.0535, 1.0535, 1.0535, 1.0535, 1.0535, 1.0534, 1.0533, 1.0533, 1.0533, 1.0533, 1.0532, 1.0532, 1.0532, 1.0532, 1.0532, 1.0532, 1.0531, 1.0531, 1.0531, 1.0531, 1.0531, 1.0531, 1.0531, 1.0531, 1.0531, 1.053, 1.053, 1.0525, 1.0478, 1.0528, 1.0526, 1.0529, 1.0528, 1.0528, 1.041, 1.0135, 0.9213, 0.7775, 0.7508, 0.8299, 0.2831, 0.6202, 0.1917, 0.7115, 0.6572, 0.5965, 1.0848, 1.0848, 1.0847, 1.0847, 1.0846, 1.0846, 1.0846, 1.0846, 1.0846, 1.0846, 1.0845, 1.0845, 1.0845, 1.0845, 1.0845, 1.0844, 1.0844, 1.0844, 1.0844, 1.0844, 1.0844, 1.0844, 1.0844, 1.0843, 1.0843, 1.0843, 1.0842, 1.0842, 1.0842, 1.0842, 1.0842, 1.0805, 1.0838, 1.0803, 1.0835, 0.9941, 0.8885, 0.6995, 0.5479, 0.4806, 0.4305, 0.371, 0.6788, 0.6505, 1.159, 1.159, 1.159, 1.159, 1.159, 1.1589, 1.1588, 1.1588, 1.1588, 1.1588, 1.1588, 1.1588, 1.1587, 1.1587, 1.1587, 1.1587, 1.1587, 1.1587, 1.1587, 1.1587, 1.1587, 1.1587, 1.1587, 1.1586, 1.1586, 1.1586, 1.1586, 1.1586, 1.1586, 1.1586, 1.1574, 1.1585, 1.1586, 1.1583, 1.1581, 1.1584, 1.1583, 1.1541, 1.1485, 1.1513, 1.1321, 0.9494, 1.0402, 0.4746, 0.8184, 0.4867, 0.1539, 0.6131, 0.2807]}, \"token.table\": {\"Topic\": [3, 1, 2, 1, 1, 2, 3, 3, 2, 3, 1, 2, 3, 2, 3, 1, 1, 3, 2, 1, 3, 1, 1, 1, 2, 3, 2, 3, 1, 3, 3, 1, 1, 2, 3, 1, 2, 3, 3, 3, 2, 3, 1, 2, 3, 2, 1, 3, 1, 2, 3, 1, 3, 2, 1, 1, 2, 3, 2, 3, 2, 2, 2, 3, 2, 1, 3, 1, 2, 3, 1, 3, 1, 2, 1, 3, 2, 1, 3, 3, 1, 2, 2, 1, 3, 3, 2, 1, 2, 3, 2, 1, 3, 2, 1, 3, 2, 2, 1, 2, 3, 1, 2, 3, 1, 2, 1, 1, 3, 1, 2, 1, 2, 3, 1, 1, 1, 1, 3, 1, 3, 2, 3, 2, 3, 1, 3, 2, 1, 2, 3, 2, 3, 1, 3, 1, 3, 1, 2, 3, 1, 2, 3, 1, 3, 1, 1, 2, 3, 3, 2, 3, 1, 2, 3, 3, 1, 1, 1, 2, 3, 1, 2, 2, 1, 2, 2, 1, 3, 1, 2, 3, 1, 3, 2, 2, 2, 3, 1, 1, 2, 3, 3, 2, 2, 2, 3, 3, 3, 2, 3, 3, 1, 3, 3, 3, 3, 1, 1, 3, 2, 3, 1, 2, 3, 1, 2, 3, 2, 1, 3, 2, 1, 2, 3, 3, 1, 3, 1], \"Freq\": [0.9989152626719513, 0.9984094307637682, 0.001270241006060774, 0.9992038001133889, 0.17677212281919452, 0.6660521056223222, 0.15720092350706943, 0.99924391279355, 0.9987396058072262, 0.9992128923773133, 0.42216511377746657, 0.07382616193824362, 0.5041272200925778, 0.9988202393457868, 0.0011533721008611857, 0.9991066060078198, 0.9989412302258387, 0.9993352818900046, 0.998795632800066, 0.9983741156456815, 0.000977839486430638, 0.9991653750011278, 0.9995394867304835, 0.15817851705199146, 0.26260705258146155, 0.5789640866854444, 0.0007330794967421811, 0.9991873540595928, 0.9992920437042275, 0.999098693564112, 0.999129728747032, 0.9993002300404621, 0.2735563474903726, 0.546332220380202, 0.1798993954251951, 0.0006307275647967453, 0.0006307275647967453, 0.9990724626380445, 0.9995507725600238, 0.9994459187272042, 0.00048794139212907854, 0.9993039710803528, 0.00035305644399831465, 0.5843084148172107, 0.41519437814201804, 0.9987037400805739, 0.9989082022239413, 0.0010151506120162006, 0.9994088079524798, 0.9993658067303578, 0.0007133232025198842, 0.0009238550268650192, 0.9986872840410859, 0.9994070690805632, 0.9989957949502368, 0.9990277431251088, 0.001165726654755086, 0.001165726654755086, 0.9995396185416218, 0.9992262432281273, 0.9994217961588827, 0.9996917793537846, 0.002075698471433968, 0.9979496984327535, 0.9993793106813081, 0.026938136074635303, 0.9732487872126303, 0.007412348459201492, 0.0008235942732446103, 0.9916075049865107, 0.7100976996646429, 0.28999895820490534, 0.9993033002421096, 0.999266464029714, 0.9993482993932434, 0.0010125109416344918, 0.9989070970859227, 0.0010326309990252853, 0.9985541760574509, 0.9988826441719871, 0.9991629522404704, 0.0011126536216486307, 0.999452262802248, 0.9995766249858123, 0.0003645428975148841, 0.9996710322543678, 0.9993642595814788, 0.6329461061883843, 0.04616625933086524, 0.3211565866494973, 0.9994191134459298, 0.010721630316829668, 0.9892490905661507, 0.999631532118682, 0.0004378139086753814, 0.9990913395972204, 0.9994579633059285, 0.9992811362009062, 0.06410829291284352, 0.6474937584197197, 0.2884873181077959, 0.0003867509938783681, 0.9993645681817032, 0.0003867509938783681, 0.9992132481341166, 0.0005674124066633257, 0.9993042221713476, 0.9987916150128034, 0.0012739688967000045, 0.9991590337564544, 0.999848657458677, 0.17831095893203705, 0.8212792990810882, 0.0005244439968589325, 0.9991522670941445, 0.9990276680305393, 0.9991692611365572, 0.004771623588415753, 0.9945426879283691, 0.6726372703157201, 0.3274774512683264, 0.9981343138926101, 0.0011798277941993027, 0.9993286521896689, 0.9987786904423451, 0.000950413488676035, 0.9988845765985127, 0.9997666320902495, 0.18913152588263546, 0.0004221685845594542, 0.810563682354152, 0.11223189014010329, 0.8873801447077501, 0.9994884826758434, 0.9991410802467342, 0.9991396006716237, 0.0006669823769503496, 0.9993783774517686, 0.0008219065529786335, 0.9994383684220184, 0.4625777915583402, 0.1715972068514773, 0.36575918402287366, 0.0009562140744308205, 0.9992437077802074, 0.9986614283536557, 0.0009982667975138913, 0.9952719971213495, 0.003993067190055565, 0.9989207372229953, 0.48939914329440837, 0.5101123020562464, 0.8756979389320977, 0.06373169044712257, 0.06066766686793399, 0.9988252337702619, 0.9992352340839508, 0.9986588704815984, 0.0009968999536344098, 0.0009968999536344098, 0.9988937535416786, 0.9600102831744791, 0.03961947200402612, 0.9997862859355077, 0.9988805294574331, 0.9997951764643631, 0.9998138402824054, 0.7993669124694651, 0.2002253014918718, 0.13927752506358734, 0.6798484192166357, 0.18062554031683983, 0.2889918688851517, 0.7109821462464808, 0.9995886159639137, 0.9996589040905874, 0.9128999216551686, 0.08656280360012024, 0.9997328675748427, 0.23701368354717922, 0.5196069216226622, 0.24335518678589974, 0.9995530154489619, 0.9996021359027921, 0.9995672368787992, 0.9989716250209275, 0.9991288164461112, 0.9988915260384145, 0.9995415603492653, 0.9956863812515457, 0.003995531224925946, 0.9993563674834733, 0.9988973552592495, 0.0012955867123985076, 0.9992757141842649, 0.9993179131433105, 0.9991733280398136, 0.9991077042951114, 0.7585302581958457, 0.24135053669867818, 0.0005695493230772863, 0.9989895126775602, 0.9938821970333469, 0.0006701835448640236, 0.006031651903776212, 0.9874462164759535, 0.0010285898088291184, 0.01234307770594942, 0.999643774549754, 0.6481483181401673, 0.35164296774097614, 0.9990890021759882, 0.7385820027905116, 0.2606760009848864, 0.0012593043525839923, 0.9992793378101696, 0.9988073658939703, 0.9985685452915407, 0.9993089016444234], \"Term\": [\"africa\", \"airlines\", \"airlines\", \"album\", \"als\", \"als\", \"als\", \"amazon\", \"american\", \"andi\", \"apple\", \"apple\", \"apple\", \"argentina\", \"argentina\", \"awards\", \"baby\", \"bachelorette\", \"bank\", \"battery\", \"battery\", \"beyonce\", \"bieber\", \"big\", \"big\", \"big\", \"billion\", \"billion\", \"blue\", \"book\", \"break\", \"brown\", \"bucket\", \"bucket\", \"bucket\", \"burger\", \"burger\", \"burger\", \"buy\", \"car\", \"case\", \"case\", \"challenge\", \"challenge\", \"challenge\", \"change\", \"chelsea\", \"chelsea\", \"child\", \"china\", \"china\", \"comic\", \"comic\", \"cut\", \"die\", \"doctor\", \"doctor\", \"doctor\", \"dollar\", \"dorfman\", \"drop\", \"earning\", \"ebola\", \"ebola\", \"economy\", \"emmy\", \"emmy\", \"emmys\", \"emmys\", \"emmys\", \"facebook\", \"facebook\", \"fake\", \"fall\", \"family\", \"family\", \"fed\", \"film\", \"film\", \"finale\", \"flight\", \"flight\", \"gain\", \"galaxy\", \"galaxy\", \"games\", \"gas\", \"get\", \"get\", \"get\", \"global\", \"google\", \"google\", \"growth\", \"guardian\", \"guardian\", \"health\", \"high\", \"hit\", \"hit\", \"hit\", \"ice\", \"ice\", \"ice\", \"ipad\", \"ipad\", \"iphone\", \"james\", \"james\", \"jay\", \"job\", \"july\", \"july\", \"july\", \"justin\", \"kardashian\", \"kim\", \"king\", \"king\", \"launch\", \"launch\", \"leone\", \"leone\", \"low\", \"m\", \"man\", \"man\", \"market\", \"microsoft\", \"microsoft\", \"microsoft\", \"million\", \"million\", \"minaj\", \"mobile\", \"mtv\", \"mtv\", \"nasa\", \"network\", \"network\", \"new\", \"new\", \"new\", \"nick\", \"nick\", \"nicki\", \"nile\", \"nile\", \"nile\", \"online\", \"outbreak\", \"outbreak\", \"panda\", \"panda\", \"panda\", \"pay\", \"phone\", \"photo\", \"playstation\", \"playstation\", \"playstation\", \"pregnancy\", \"pregnancy\", \"price\", \"pro\", \"profit\", \"rate\", \"release\", \"release\", \"report\", \"report\", \"report\", \"review\", \"review\", \"rise\", \"risk\", \"sale\", \"sale\", \"samsung\", \"say\", \"say\", \"say\", \"season\", \"share\", \"stock\", \"study\", \"t\", \"tesla\", \"thing\", \"tim\", \"tim\", \"toll\", \"tony\", \"tony\", \"trailer\", \"true\", \"tv\", \"user\", \"video\", \"video\", \"virus\", \"virus\", \"vma\", \"vma\", \"vma\", \"vmas\", \"vmas\", \"vmas\", \"warn\", \"watch\", \"watch\", \"water\", \"west\", \"west\", \"west\", \"win\", \"windows\", \"xbox\", \"z\"]}, \"R\": 30, \"lambda.step\": 0.01, \"plot.opts\": {\"xlab\": \"PC1\", \"ylab\": \"PC2\"}, \"topic.order\": [3, 1, 2]};\n",
       "\n",
       "function LDAvis_load_lib(url, callback){\n",
       "  var s = document.createElement('script');\n",
       "  s.src = url;\n",
       "  s.async = true;\n",
       "  s.onreadystatechange = s.onload = callback;\n",
       "  s.onerror = function(){console.warn(\"failed to load library \" + url);};\n",
       "  document.getElementsByTagName(\"head\")[0].appendChild(s);\n",
       "}\n",
       "\n",
       "if(typeof(LDAvis) !== \"undefined\"){\n",
       "   // already loaded: just create the visualization\n",
       "   !function(LDAvis){\n",
       "       new LDAvis(\"#\" + \"ldavis_el2891399391575491289965112082\", ldavis_el2891399391575491289965112082_data);\n",
       "   }(LDAvis);\n",
       "}else if(typeof define === \"function\" && define.amd){\n",
       "   // require.js is available: use it to load d3/LDAvis\n",
       "   require.config({paths: {d3: \"https://cdnjs.cloudflare.com/ajax/libs/d3/3.5.5/d3.min\"}});\n",
       "   require([\"d3\"], function(d3){\n",
       "      window.d3 = d3;\n",
       "      LDAvis_load_lib(\"https://cdn.rawgit.com/bmabey/pyLDAvis/files/ldavis.v1.0.0.js\", function(){\n",
       "        new LDAvis(\"#\" + \"ldavis_el2891399391575491289965112082\", ldavis_el2891399391575491289965112082_data);\n",
       "      });\n",
       "    });\n",
       "}else{\n",
       "    // require.js not available: dynamically load d3 & LDAvis\n",
       "    LDAvis_load_lib(\"https://cdnjs.cloudflare.com/ajax/libs/d3/3.5.5/d3.min.js\", function(){\n",
       "         LDAvis_load_lib(\"https://cdn.rawgit.com/bmabey/pyLDAvis/files/ldavis.v1.0.0.js\", function(){\n",
       "                 new LDAvis(\"#\" + \"ldavis_el2891399391575491289965112082\", ldavis_el2891399391575491289965112082_data);\n",
       "            })\n",
       "         });\n",
       "}\n",
       "</script>"
      ],
      "text/plain": [
       "PreparedData(topic_coordinates=              x         y  topics  cluster       Freq\n",
       "topic                                                \n",
       "2      0.222173  0.217190       1        1  34.851196\n",
       "0     -0.312933  0.070702       2        1  33.784451\n",
       "1      0.090759 -0.287892       3        1  31.364352, topic_info=            Term         Freq        Total Category  logprob  loglift\n",
       "12861      ebola  8671.000000  8671.000000  Default  30.0000  30.0000\n",
       "2032      galaxy  2743.000000  2743.000000  Default  29.0000  29.0000\n",
       "4999         ice  2585.000000  2585.000000  Default  28.0000  28.0000\n",
       "10249   guardian  2284.000000  2284.000000  Default  27.0000  27.0000\n",
       "1587        case  2049.000000  2049.000000  Default  26.0000  26.0000\n",
       "...          ...          ...          ...      ...      ...      ...\n",
       "1290      review  1143.969021  1609.041811   Topic3  -5.6434   0.8184\n",
       "10535   outbreak  1256.378775  2462.202921   Topic3  -5.5497   0.4867\n",
       "111          new  1394.191621  3811.250847   Topic3  -5.4456   0.1539\n",
       "774          big  1131.077273  1953.489044   Topic3  -5.6547   0.6131\n",
       "1238   challenge  1176.245029  2832.408293   Topic3  -5.6156   0.2807\n",
       "\n",
       "[172 rows x 6 columns], token_table=       Topic      Freq      Term\n",
       "term                            \n",
       "1308       3  0.998915    africa\n",
       "664        1  0.998409  airlines\n",
       "664        2  0.001270  airlines\n",
       "2526       1  0.999204     album\n",
       "43661      1  0.176772       als\n",
       "...      ...       ...       ...\n",
       "865        3  0.001259      west\n",
       "216        3  0.999279       win\n",
       "1324       1  0.998807   windows\n",
       "1305       3  0.998569      xbox\n",
       "8745       1  0.999309         z\n",
       "\n",
       "[219 rows x 3 columns], R=30, lambda_step=0.01, plot_opts={'xlab': 'PC1', 'ylab': 'PC2'}, topic_order=[3, 1, 2])"
      ]
     },
     "execution_count": 69,
     "metadata": {
      "tags": []
     },
     "output_type": "execute_result"
    }
   ],
   "source": [
    "# visualize different topics\n",
    "pyLDAvis.enable_notebook()\n",
    "vis = pyLDAvis.gensim.prepare(topic_model=lda_tfidf, \n",
    "                              corpus=tf_idf_gensim, \n",
    "                              dictionary=id2word)\n",
    "vis"
   ]
  },
  {
   "cell_type": "markdown",
   "metadata": {
    "id": "O3teNbpNjyH9"
   },
   "source": [
    "Better!"
   ]
  },
  {
   "cell_type": "code",
   "execution_count": null,
   "metadata": {
    "colab": {
     "base_uri": "https://localhost:8080/"
    },
    "id": "PmqZQvDW5W4i",
    "outputId": "3a85157d-be5d-453b-c2aa-9c68d945b8e3"
   },
   "outputs": [
    {
     "name": "stdout",
     "output_type": "stream",
     "text": [
      "CPU times: user 30min 18s, sys: 8.27 s, total: 30min 26s\n",
      "Wall time: 30min 26s\n"
     ]
    }
   ],
   "source": [
    "%%time\n",
    "lda_tfidf1 = LdaModel(corpus=tf_idf_gensim,\n",
    "                     id2word=id2word,\n",
    "                     num_topics=3,\n",
    "                     random_state=100,\n",
    "                     chunksize=100,\n",
    "                     passes=10,\n",
    "                     alpha=0.01,\n",
    "                     eta=0.9)"
   ]
  },
  {
   "cell_type": "code",
   "execution_count": null,
   "metadata": {
    "colab": {
     "base_uri": "https://localhost:8080/"
    },
    "id": "CNf6oXPm5W4i",
    "outputId": "6d5594db-8371-4423-9187-e55d3a18119a"
   },
   "outputs": [
    {
     "name": "stdout",
     "output_type": "stream",
     "text": [
      "[(0,\n",
      "  '0.020*\"ebola\" + 0.019*\"bucket\" + 0.017*\"challenge\" + 0.017*\"ice\" + '\n",
      "  '0.011*\"als\" + 0.006*\"outbreak\" + 0.006*\"nile\" + 0.005*\"health\" + '\n",
      "  '0.005*\"virus\" + 0.005*\"west\"'),\n",
      " (1,\n",
      "  '0.016*\"apple\" + 0.015*\"ipad\" + 0.008*\"burger\" + 0.008*\"tim\" + '\n",
      "  '0.007*\"hortons\" + 0.007*\"iphone\" + 0.007*\"king\" + 0.007*\"network\" + '\n",
      "  '0.007*\"playstation\" + 0.007*\"battery\"'),\n",
      " (2,\n",
      "  '0.008*\"bieber\" + 0.008*\"chelsea\" + 0.007*\"justin\" + 0.007*\"emmys\" + '\n",
      "  '0.007*\"vma\" + 0.006*\"emmy\" + 0.006*\"mtv\" + 0.006*\"house\" + 0.005*\"ivy\" + '\n",
      "  '0.005*\"handler\"')]\n"
     ]
    }
   ],
   "source": [
    "pprint(lda_tfidf1.print_topics())"
   ]
  },
  {
   "cell_type": "code",
   "execution_count": null,
   "metadata": {
    "colab": {
     "base_uri": "https://localhost:8080/",
     "height": 881
    },
    "id": "y0kYX3e45W4j",
    "outputId": "1f92a62c-3b23-4fa9-fb50-c28385b4828c"
   },
   "outputs": [
    {
     "data": {
      "text/html": [
       "\n",
       "<link rel=\"stylesheet\" type=\"text/css\" href=\"https://cdn.rawgit.com/bmabey/pyLDAvis/files/ldavis.v1.0.0.css\">\n",
       "\n",
       "\n",
       "<div id=\"ldavis_el2891399391575505682401042689\"></div>\n",
       "<script type=\"text/javascript\">\n",
       "\n",
       "var ldavis_el2891399391575505682401042689_data = {\"mdsDat\": {\"x\": [0.091690554239282, -0.2496115735582147, 0.15792101931893276], \"y\": [0.19280104984800212, -0.031333207263566, -0.16146784258443603], \"topics\": [1, 2, 3], \"cluster\": [1, 1, 1], \"Freq\": [33.753783395961776, 33.208088623622324, 33.03812798041591]}, \"tinfo\": {\"Term\": [\"ebola\", \"bucket\", \"apple\", \"ice\", \"ipad\", \"challenge\", \"als\", \"bieber\", \"chelsea\", \"justin\", \"iphone\", \"playstation\", \"emmys\", \"vma\", \"battery\", \"tim\", \"hortons\", \"burger\", \"emmy\", \"mtv\", \"network\", \"outbreak\", \"sony\", \"king\", \"nile\", \"samsung\", \"ivy\", \"virus\", \"health\", \"tony\", \"ipad\", \"iphone\", \"battery\", \"amazon\", \"replacement\", \"wearable\", \"playstation\", \"swhc\", \"mobile\", \"alpha\", \"oled\", \"specs\", \"moto\", \"cyber\", \"rosetta\", \"comet\", \"aapl\", \"swallow\", \"surface\", \"tablet\", \"windows\", \"alongside\", \"gamble\", \"ifa\", \"sept\", \"exec\", \"motors\", \"procter\", \"click\", \"xbox\", \"apple\", \"sony\", \"psn\", \"ddos\", \"twitch\", \"lg\", \"attack\", \"inversion\", \"hortons\", \"tim\", \"cadillac\", \"barnes\", \"noble\", \"network\", \"samsung\", \"burger\", \"king\", \"unveil\", \"hacker\", \"pro\", \"iwatch\", \"buy\", \"launch\", \"value\", \"september\", \"billion\", \"snapchat\", \"hello\", \"online\", \"kitty\", \"cat\", \"plan\", \"panda\", \"report\", \"big\", \"new\", \"galaxy\", \"fake\", \"emmys\", \"vma\", \"mtv\", \"emmy\", \"ivy\", \"tony\", \"vmas\", \"justin\", \"minaj\", \"nick\", \"nicki\", \"finale\", \"beyonce\", \"selena\", \"bieber\", \"soules\", \"gomez\", \"true\", \"creator\", \"miley\", \"chris\", \"wardrobe\", \"princess\", \"lately\", \"cyrus\", \"beyonc\\u00e9\", \"malfunction\", \"album\", \"chelsea\", \"bachelorette\", \"bachelor\", \"blue\", \"attenborough\", \"richard\", \"soprano\", \"handler\", \"cannon\", \"awards\", \"mariah\", \"carey\", \"star\", \"guardian\", \"zara\", \"venice\", \"series\", \"shirt\", \"house\", \"bad\", \"ebola\", \"outbreak\", \"nile\", \"virus\", \"un\", \"congo\", \"leone\", \"sierra\", \"mosquito\", \"africa\", \"toll\", \"index\", \"accelerate\", \"argentina\", \"patient\", \"climate\", \"gas\", \"county\", \"irreversible\", \"liberia\", \"warming\", \"drift\", \"milestone\", \"eruption\", \"infect\", \"disease\", \"deadly\", \"unemployment\", \"connecticut\", \"debt\", \"pierce\", \"airlines\", \"warn\", \"doctor\", \"fare\", \"ice\", \"bucket\", \"als\", \"damon\", \"health\", \"toilet\", \"damage\", \"challenge\", \"chief\", \"matt\", \"west\", \"case\", \"iceland\", \"imf\", \"water\", \"brosnan\", \"november\", \"lagarde\", \"stock\", \"orbitz\", \"july\", \"investigation\", \"man\", \"say\", \"report\", \"new\"], \"Freq\": [6716.0, 6598.0, 5563.0, 5904.0, 5072.0, 6192.0, 3725.0, 2876.0, 2795.0, 2514.0, 2534.0, 2358.0, 2284.0, 2246.0, 2274.0, 2718.0, 2637.0, 2995.0, 2095.0, 2038.0, 2481.0, 1999.0, 2127.0, 2671.0, 1906.0, 2122.0, 1704.0, 1691.0, 1827.0, 1649.0, 5069.787561671282, 2532.5121169312465, 2271.9448093499436, 1184.7830763667234, 600.1542486736524, 626.112806630394, 2351.11530046418, 407.4083017879307, 640.4540743559949, 438.12844704448986, 386.4493356136351, 330.81795331628047, 339.13969100207765, 353.16546111886134, 309.56886858259077, 380.2584666325108, 294.36005832702915, 1080.9904548472646, 442.7060665937047, 467.35110695422736, 259.1926900247903, 623.6252145404486, 248.64107700770316, 256.9914521376261, 219.11714713806742, 540.5070871708109, 215.6415733450219, 232.73990847401998, 269.0236716122056, 368.2291210215821, 5489.121021393563, 2096.656936511478, 1061.9601345213136, 1107.1359758491183, 1295.3747735604986, 730.5094252399508, 1487.239658614015, 477.4325801642183, 2544.9875995162442, 2612.7343611877636, 786.5657143496165, 492.47907783894, 488.6735966418705, 2371.156896979584, 2031.3792689624618, 2782.1325135741445, 2487.627223940369, 1045.088126274053, 816.0283216357179, 981.0037192944037, 1540.9187362840973, 1131.896294571295, 1542.7583328362205, 902.8891909255418, 1513.006639153022, 1308.8650943067983, 1428.6881272703197, 1528.3229561952946, 986.7739517817403, 1397.8657372309171, 1288.5046203570162, 1164.253570661932, 1454.2842950683928, 1450.0019953670103, 1330.6684906709897, 1571.0802186377255, 1353.281587999551, 1153.2560635324926, 2283.0317988430106, 2244.949320545731, 2036.5196077045969, 2093.784615611498, 1703.0299963853968, 1647.3073960700258, 1517.9907839630796, 2511.10614233921, 1360.4410882306556, 1465.1674256773927, 1341.8363043955337, 1319.9655923512685, 1217.405602446079, 1154.7460705802043, 2871.479967358753, 1306.888339842561, 1083.0318431517028, 1239.0529895452523, 791.1125296716734, 770.9345155796327, 1120.0577491516965, 682.429740736925, 1067.563006673231, 1111.6273917647386, 713.6398000391658, 628.4951337720676, 659.6381318746767, 671.4580665354194, 2786.2160325091745, 528.4431690170005, 1433.2058349265474, 1615.116427344193, 1349.9454529723791, 1090.7133770244832, 1272.1637798798106, 1688.7923143296177, 1367.889022936548, 1307.1162045600745, 1518.3972927076404, 1442.7481179762826, 1609.492684700492, 1479.88871296377, 1614.4260633555853, 1540.5515414154318, 1404.8868938507098, 1421.2713307460062, 1978.1120107597903, 1324.6760442869208, 6714.144131904321, 1997.970772501843, 1905.1060043444618, 1689.7392649768274, 1099.2279582642846, 994.5037923481132, 710.2668268493113, 700.6664110487444, 699.0041667217034, 727.9206254520109, 578.7275015311193, 585.3219238188254, 509.0139902798005, 565.5531177999098, 454.8445395088803, 977.7598779863999, 451.1875702943891, 711.1856649280779, 524.2716071887312, 374.15481170142164, 600.7133728694461, 547.9581134240509, 380.38949572786515, 372.7886383023999, 639.0373833192822, 364.55835777597883, 478.1895717272593, 325.24389835450904, 479.931212031786, 302.76554612888884, 1067.6688495887418, 678.9970935328282, 585.8265874721252, 591.1193753065802, 512.6976229138766, 5698.614113610425, 6345.0209808479285, 3623.4989764933707, 1520.1513587674224, 1780.4110560155516, 1286.907767227605, 847.5282091716476, 5727.923114928022, 1228.7053652929226, 1316.3466388117681, 1642.3832885692213, 1625.8175793505873, 657.2604637585547, 1361.6633588555299, 1335.2436738283907, 1351.5987697654307, 1579.8045201350249, 1302.4195384257428, 1253.7040049505722, 839.6572311002255, 876.7317453734428, 1024.6003352028663, 1059.026732143177, 1014.4771103609315, 921.6918966560411, 942.469633794044], \"Total\": [6716.0, 6598.0, 5563.0, 5904.0, 5072.0, 6192.0, 3725.0, 2876.0, 2795.0, 2514.0, 2534.0, 2358.0, 2284.0, 2246.0, 2274.0, 2718.0, 2637.0, 2995.0, 2095.0, 2038.0, 2481.0, 1999.0, 2127.0, 2671.0, 1906.0, 2122.0, 1704.0, 1691.0, 1827.0, 1649.0, 5072.865646393016, 2534.713620060339, 2274.267126956247, 1186.5057646611815, 601.6510497456652, 627.7535307911611, 2358.601842145791, 408.9048802580268, 642.9317388851542, 439.8296615076743, 387.95244692886916, 332.3172716423148, 340.712245966237, 354.9240631928852, 311.1220089434699, 382.25124742410674, 295.91463183986633, 1086.7470895662589, 445.07795227982376, 470.02584764938246, 260.6925089449467, 627.712863065708, 250.2848729545166, 258.79610987145355, 220.658053760782, 544.3920396307118, 217.19788871362567, 234.4550780198187, 271.0411777576426, 370.9952989996028, 5563.389899475292, 2127.3005991182986, 1072.0015367644837, 1119.7305763179622, 1312.9052643407606, 738.9510425949913, 1515.7879776764437, 481.8447488926065, 2637.5944884887062, 2718.8057041343623, 802.2236482110076, 497.6780794809258, 494.2707258811717, 2481.9859598221333, 2122.9946305774797, 2995.4614158945055, 2671.6057199707157, 1090.216066532307, 842.5809383613724, 1025.6961277506525, 1655.6954398085813, 1194.8992309249902, 1685.8995949668436, 956.1015650648269, 1753.5710214346534, 1487.1039985979467, 1693.7564756838728, 1844.9957004405503, 1095.5270040425994, 1829.144969398171, 1668.5076259484963, 1430.9570458109945, 2213.851505061387, 2474.731264883042, 2062.3719406553387, 3764.441612711058, 2647.342638152728, 1645.0445499659463, 2284.9287430936433, 2246.83242568903, 2038.286945957883, 2095.918143959187, 1704.795488180279, 1649.0984904023856, 1519.7231719268943, 2514.0362320530144, 1362.170491108286, 1467.0503646521129, 1343.574822478441, 1321.7107031023966, 1219.1662154601297, 1156.5493515857925, 2876.2255051137336, 1309.060508574854, 1085.1220409956595, 1241.6810396450016, 792.9365408896468, 772.784499426233, 1122.8641159020715, 684.1576150679206, 1070.3361949670523, 1114.6397524420017, 715.61264430088, 630.2351681397278, 661.5519983723602, 673.5475835778874, 2795.299242020101, 530.1725420184399, 1439.134777825452, 1624.1717425840743, 1356.3122435246105, 1095.2608569580243, 1281.7705665226135, 1706.819203185007, 1380.4075138149335, 1319.300594216295, 1548.1729611303952, 1471.5647988631656, 1705.4225198067759, 1569.496295349116, 1757.6837917785886, 1690.640183049568, 1549.4235094044677, 1597.7760225400143, 3605.0855156378284, 2215.5909492138803, 6716.203506914667, 1999.7218740667165, 1906.8464934660053, 1691.5159605848492, 1101.2196150781785, 996.7440675968526, 711.9845273837126, 702.3826786386345, 700.7232248742223, 729.736873157399, 580.4416159038221, 587.101476668098, 510.77701527886785, 567.6682063325618, 456.58358671108067, 981.8958861382254, 453.20732232271627, 714.3973083764243, 526.6812754633587, 375.8773032798434, 603.4800122619146, 550.5599441348718, 382.21213615057763, 374.6509648215149, 642.398995963832, 366.52351742353596, 480.76866292871506, 327.0046683469229, 482.54209632340337, 304.4936009082003, 1074.7303239502066, 683.540588478584, 589.202952696455, 595.342005795277, 516.0844388478126, 5904.639395670061, 6598.055182411447, 3725.2717698165397, 1551.7490901506994, 1827.2798149167727, 1315.393714223373, 860.7608323132685, 6192.40819715877, 1269.6611524014013, 1367.7220355104719, 1735.7212721194408, 1758.1269623758703, 666.4286227254045, 1484.0390511853118, 1501.581506976251, 1635.9766410418301, 2001.8444752450116, 1578.419808917362, 1562.6256836179803, 980.1334663562857, 1084.5417712884064, 1507.9519232437501, 1631.8756975674778, 2289.5890655570897, 2474.731264883042, 3764.441612711058], \"Category\": [\"Default\", \"Default\", \"Default\", \"Default\", \"Default\", \"Default\", \"Default\", \"Default\", \"Default\", \"Default\", \"Default\", \"Default\", \"Default\", \"Default\", \"Default\", \"Default\", \"Default\", \"Default\", \"Default\", \"Default\", \"Default\", \"Default\", \"Default\", \"Default\", \"Default\", \"Default\", \"Default\", \"Default\", \"Default\", \"Default\", \"Topic1\", \"Topic1\", \"Topic1\", \"Topic1\", \"Topic1\", \"Topic1\", \"Topic1\", \"Topic1\", \"Topic1\", \"Topic1\", \"Topic1\", \"Topic1\", \"Topic1\", \"Topic1\", \"Topic1\", \"Topic1\", \"Topic1\", \"Topic1\", \"Topic1\", \"Topic1\", \"Topic1\", \"Topic1\", \"Topic1\", \"Topic1\", \"Topic1\", \"Topic1\", \"Topic1\", \"Topic1\", \"Topic1\", \"Topic1\", \"Topic1\", \"Topic1\", \"Topic1\", \"Topic1\", \"Topic1\", \"Topic1\", \"Topic1\", \"Topic1\", \"Topic1\", \"Topic1\", \"Topic1\", \"Topic1\", \"Topic1\", \"Topic1\", \"Topic1\", \"Topic1\", \"Topic1\", \"Topic1\", \"Topic1\", \"Topic1\", \"Topic1\", \"Topic1\", \"Topic1\", \"Topic1\", \"Topic1\", \"Topic1\", \"Topic1\", \"Topic1\", \"Topic1\", \"Topic1\", \"Topic1\", \"Topic1\", \"Topic1\", \"Topic1\", \"Topic1\", \"Topic1\", \"Topic1\", \"Topic1\", \"Topic2\", \"Topic2\", \"Topic2\", \"Topic2\", \"Topic2\", \"Topic2\", \"Topic2\", \"Topic2\", \"Topic2\", \"Topic2\", \"Topic2\", \"Topic2\", \"Topic2\", \"Topic2\", \"Topic2\", \"Topic2\", \"Topic2\", \"Topic2\", \"Topic2\", \"Topic2\", \"Topic2\", \"Topic2\", \"Topic2\", \"Topic2\", \"Topic2\", \"Topic2\", \"Topic2\", \"Topic2\", \"Topic2\", \"Topic2\", \"Topic2\", \"Topic2\", \"Topic2\", \"Topic2\", \"Topic2\", \"Topic2\", \"Topic2\", \"Topic2\", \"Topic2\", \"Topic2\", \"Topic2\", \"Topic2\", \"Topic2\", \"Topic2\", \"Topic2\", \"Topic2\", \"Topic2\", \"Topic2\", \"Topic3\", \"Topic3\", \"Topic3\", \"Topic3\", \"Topic3\", \"Topic3\", \"Topic3\", \"Topic3\", \"Topic3\", \"Topic3\", \"Topic3\", \"Topic3\", \"Topic3\", \"Topic3\", \"Topic3\", \"Topic3\", \"Topic3\", \"Topic3\", \"Topic3\", \"Topic3\", \"Topic3\", \"Topic3\", \"Topic3\", \"Topic3\", \"Topic3\", \"Topic3\", \"Topic3\", \"Topic3\", \"Topic3\", \"Topic3\", \"Topic3\", \"Topic3\", \"Topic3\", \"Topic3\", \"Topic3\", \"Topic3\", \"Topic3\", \"Topic3\", \"Topic3\", \"Topic3\", \"Topic3\", \"Topic3\", \"Topic3\", \"Topic3\", \"Topic3\", \"Topic3\", \"Topic3\", \"Topic3\", \"Topic3\", \"Topic3\", \"Topic3\", \"Topic3\", \"Topic3\", \"Topic3\", \"Topic3\", \"Topic3\", \"Topic3\", \"Topic3\", \"Topic3\", \"Topic3\", \"Topic3\"], \"logprob\": [30.0, 29.0, 28.0, 27.0, 26.0, 25.0, 24.0, 23.0, 22.0, 21.0, 20.0, 19.0, 18.0, 17.0, 16.0, 15.0, 14.0, 13.0, 12.0, 11.0, 10.0, 9.0, 8.0, 7.0, 6.0, 5.0, 4.0, 3.0, 2.0, 1.0, -4.228000164031982, -4.922100067138672, -5.030700206756592, -5.68179988861084, -6.3618998527526855, -6.319499969482422, -4.996399879455566, -6.749300003051758, -6.296899795532227, -6.676599979400635, -6.80210018157959, -6.957499980926514, -6.932700157165527, -6.892099857330322, -7.023900032043457, -6.81820011138916, -7.0742998123168945, -5.773399829864502, -6.666200160980225, -6.611999988555908, -7.201499938964844, -6.323500156402588, -7.243100166320801, -7.210000038146973, -7.369500160217285, -6.466599941253662, -7.385499954223633, -7.309199810028076, -7.164299964904785, -6.850399971008301, -4.148600101470947, -5.111000061035156, -5.791200160980225, -5.749499797821045, -5.59250020980835, -6.165299892425537, -5.454400062561035, -6.590700149536133, -4.917200088500977, -4.890900135040283, -6.091400146484375, -6.559599876403809, -6.567399978637695, -4.9878997802734375, -5.142600059509277, -4.828100204467773, -4.940000057220459, -5.807199954986572, -6.054599761962891, -5.870500087738037, -5.418900012969971, -5.727399826049805, -5.417799949645996, -5.953499794006348, -5.43720006942749, -5.582200050354004, -5.49459981918335, -5.427199840545654, -5.86460018157959, -5.51639986038208, -5.597799777984619, -5.69920015335083, -5.476799964904785, -5.479800224304199, -5.5655999183654785, -5.399600028991699, -5.548799991607666, -5.708700180053711, -5.009500026702881, -5.026299953460693, -5.123799800872803, -5.096099853515625, -5.302599906921387, -5.335899829864502, -5.417600154876709, -4.914299964904785, -5.527200222015381, -5.453100204467773, -5.540999889373779, -5.557400226593018, -5.638299942016602, -5.691100120544434, -4.780200004577637, -5.567399978637695, -5.755300045013428, -5.620699882507324, -6.069300174713135, -6.095200061798096, -5.72160005569458, -6.217100143432617, -5.769599914550781, -5.7291998863220215, -6.172399997711182, -6.299499988555908, -6.251100063323975, -6.23330020904541, -4.810299873352051, -6.472799777984619, -5.475100040435791, -5.355599880218506, -5.534999847412109, -5.748199939727783, -5.594299793243408, -5.310999870300293, -5.5218000411987305, -5.567200183868408, -5.417399883270264, -5.468500137329102, -5.359099864959717, -5.4430999755859375, -5.355999946594238, -5.402900218963623, -5.495100021362305, -5.483500003814697, -5.152900218963623, -5.553899765014648, -3.9256999492645264, -5.137800216674805, -5.185400009155273, -5.305300235748291, -5.735300064086914, -5.835400104522705, -6.171999931335449, -6.1855998039245605, -6.188000202178955, -6.147500038146973, -6.376800060272217, -6.365499973297119, -6.505199909210205, -6.399799823760986, -6.617700099945068, -5.852399826049805, -6.625800132751465, -6.1707000732421875, -6.475599765777588, -6.813000202178955, -6.3394999504089355, -6.431399822235107, -6.796500205993652, -6.8165998458862305, -6.277699947357178, -6.839000225067139, -6.567599773406982, -6.953100204467773, -6.564000129699707, -7.024700164794922, -5.764400005340576, -6.2170000076293945, -6.36460018157959, -6.355599880218506, -6.498000144958496, -4.089700222015381, -3.9821999073028564, -4.542500019073486, -5.411099910736084, -5.252999782562256, -5.577700138092041, -5.995299816131592, -4.084499835968018, -5.623899936676025, -5.554999828338623, -5.333700180053711, -5.343900203704834, -6.249599933624268, -5.521200180053711, -5.540800094604492, -5.528600215911865, -5.372600078582764, -5.565700054168701, -5.603799819946289, -6.004700183868408, -5.961400032043457, -5.805600166320801, -5.772500038146973, -5.815499782562256, -5.911399841308594, -5.889100074768066], \"loglift\": [30.0, 29.0, 28.0, 27.0, 26.0, 25.0, 24.0, 23.0, 22.0, 21.0, 20.0, 19.0, 18.0, 17.0, 16.0, 15.0, 14.0, 13.0, 12.0, 11.0, 10.0, 9.0, 8.0, 7.0, 6.0, 5.0, 4.0, 3.0, 2.0, 1.0, 1.0855, 1.0852, 1.0851, 1.0846, 1.0836, 1.0835, 1.0829, 1.0824, 1.0822, 1.0822, 1.0822, 1.0816, 1.0815, 1.0811, 1.0811, 1.0809, 1.0808, 1.0808, 1.0807, 1.0804, 1.0803, 1.0795, 1.0795, 1.0791, 1.0791, 1.0789, 1.0789, 1.0787, 1.0786, 1.0786, 1.0726, 1.0716, 1.0767, 1.0748, 1.0726, 1.0746, 1.0671, 1.0769, 1.0503, 1.0463, 1.0664, 1.0756, 1.0747, 1.0404, 1.042, 1.0122, 1.0147, 1.0438, 1.0541, 1.0415, 1.0142, 1.0319, 0.9974, 1.0288, 0.9385, 0.9584, 0.9159, 0.8978, 0.9815, 0.8172, 0.8276, 0.8798, 0.6659, 0.5515, 0.6479, 0.2122, 0.4151, 0.7309, 1.1015, 1.1015, 1.1015, 1.1014, 1.1013, 1.1013, 1.1012, 1.1012, 1.1011, 1.1011, 1.1011, 1.1011, 1.1009, 1.1008, 1.1007, 1.1007, 1.1004, 1.1003, 1.1001, 1.1, 1.0999, 1.0998, 1.0998, 1.0997, 1.0996, 1.0996, 1.0995, 1.0993, 1.0991, 1.0991, 1.0982, 1.0968, 1.0977, 1.0982, 1.0949, 1.0918, 1.0933, 1.0931, 1.083, 1.0826, 1.0445, 1.0436, 1.0174, 1.0094, 1.0045, 0.9853, 0.5022, 0.588, 1.1072, 1.1066, 1.1066, 1.1065, 1.1057, 1.1053, 1.1051, 1.1051, 1.1051, 1.105, 1.1046, 1.1045, 1.1041, 1.1038, 1.1037, 1.1033, 1.103, 1.103, 1.1029, 1.1029, 1.1029, 1.1028, 1.1027, 1.1025, 1.1023, 1.1021, 1.1021, 1.1021, 1.1021, 1.1018, 1.1009, 1.1008, 1.1018, 1.1004, 1.1009, 1.072, 1.0684, 1.0798, 1.0869, 1.0815, 1.0856, 1.092, 1.0295, 1.0747, 1.0692, 1.0522, 1.0293, 1.0937, 1.0214, 0.9901, 0.9166, 0.8707, 0.9153, 0.8872, 0.9528, 0.8948, 0.7211, 0.6751, 0.2935, 0.1198, -0.2773]}, \"token.table\": {\"Topic\": [1, 2, 3, 1, 2, 3, 1, 2, 3, 1, 2, 3, 1, 2, 3, 1, 2, 3, 1, 2, 3, 1, 2, 3, 1, 2, 3, 1, 2, 3, 1, 2, 3, 1, 2, 3, 1, 2, 3, 1, 2, 3, 1, 2, 3, 1, 2, 3, 1, 2, 3, 1, 2, 3, 1, 2, 3, 1, 2, 3, 1, 2, 3, 1, 2, 3, 1, 2, 3, 1, 2, 3, 1, 2, 3, 1, 2, 3, 1, 2, 3, 1, 2, 3, 1, 2, 3, 1, 2, 3, 1, 2, 3, 1, 2, 3, 1, 2, 3, 1, 2, 3, 1, 2, 3, 1, 2, 3, 1, 2, 3, 1, 2, 3, 1, 2, 3, 1, 2, 3, 1, 2, 3, 1, 2, 3, 1, 2, 3, 1, 2, 3, 1, 2, 3, 1, 2, 3, 1, 2, 3, 1, 2, 3, 1, 2, 3, 1, 2, 3, 1, 2, 3, 1, 2, 3, 1, 2, 3, 1, 2, 3, 1, 2, 3, 1, 2, 3, 1, 2, 3, 1, 2, 3, 1, 2, 3, 1, 2, 3, 1, 2, 3, 1, 2, 3, 1, 2, 3, 1, 2, 3, 1, 2, 3, 1, 2, 3, 1, 2, 3, 1, 2, 3, 1, 2, 3, 1, 2, 3, 1, 2, 3, 1, 2, 3, 1, 2, 3, 1, 2, 3, 1, 2, 3, 1, 2, 3, 1, 2, 3, 1, 2, 3, 1, 2, 3, 1, 2, 3, 1, 2, 3, 1, 2, 3, 1, 2, 3, 1, 2, 3, 1, 2, 3, 1, 2, 3, 1, 2, 3, 1, 2, 3, 1, 2, 3, 1, 2, 3, 1, 2, 3, 1, 2, 3, 1, 2, 3, 1, 2, 3, 1, 2, 3, 1, 2, 3, 1, 2, 3, 1, 2, 3, 1, 2, 3, 1, 2, 3, 1, 2, 3, 1, 2, 3, 1, 2, 3, 1, 2, 3, 1, 2, 3, 1, 2, 3, 1, 2, 3, 1, 2, 3, 1, 2, 3, 1, 2, 3, 1, 2, 3, 1, 2, 3, 1, 2, 3, 1, 2, 3, 1, 2, 3, 1, 2, 3, 1, 2, 3, 1, 2, 3, 1, 2, 3, 1, 2, 3, 1, 2, 3, 1, 2, 3, 1, 2, 3, 1, 2, 3, 1, 2, 3, 1, 2, 3, 1, 2, 3, 1, 2, 3, 1, 2, 3, 1, 2, 3, 1, 2, 3, 1, 2, 3, 1, 2, 3, 1, 2, 3, 1, 2, 3, 1, 2, 3, 1, 2, 3, 1, 2, 3, 1, 2, 3, 1, 2, 3, 1, 2, 3, 1, 2, 3, 1, 2, 3, 1, 2, 3, 1, 2, 3, 1, 2, 3, 1, 2, 3, 1, 2, 3, 1, 2, 3, 1, 2, 3, 1, 2, 3, 1, 2, 3, 1, 2, 3, 1, 2, 3, 1, 2, 3, 1, 2, 3, 1, 2, 3, 1, 2, 3, 1, 2, 3, 1, 2, 3, 1, 2, 3, 1, 2, 3, 1, 2, 3, 1, 2, 3, 1, 2, 3, 1, 2, 3, 1, 2, 3, 1, 2, 3, 1, 2, 3, 1, 2, 3, 1, 2, 3, 1, 2, 3, 1, 2, 3, 1, 2, 3, 1, 2, 3], \"Freq\": [0.993529783140624, 0.003379353003879674, 0.003379353003879674, 0.0019578014869248415, 0.0019578014869248415, 0.9965209568447444, 0.0013703569557520594, 0.0013703569557520594, 0.9976198637874992, 0.005851883659027695, 0.0014629709147569237, 0.9933572511199512, 0.0014846761006668543, 0.9962176635474592, 0.0014846761006668543, 0.9940850932262649, 0.004779255255895504, 0.0015930850852985015, 0.9958400679449347, 0.0022736074610614945, 0.0022736074610614945, 0.008053103734087413, 0.01905901217067354, 0.9725464942866232, 0.9987309251197684, 0.0008428109072740661, 0.0008428109072740661, 0.9866286740962902, 0.0019772117717360522, 0.011324031056306482, 0.0017615924035283414, 0.0017615924035283414, 0.9970613003970412, 0.9810079126497804, 0.013854180340043975, 0.005277782986683419, 0.000737293351714741, 0.9953460248149003, 0.0036864667585737045, 0.006063818992480819, 0.9906764278965539, 0.0030319094962404096, 0.0006948619513670643, 0.995737176309003, 0.0034743097568353215, 0.0018861784056052057, 0.9959021981595487, 0.0018861784056052057, 0.06725068093136374, 0.5980345787520601, 0.3348993641011537, 0.988590858800034, 0.0020093310138212073, 0.008037324055284829, 0.9990031395479557, 0.0004397020860686425, 0.0004397020860686425, 0.0008202327027431502, 0.9982231992384138, 0.0008202327027431502, 0.0015867092960738945, 0.9964534379344058, 0.0015867092960738945, 0.0013907115394423252, 0.998183207434729, 0.0003476778848605813, 0.6453734041673694, 0.25650077445870656, 0.09794547531315449, 0.8802343354830163, 0.0006724479262666282, 0.11902328294919319, 0.0018470953048517938, 0.9943529724452157, 0.0036941906097035875, 0.06846063518894478, 0.10513597546873663, 0.8264176676379763, 0.02743232588937645, 0.010912306431133173, 0.9616470042436109, 0.9287383857585888, 0.027708585915874506, 0.043398989988719106, 0.9473602214336526, 0.01171646916967415, 0.04100764209385952, 0.9810231869317778, 0.0037396055410360016, 0.01620495734448934, 0.002897695035682243, 0.9910117022033271, 0.005795390071364486, 0.00815458484007664, 0.9805888270192159, 0.011552328523441907, 0.05175962939390101, 0.023320272584065292, 0.9248478834558577, 0.7725466638291464, 0.22714909665728972, 0.0005993379859031391, 0.05490594114192931, 0.020024519710585983, 0.9250036201793267, 0.00035774345192370966, 0.9966732570594551, 0.0028619476153896773, 0.03071685695528803, 0.0015752234336045144, 0.9679747999499742, 0.001781159422298634, 0.997449276487235, 0.000890579711149317, 0.9924691230515987, 0.0036894762938721143, 0.0036894762938721143, 0.0030553137479768177, 0.0010184379159922726, 0.9960322818404426, 0.9941105557162278, 0.0026160804097795465, 0.0026160804097795465, 0.001003266568128163, 0.001003266568128163, 0.9982502352875222, 0.0020723580546012973, 0.0020723580546012973, 0.9947318662086226, 0.001399781309748564, 0.002799562619497128, 0.9952445112312289, 0.0012611349691086695, 0.9975577605649576, 0.0012611349691086695, 0.9945789440829218, 0.002817504090886464, 0.002817504090886464, 0.0013974040396909882, 0.9977464843393656, 0.0013974040396909882, 0.013941154789478938, 0.0011617628991232448, 0.9851749384565116, 0.002577736326954467, 0.01804415428868127, 0.9795398042426975, 0.9886306790336793, 0.0008930719774468647, 0.010716863729362376, 0.002080002456708109, 0.002080002456708109, 0.994241174306476, 0.003284141266080279, 0.003284141266080279, 0.9950948036223245, 0.0027283378895560768, 0.0027283378895560768, 0.995843329687968, 0.00167970677403179, 0.00503912032209537, 0.9927067034527879, 0.003632665291592764, 0.001816332645796382, 0.9953502898964174, 0.00014889364191696247, 0.00014889364191696247, 0.9996719118304861, 0.00047711786974227965, 0.9990848192403337, 0.00047711786974227965, 0.0004376504094591877, 0.9991558847953255, 0.0004376504094591877, 0.002669151006928285, 0.002669151006928285, 0.9955933255842504, 0.9937691233820891, 0.003673823006957816, 0.003673823006957816, 0.7008928724902119, 0.2103286503743394, 0.08875139582269813, 0.005813002241837921, 0.0019376674139459735, 0.9940233833542844, 0.0007565952198561619, 0.9987056902101337, 0.0007565952198561619, 0.5110785360765017, 0.48539240122565014, 0.003399635494965643, 0.9948663579250748, 0.00399544722058263, 0.00399544722058263, 0.0022064956825387037, 0.0022064956825387037, 0.9951295528249553, 0.0009215553294654716, 0.9980444218111058, 0.0009215553294654716, 0.05670609116041462, 0.9429776957012768, 0.0006371470916900518, 0.9684529554952118, 0.0011868296023225635, 0.03085756966038665, 0.005272966218803706, 0.9895599937288287, 0.005272966218803706, 0.02517403170794352, 0.0005472615588683374, 0.9741255747856405, 0.8281862118351507, 0.1712741118716673, 0.0005420066831381877, 0.96489434259405, 0.006824400065498193, 0.028055866935937018, 0.2732251414640102, 0.548669370371383, 0.1780817673298422, 0.023879527698744296, 0.011008292910768646, 0.9651732507457003, 0.012004286321441994, 0.0015005357901802492, 0.9858520141484237, 0.9930597493434283, 0.0038640457172896044, 0.0038640457172896044, 0.08220807929721108, 0.0006738367155509104, 0.91776560658034, 0.0017032830604943666, 0.0017032830604943666, 0.9964205903892045, 0.004669994845647151, 0.00155666494854905, 0.994708902122843, 0.9899454151908039, 0.002075357264550952, 0.006226071793652855, 0.3196388376647788, 0.0013263022309741859, 0.6797298933742703, 0.9994351030378553, 0.00039425447851591924, 0.00019712723925795962, 0.9993239393804582, 0.00039452188684581846, 0.00039452188684581846, 0.0037973630223334955, 0.0018986815111667478, 0.9949091118513758, 0.0005865806232672595, 0.9989468014241429, 0.0005865806232672595, 0.9307267284484146, 0.0688532427275271, 0.0006039758133993606, 0.17887738871462114, 0.011986629140670488, 0.8086364427975399, 0.0007955334829708315, 0.998792287869879, 0.00039776674148541574, 0.9312751434097363, 0.026575777806306784, 0.04229666045229108, 0.7642915260346875, 0.22797536935369436, 0.007653849330819475, 0.1742248788607275, 0.000633545014039009, 0.8248756082787897, 0.0008971508487914198, 0.9976317438560589, 0.0017943016975828397, 0.9152383716127211, 0.04567294531055057, 0.03914823883761477, 0.0014045249040377898, 0.0014045249040377898, 0.9972126818668308, 0.9892400955724083, 0.010826156996688463, 0.0013532696245860578, 0.00266044262655437, 0.00266044262655437, 0.9950055423313343, 0.0015115969756879812, 0.9976540039540676, 0.0015115969756879812, 0.009804668348116264, 0.34132501686879746, 0.6489464862909453, 0.0077510719417539925, 0.98051060063188, 0.011626607912630989, 0.0014622854264781545, 0.03582599294871479, 0.9621838106226257, 0.0026163481099041722, 0.0026163481099041722, 0.9942122817635856, 0.0012940218142864757, 0.9976908188148729, 0.0012940218142864757, 0.0007341224953319774, 0.9984065936514893, 0.0007341224953319774, 0.9954400464188657, 0.0031107501450589555, 0.0015553750725294778, 0.0014270969828058674, 0.0014270969828058674, 0.9975407909813013, 0.9949745100550138, 0.0029350280532596277, 0.0029350280532596277, 0.9944848049825885, 0.004604096319363836, 0.004604096319363836, 0.000490608057900334, 0.9993686139429803, 0.000490608057900334, 0.9552834054588742, 0.04391644504218359, 0.0008058063310492402, 0.4173261698880766, 0.33232020275619595, 0.2502363157444737, 0.0006816398564729124, 0.9986023897328167, 0.0006816398564729124, 0.0007442830747269722, 0.9988278862835968, 0.0007442830747269722, 0.0005244260633598966, 0.0005244260633598966, 0.9990316507006031, 0.9893363583858316, 0.0020231827369853405, 0.010115913684926703, 0.0004995393060580329, 0.21030604785043183, 0.7892721035716919, 0.9949673034818436, 0.0025776355012482994, 0.0025776355012482994, 0.9009362584015507, 0.09036746664817985, 0.009128026934159582, 0.1356958052809244, 0.007141884488469705, 0.8570261386163646, 0.0005000695411539201, 0.0005000695411539201, 0.9991389432255322, 0.6567739510422506, 0.254759634379525, 0.08808178848228257, 0.002190179474482041, 0.002190179474482041, 0.9965316608893285, 0.0009304659761757416, 0.00558279585705445, 0.993737662555692, 0.8134416077739799, 0.04332764577490271, 0.1432607642557267, 0.996776970996141, 0.00042397999617020037, 0.0029678599731914022, 0.001868571771565256, 0.9978173260158466, 0.000934285885782628, 0.9564236165650045, 0.002924842864113164, 0.03997285247621324, 0.9937937875685691, 0.004265209388706305, 0.004265209388706305, 0.9906702216167802, 0.005597006901789718, 0.003731337934526479, 0.9972558017702069, 0.001662093002950345, 0.001662093002950345, 0.5859222052009466, 0.04162068078323966, 0.37256570565191227, 0.002739073510151906, 0.9961097331919098, 0.0018260490067679373, 0.9963936690069594, 0.0032141731258289014, 0.0032141731258289014, 0.9566675161338227, 0.0037682620034813303, 0.039566751036553965, 0.3153404298008067, 0.24152805772831867, 0.4428742324349279, 0.000864641010458273, 0.9986603670793053, 0.000864641010458273, 0.9924858679186054, 0.004531898940267605, 0.004531898940267605, 0.8628107909551137, 0.13686357556459172, 0.0005702648981857989, 0.081965969426147, 0.9067888743601302, 0.011617224013154693, 0.09575810241336145, 0.8893611995384746, 0.015020878809939051, 0.0014237253144371534, 0.0014237253144371534, 0.9980314454204445, 0.8436868112477772, 0.03365300786642638, 0.12280395853011733, 0.9857563152424922, 0.004230713799324001, 0.009871665531756002, 0.0007801708247311026, 0.9923772890579625, 0.007021537422579924, 0.0007639066287995185, 0.9984259638409707, 0.0007639066287995185, 0.9960361023794977, 0.003009172514741685, 0.003009172514741685, 0.02286823326598191, 0.9434612134606382, 0.03342280246566586, 0.19710414543224522, 0.0006399485241306664, 0.8024954492598556, 0.9953312621549105, 0.0022467974315009266, 0.0022467974315009266, 0.9947116586541284, 0.0009201772975523852, 0.004600886487761926, 0.995341507646412, 0.002445556529843764, 0.002445556529843764, 0.9935623803147958, 0.002127542570267229, 0.004255085140534458, 0.9610837567489768, 0.007356171119395153, 0.03163153581339916, 0.0007602286594401237, 0.02128640246432346, 0.9784142846994391, 0.0017228261596006888, 0.0017228261596006888, 0.9975163464087988, 0.0006063919200823456, 0.9987274923756231, 0.0006063919200823456, 0.000805359805031654, 0.9978407984342194, 0.000805359805031654, 0.986362104847107, 0.00914003494839018, 0.0038083478951625753, 0.0009080840790590234, 0.0009080840790590234, 0.9979844028858668, 0.003058060317778365, 0.003058060317778365, 0.9938696032779687, 0.9585255914672699, 0.03668997479300554, 0.004586246849125693, 0.9444603303612138, 0.0010459139871109788, 0.054387527329770896, 0.032532055342959665, 0.9114890415181971, 0.056191731956021236, 0.0005911856720844925, 0.0005911856720844925, 0.9991037858227924, 0.0004450710202356692, 0.9991844404290774, 0.0004450710202356692, 0.0006580145769127646, 0.9988661277535766, 0.0006580145769127646, 0.0014616514937142427, 0.9968463187131136, 0.0014616514937142427, 0.003314111419372057, 0.0016570557096860284, 0.9958904815213031, 0.0033944161190080763, 0.0033944161190080763, 0.9945639228693665, 0.028636474144243765, 0.08191363534283681, 0.8890626275015215, 0.9972066572226983, 0.0015929818805474414, 0.0015929818805474414, 0.002304517473082364, 0.05185164314435319, 0.9460044227003105, 0.9935076425793878, 0.0038359368439358603, 0.0038359368439358603, 0.9919263154878789, 0.0026954519442605406, 0.005390903888521081, 0.023326152401116684, 0.9182539018390812, 0.058030915729607356], \"Term\": [\"aapl\", \"aapl\", \"aapl\", \"accelerate\", \"accelerate\", \"accelerate\", \"africa\", \"africa\", \"africa\", \"airlines\", \"airlines\", \"airlines\", \"album\", \"album\", \"album\", \"alongside\", \"alongside\", \"alongside\", \"alpha\", \"alpha\", \"alpha\", \"als\", \"als\", \"als\", \"amazon\", \"amazon\", \"amazon\", \"apple\", \"apple\", \"apple\", \"argentina\", \"argentina\", \"argentina\", \"attack\", \"attack\", \"attack\", \"attenborough\", \"attenborough\", \"attenborough\", \"awards\", \"awards\", \"awards\", \"bachelor\", \"bachelor\", \"bachelor\", \"bachelorette\", \"bachelorette\", \"bachelorette\", \"bad\", \"bad\", \"bad\", \"barnes\", \"barnes\", \"barnes\", \"battery\", \"battery\", \"battery\", \"beyonce\", \"beyonce\", \"beyonce\", \"beyonc\\u00e9\", \"beyonc\\u00e9\", \"beyonc\\u00e9\", \"bieber\", \"bieber\", \"bieber\", \"big\", \"big\", \"big\", \"billion\", \"billion\", \"billion\", \"blue\", \"blue\", \"blue\", \"brosnan\", \"brosnan\", \"brosnan\", \"bucket\", \"bucket\", \"bucket\", \"burger\", \"burger\", \"burger\", \"buy\", \"buy\", \"buy\", \"cadillac\", \"cadillac\", \"cadillac\", \"cannon\", \"cannon\", \"cannon\", \"carey\", \"carey\", \"carey\", \"case\", \"case\", \"case\", \"cat\", \"cat\", \"cat\", \"challenge\", \"challenge\", \"challenge\", \"chelsea\", \"chelsea\", \"chelsea\", \"chief\", \"chief\", \"chief\", \"chris\", \"chris\", \"chris\", \"click\", \"click\", \"click\", \"climate\", \"climate\", \"climate\", \"comet\", \"comet\", \"comet\", \"congo\", \"congo\", \"congo\", \"connecticut\", \"connecticut\", \"connecticut\", \"county\", \"county\", \"county\", \"creator\", \"creator\", \"creator\", \"cyber\", \"cyber\", \"cyber\", \"cyrus\", \"cyrus\", \"cyrus\", \"damage\", \"damage\", \"damage\", \"damon\", \"damon\", \"damon\", \"ddos\", \"ddos\", \"ddos\", \"deadly\", \"deadly\", \"deadly\", \"debt\", \"debt\", \"debt\", \"disease\", \"disease\", \"disease\", \"doctor\", \"doctor\", \"doctor\", \"drift\", \"drift\", \"drift\", \"ebola\", \"ebola\", \"ebola\", \"emmy\", \"emmy\", \"emmy\", \"emmys\", \"emmys\", \"emmys\", \"eruption\", \"eruption\", \"eruption\", \"exec\", \"exec\", \"exec\", \"fake\", \"fake\", \"fake\", \"fare\", \"fare\", \"fare\", \"finale\", \"finale\", \"finale\", \"galaxy\", \"galaxy\", \"galaxy\", \"gamble\", \"gamble\", \"gamble\", \"gas\", \"gas\", \"gas\", \"gomez\", \"gomez\", \"gomez\", \"guardian\", \"guardian\", \"guardian\", \"hacker\", \"hacker\", \"hacker\", \"handler\", \"handler\", \"handler\", \"health\", \"health\", \"health\", \"hello\", \"hello\", \"hello\", \"hortons\", \"hortons\", \"hortons\", \"house\", \"house\", \"house\", \"ice\", \"ice\", \"ice\", \"iceland\", \"iceland\", \"iceland\", \"ifa\", \"ifa\", \"ifa\", \"imf\", \"imf\", \"imf\", \"index\", \"index\", \"index\", \"infect\", \"infect\", \"infect\", \"inversion\", \"inversion\", \"inversion\", \"investigation\", \"investigation\", \"investigation\", \"ipad\", \"ipad\", \"ipad\", \"iphone\", \"iphone\", \"iphone\", \"irreversible\", \"irreversible\", \"irreversible\", \"ivy\", \"ivy\", \"ivy\", \"iwatch\", \"iwatch\", \"iwatch\", \"july\", \"july\", \"july\", \"justin\", \"justin\", \"justin\", \"king\", \"king\", \"king\", \"kitty\", \"kitty\", \"kitty\", \"lagarde\", \"lagarde\", \"lagarde\", \"lately\", \"lately\", \"lately\", \"launch\", \"launch\", \"launch\", \"leone\", \"leone\", \"leone\", \"lg\", \"lg\", \"lg\", \"liberia\", \"liberia\", \"liberia\", \"malfunction\", \"malfunction\", \"malfunction\", \"man\", \"man\", \"man\", \"mariah\", \"mariah\", \"mariah\", \"matt\", \"matt\", \"matt\", \"milestone\", \"milestone\", \"milestone\", \"miley\", \"miley\", \"miley\", \"minaj\", \"minaj\", \"minaj\", \"mobile\", \"mobile\", \"mobile\", \"mosquito\", \"mosquito\", \"mosquito\", \"moto\", \"moto\", \"moto\", \"motors\", \"motors\", \"motors\", \"mtv\", \"mtv\", \"mtv\", \"network\", \"network\", \"network\", \"new\", \"new\", \"new\", \"nick\", \"nick\", \"nick\", \"nicki\", \"nicki\", \"nicki\", \"nile\", \"nile\", \"nile\", \"noble\", \"noble\", \"noble\", \"november\", \"november\", \"november\", \"oled\", \"oled\", \"oled\", \"online\", \"online\", \"online\", \"orbitz\", \"orbitz\", \"orbitz\", \"outbreak\", \"outbreak\", \"outbreak\", \"panda\", \"panda\", \"panda\", \"patient\", \"patient\", \"patient\", \"pierce\", \"pierce\", \"pierce\", \"plan\", \"plan\", \"plan\", \"playstation\", \"playstation\", \"playstation\", \"princess\", \"princess\", \"princess\", \"pro\", \"pro\", \"pro\", \"procter\", \"procter\", \"procter\", \"psn\", \"psn\", \"psn\", \"replacement\", \"replacement\", \"replacement\", \"report\", \"report\", \"report\", \"richard\", \"richard\", \"richard\", \"rosetta\", \"rosetta\", \"rosetta\", \"samsung\", \"samsung\", \"samsung\", \"say\", \"say\", \"say\", \"selena\", \"selena\", \"selena\", \"sept\", \"sept\", \"sept\", \"september\", \"september\", \"september\", \"series\", \"series\", \"series\", \"shirt\", \"shirt\", \"shirt\", \"sierra\", \"sierra\", \"sierra\", \"snapchat\", \"snapchat\", \"snapchat\", \"sony\", \"sony\", \"sony\", \"soprano\", \"soprano\", \"soprano\", \"soules\", \"soules\", \"soules\", \"specs\", \"specs\", \"specs\", \"star\", \"star\", \"star\", \"stock\", \"stock\", \"stock\", \"surface\", \"surface\", \"surface\", \"swallow\", \"swallow\", \"swallow\", \"swhc\", \"swhc\", \"swhc\", \"tablet\", \"tablet\", \"tablet\", \"tim\", \"tim\", \"tim\", \"toilet\", \"toilet\", \"toilet\", \"toll\", \"toll\", \"toll\", \"tony\", \"tony\", \"tony\", \"true\", \"true\", \"true\", \"twitch\", \"twitch\", \"twitch\", \"un\", \"un\", \"un\", \"unemployment\", \"unemployment\", \"unemployment\", \"unveil\", \"unveil\", \"unveil\", \"value\", \"value\", \"value\", \"venice\", \"venice\", \"venice\", \"virus\", \"virus\", \"virus\", \"vma\", \"vma\", \"vma\", \"vmas\", \"vmas\", \"vmas\", \"wardrobe\", \"wardrobe\", \"wardrobe\", \"warming\", \"warming\", \"warming\", \"warn\", \"warn\", \"warn\", \"water\", \"water\", \"water\", \"wearable\", \"wearable\", \"wearable\", \"west\", \"west\", \"west\", \"windows\", \"windows\", \"windows\", \"xbox\", \"xbox\", \"xbox\", \"zara\", \"zara\", \"zara\"]}, \"R\": 30, \"lambda.step\": 0.01, \"plot.opts\": {\"xlab\": \"PC1\", \"ylab\": \"PC2\"}, \"topic.order\": [2, 3, 1]};\n",
       "\n",
       "function LDAvis_load_lib(url, callback){\n",
       "  var s = document.createElement('script');\n",
       "  s.src = url;\n",
       "  s.async = true;\n",
       "  s.onreadystatechange = s.onload = callback;\n",
       "  s.onerror = function(){console.warn(\"failed to load library \" + url);};\n",
       "  document.getElementsByTagName(\"head\")[0].appendChild(s);\n",
       "}\n",
       "\n",
       "if(typeof(LDAvis) !== \"undefined\"){\n",
       "   // already loaded: just create the visualization\n",
       "   !function(LDAvis){\n",
       "       new LDAvis(\"#\" + \"ldavis_el2891399391575505682401042689\", ldavis_el2891399391575505682401042689_data);\n",
       "   }(LDAvis);\n",
       "}else if(typeof define === \"function\" && define.amd){\n",
       "   // require.js is available: use it to load d3/LDAvis\n",
       "   require.config({paths: {d3: \"https://cdnjs.cloudflare.com/ajax/libs/d3/3.5.5/d3.min\"}});\n",
       "   require([\"d3\"], function(d3){\n",
       "      window.d3 = d3;\n",
       "      LDAvis_load_lib(\"https://cdn.rawgit.com/bmabey/pyLDAvis/files/ldavis.v1.0.0.js\", function(){\n",
       "        new LDAvis(\"#\" + \"ldavis_el2891399391575505682401042689\", ldavis_el2891399391575505682401042689_data);\n",
       "      });\n",
       "    });\n",
       "}else{\n",
       "    // require.js not available: dynamically load d3 & LDAvis\n",
       "    LDAvis_load_lib(\"https://cdnjs.cloudflare.com/ajax/libs/d3/3.5.5/d3.min.js\", function(){\n",
       "         LDAvis_load_lib(\"https://cdn.rawgit.com/bmabey/pyLDAvis/files/ldavis.v1.0.0.js\", function(){\n",
       "                 new LDAvis(\"#\" + \"ldavis_el2891399391575505682401042689\", ldavis_el2891399391575505682401042689_data);\n",
       "            })\n",
       "         });\n",
       "}\n",
       "</script>"
      ],
      "text/plain": [
       "PreparedData(topic_coordinates=              x         y  topics  cluster       Freq\n",
       "topic                                                \n",
       "1      0.091691  0.192801       1        1  33.753783\n",
       "2     -0.249612 -0.031333       2        1  33.208089\n",
       "0      0.157921 -0.161468       3        1  33.038128, topic_info=                Term         Freq        Total Category  logprob  loglift\n",
       "12861          ebola  6716.000000  6716.000000  Default  30.0000  30.0000\n",
       "10326         bucket  6598.000000  6598.000000  Default  29.0000  29.0000\n",
       "1640           apple  5563.000000  5563.000000  Default  28.0000  28.0000\n",
       "4999             ice  5904.000000  5904.000000  Default  27.0000  27.0000\n",
       "1647            ipad  5072.000000  5072.000000  Default  26.0000  26.0000\n",
       "...              ...          ...          ...      ...      ...      ...\n",
       "598    investigation  1024.600335  1507.951923   Topic3  -5.8056   0.7211\n",
       "566              man  1059.026732  1631.875698   Topic3  -5.7725   0.6751\n",
       "4                say  1014.477110  2289.589066   Topic3  -5.8155   0.2935\n",
       "219           report   921.691897  2474.731265   Topic3  -5.9114   0.1198\n",
       "111              new   942.469634  3764.441613   Topic3  -5.8891  -0.2773\n",
       "\n",
       "[207 rows x 6 columns], token_table=       Topic      Freq        Term\n",
       "term                              \n",
       "2103       1  0.993530        aapl\n",
       "2103       2  0.003379        aapl\n",
       "2103       3  0.003379        aapl\n",
       "16         1  0.001958  accelerate\n",
       "16         2  0.001958  accelerate\n",
       "...      ...       ...         ...\n",
       "1305       2  0.002695        xbox\n",
       "1305       3  0.005391        xbox\n",
       "36828      1  0.023326        zara\n",
       "36828      2  0.918254        zara\n",
       "36828      3  0.058031        zara\n",
       "\n",
       "[525 rows x 3 columns], R=30, lambda_step=0.01, plot_opts={'xlab': 'PC1', 'ylab': 'PC2'}, topic_order=[2, 3, 1])"
      ]
     },
     "execution_count": 70,
     "metadata": {
      "tags": []
     },
     "output_type": "execute_result"
    }
   ],
   "source": [
    "pyLDAvis.enable_notebook()\n",
    "vis = pyLDAvis.gensim.prepare(topic_model=lda_tfidf1, \n",
    "                              corpus=tf_idf_gensim, \n",
    "                              dictionary=id2word)\n",
    "vis"
   ]
  },
  {
   "cell_type": "code",
   "execution_count": null,
   "metadata": {
    "colab": {
     "base_uri": "https://localhost:8080/"
    },
    "id": "xAiCNeuQ5W4k",
    "outputId": "c86320a4-aa1c-4405-badf-b5bf06b624a0"
   },
   "outputs": [
    {
     "name": "stdout",
     "output_type": "stream",
     "text": [
      "0.5060598911074887\n",
      "CPU times: user 2.61 s, sys: 1.96 s, total: 4.57 s\n",
      "Wall time: 4.8 s\n"
     ]
    }
   ],
   "source": [
    "%%time\n",
    "coherence_model_lda_tfidf1 = CoherenceModel(model=lda_tfidf1,\n",
    "                                      texts=corpus,\n",
    "                                      dictionary=id2word,\n",
    "                                      coherence='c_v')\n",
    "    \n",
    "print(coherence_model_lda_tfidf1.get_coherence())"
   ]
  },
  {
   "cell_type": "markdown",
   "metadata": {
    "id": "U47CqWxz5W4k"
   },
   "source": [
    "- coherence has improved with adding hyperparameters"
   ]
  },
  {
   "cell_type": "markdown",
   "metadata": {
    "id": "2KhfPiBR5W4l"
   },
   "source": [
    "- Show each topic with its probabilities"
   ]
  },
  {
   "cell_type": "code",
   "execution_count": null,
   "metadata": {
    "colab": {
     "base_uri": "https://localhost:8080/"
    },
    "id": "yInK9zUT5W4l",
    "outputId": "66d21841-6d2f-45ae-852e-d3f1c7f4da44"
   },
   "outputs": [
    {
     "data": {
      "text/plain": [
       "([('ebola', 0.019728769),\n",
       "  ('bucket', 0.018644141),\n",
       "  ('challenge', 0.016830867),\n",
       "  ('ice', 0.016744746),\n",
       "  ('als', 0.01064725),\n",
       "  ('outbreak', 0.0058708154),\n",
       "  ('nile', 0.005597943),\n",
       "  ('health', 0.0052315407),\n",
       "  ('virus', 0.0049651116),\n",
       "  ('west', 0.0048259613)],\n",
       " '\\n',\n",
       " [('apple', 0.015787203),\n",
       "  ('ipad', 0.0145811625),\n",
       "  ('burger', 0.008001662),\n",
       "  ('tim', 0.0075144577),\n",
       "  ('hortons', 0.007319612),\n",
       "  ('iphone', 0.0072837314),\n",
       "  ('king', 0.0071546384),\n",
       "  ('network', 0.0068196594),\n",
       "  ('playstation', 0.006762018),\n",
       "  ('battery', 0.0065343166)],\n",
       " '\\n',\n",
       " [('bieber', 0.008394344),\n",
       "  ('chelsea', 0.008145087),\n",
       "  ('justin', 0.0073408443),\n",
       "  ('emmys', 0.006674103),\n",
       "  ('vma', 0.0065627745),\n",
       "  ('emmy', 0.006120867),\n",
       "  ('mtv', 0.0059534614),\n",
       "  ('house', 0.0057827155),\n",
       "  ('ivy', 0.0049785543),\n",
       "  ('handler', 0.0049369326)])"
      ]
     },
     "execution_count": 46,
     "metadata": {
      "tags": []
     },
     "output_type": "execute_result"
    }
   ],
   "source": [
    "lda_tfidf1.show_topic(0), '\\n', lda_tfidf1.show_topic(1), '\\n', lda_tfidf1.show_topic(2)"
   ]
  },
  {
   "cell_type": "markdown",
   "metadata": {
    "id": "DG40ysup5W4l"
   },
   "source": [
    "Let's show top 10 words in all the topics (excluding the probabilities)."
   ]
  },
  {
   "cell_type": "code",
   "execution_count": null,
   "metadata": {
    "colab": {
     "base_uri": "https://localhost:8080/"
    },
    "id": "MzH1iQCF5W4m",
    "outputId": "c1370138-bdc5-490a-ad87-077d72c7af6b"
   },
   "outputs": [
    {
     "name": "stdout",
     "output_type": "stream",
     "text": [
      "0: ebola bucket challenge ice als outbreak nile health virus west\n",
      "1: apple ipad burger tim hortons iphone king network playstation battery\n",
      "2: bieber chelsea justin emmys vma emmy mtv house ivy handler\n"
     ]
    }
   ],
   "source": [
    "for topic_id in range(lda_tfidf1.num_topics):\n",
    "    topk = lda_tfidf1.show_topic(topic_id, 10)\n",
    "    topk_words = [w for w, _ in topk]\n",
    "    \n",
    "    print(f\"{topic_id}: {' '.join(topk_words)}\")\n"
   ]
  },
  {
   "cell_type": "markdown",
   "metadata": {
    "id": "Ge2YbNkm5W4m"
   },
   "source": [
    "<h1> Compare LDA topics to our predefined categories"
   ]
  },
  {
   "cell_type": "code",
   "execution_count": null,
   "metadata": {
    "colab": {
     "base_uri": "https://localhost:8080/"
    },
    "id": "kdssRMRX5W4n",
    "outputId": "c359d6e9-dc19-46ff-a1e7-d6234756eea0"
   },
   "outputs": [
    {
     "name": "stdout",
     "output_type": "stream",
     "text": [
      "Dictionary(44066 unique tokens: ['cause', 'datum', 'fed', 'official', 'say']...)\n",
      "[(0,\n",
      "  '0.009*\"flood\" + 0.009*\"horowitz\" + 0.008*\"camden\" + 0.007*\"snapper\" + '\n",
      "  '0.007*\"ecoboost\" + 0.006*\"gamepur\" + 0.005*\"impregnate\" + 0.005*\"dupont\" + '\n",
      "  '0.005*\"polarizing\" + 0.005*\"athena\"'),\n",
      " (1,\n",
      "  '0.008*\"steiner\" + 0.008*\"quirky\" + 0.005*\"flunker\" + 0.005*\"umar\" + '\n",
      "  '0.005*\"fanatic\" + 0.005*\"meditative\" + 0.005*\"portlandia\" + 0.005*\"fortwo\" '\n",
      "  '+ 0.004*\"regulator\" + 0.004*\"disclaimer\"'),\n",
      " (2,\n",
      "  '0.023*\"dictatorship\" + 0.006*\"producing\" + 0.006*\"arrays\" + 0.005*\"wqow\" + '\n",
      "  '0.005*\"whimsical\" + 0.005*\"frayed\" + 0.005*\"population\" + 0.005*\"rfk\" + '\n",
      "  '0.004*\"negligent\" + 0.004*\"liquids\"')]\n",
      "CPU times: user 10min 59s, sys: 671 ms, total: 11min\n",
      "Wall time: 11min\n"
     ]
    }
   ],
   "source": [
    "%%time\n",
    "# Instantiate the TF-IDF vectorizer\n",
    "vectorizer = TfidfVectorizer(analyzer=lambda x: x)\n",
    "\n",
    "# Compute the TF-IDF\n",
    "tf_idf = vectorizer.fit_transform(df['TITLE_PROCESSED'])\n",
    "\n",
    "dictionary = Dictionary(df['TITLE_PROCESSED'])\n",
    "print(dictionary)\n",
    "\n",
    "# Convert the TF-IDF to the needed input for Gensim\n",
    "tf_idf_sklearn = Sparse2Corpus(tf_idf, documents_columns=False)\n",
    "\n",
    "# Compute the LDA\n",
    "lda_tfidf_sk = LdaModel(corpus=tf_idf_sklearn, \n",
    "                id2word=id2word, \n",
    "                num_topics=3, \n",
    "                passes=10)\n",
    "\n",
    "# Print the main topics\n",
    "pprint(lda_tfidf_sk.print_topics())"
   ]
  },
  {
   "cell_type": "markdown",
   "metadata": {
    "id": "NVFMhhIN5W4n"
   },
   "source": [
    "- Not better!"
   ]
  },
  {
   "cell_type": "markdown",
   "metadata": {
    "id": "wLqM28tIj9j7"
   },
   "source": [
    "Are we able to identify clearly the topics? Yes\n",
    "So, let's create a mapping between our LDA topics and the article category and test them with new titles."
   ]
  },
  {
   "cell_type": "code",
   "execution_count": null,
   "metadata": {
    "colab": {
     "base_uri": "https://localhost:8080/"
    },
    "id": "AegRxJL55W4o",
    "outputId": "d6e8fc47-26f0-4e51-bfec-e685fd12c5c9",
    "scrolled": true
   },
   "outputs": [
    {
     "name": "stdout",
     "output_type": "stream",
     "text": [
      "Beyonce won a music award: Entertainment \n",
      " Topic Mix: {'Entertainment': 0.99503696}\n",
      "\n",
      "Samsung releases new product - stock rises: Business & Technology \n",
      " Topic Mix: {'Business & Technology': 0.99668276}\n",
      "\n",
      "New cow disease outbreaks with multiple symptoms endagers humans: Health \n",
      " Topic Mix: {'Health': 0.99711967}\n",
      "\n"
     ]
    }
   ],
   "source": [
    "\n",
    "\n",
    "topic_mapping = {\n",
    "    0: \"Health\",\n",
    "    1: \"Business & Technology\",\n",
    "    2: \"Entertainment\"\n",
    "}\n",
    "\n",
    "new_headlines = [\n",
    "    \"Beyonce won a music award\",\n",
    "    \"Samsung releases new product - stock rises\",\n",
    "    \"New cow disease outbreaks with multiple symptoms endagers humans\"\n",
    "]\n",
    "\n",
    "def rank_headline(headline):\n",
    "    bow_vector = id2word.doc2bow(text_process_spacy(headline))\n",
    "    lda_vector = lda_tfidf1[bow_vector]\n",
    "    top_topic = topic_mapping[max(lda_vector, key=lambda item: item[1])[0]]\n",
    "    distribution = {topic_mapping[topic_no]: proportion for topic_no, proportion in lda_vector}\n",
    "    return top_topic, distribution\n",
    "\n",
    "for headline in new_headlines:\n",
    "    top_topic, distribution = rank_headline(headline)\n",
    "    print(f\"{headline}: {top_topic} \\n Topic Mix: {distribution}\\n\")"
   ]
  },
  {
   "cell_type": "markdown",
   "metadata": {
    "id": "GVOvLgP2kNnS"
   },
   "source": [
    "Impressive!"
   ]
  },
  {
   "cell_type": "code",
   "execution_count": null,
   "metadata": {
    "id": "QUXdvU1Q5W4p"
   },
   "outputs": [],
   "source": [
    "def compute_coherence_values(corpus, dictionary, k, a, b):\n",
    "    \n",
    "    lda_model = LdaMulticore(corpus=corpus,\n",
    "                             id2word=dictionary,\n",
    "                             num_topics=k,\n",
    "                             random_state=100,\n",
    "                             chunksize=100,\n",
    "                             passes=10,\n",
    "                             alpha=a,\n",
    "                             eta=b)\n",
    "    \n",
    "    coherence_model_lda = CoherenceModel(model=lda_model, texts=corpus, dictionary=id2word, coherence='c_v')\n",
    "    \n",
    "    return coherence_model_lda.get_coherence()"
   ]
  },
  {
   "cell_type": "code",
   "execution_count": null,
   "metadata": {
    "id": "ToTjJPA95W4r"
   },
   "outputs": [],
   "source": [
    "def evaluate_graph(dictionary, corpus, texts, limit):\n",
    "    \"\"\"\n",
    "    Function to display num_topics - LDA graph using c_v coherence\n",
    "    \n",
    "    Parameters:\n",
    "    ----------\n",
    "    dictionary : Gensim dictionary\n",
    "    corpus : Gensim corpus\n",
    "    limit : topic limit\n",
    "    \n",
    "    Returns:\n",
    "    -------\n",
    "    lm_list : List of LDA topic models\n",
    "    c_v : Coherence values corresponding to the LDA model with respective number of topics\n",
    "    \"\"\"\n",
    "    c_v = []\n",
    "    lm_list = []\n",
    "    for num_topics in range(1, limit):\n",
    "        lm = LdaModel(corpus=corpus, \n",
    "                      num_topics=num_topics, \n",
    "                      id2word=dictionary,\n",
    "                      random_state=100,\n",
    "                      chunksize=100,\n",
    "                      passes=10,\n",
    "                      alpha=0.01,\n",
    "                      eta=0.9)\n",
    "        \n",
    "        lm_list.append(lm)\n",
    "        cm = CoherenceModel(model=lm, texts=texts, dictionary=dictionary, coherence='c_v')\n",
    "        c_v.append(cm.get_coherence())\n",
    "        \n",
    "    # Show graph\n",
    "    x = range(1, limit)\n",
    "    plt.plot(x, c_v)\n",
    "    plt.xlabel(\"num_topics\")\n",
    "    plt.ylabel(\"Coherence score\")\n",
    "    plt.legend((\"c_v\"), loc='best')\n",
    "    plt.show()\n",
    "    \n",
    "    return lm_list, c_v\n"
   ]
  },
  {
   "cell_type": "code",
   "execution_count": null,
   "metadata": {
    "colab": {
     "base_uri": "https://localhost:8080/",
     "height": 518
    },
    "id": "L5p4D3Db5W4s",
    "outputId": "647609c8-b82b-4957-84c5-cf99c5618887"
   },
   "outputs": [
    {
     "data": {
      "image/png": "[encoded data removed]",
      "text/plain": [
       "<Figure size 432x288 with 1 Axes>"
      ]
     },
     "metadata": {
      "needs_background": "light",
      "tags": []
     },
     "output_type": "display_data"
    },
    {
     "name": "stdout",
     "output_type": "stream",
     "text": [
      "CPU times: user 3h 13min 8s, sys: 2min 36s, total: 3h 15min 44s\n",
      "Wall time: 3h 15min 44s\n"
     ]
    },
    {
     "data": {
      "text/plain": [
       "([<gensim.models.ldamodel.LdaModel at 0x7f4620014c88>,\n",
       "  <gensim.models.ldamodel.LdaModel at 0x7f46ec17add8>,\n",
       "  <gensim.models.ldamodel.LdaModel at 0x7f455352cba8>,\n",
       "  <gensim.models.ldamodel.LdaModel at 0x7f467511e048>,\n",
       "  <gensim.models.ldamodel.LdaModel at 0x7f47236ae7f0>,\n",
       "  <gensim.models.ldamodel.LdaModel at 0x7f4553802400>],\n",
       " [0.6068768003202933,\n",
       "  0.5976054005015261,\n",
       "  0.5060598911074887,\n",
       "  0.44643423723894604,\n",
       "  0.4164924023620314,\n",
       "  0.4590847120898556])"
      ]
     },
     "execution_count": 52,
     "metadata": {
      "tags": []
     },
     "output_type": "execute_result"
    }
   ],
   "source": [
    "%%time\n",
    "evaluate_graph(id2word, tf_idf_gensim, corpus, 7)#bow"
   ]
  },
  {
   "cell_type": "markdown",
   "metadata": {
    "id": "7kPcJLfPiFkx"
   },
   "source": [
    "Unfortunately, this graph doesn't really help us more because it suggests that we reach the highest coherence score with one topic! It is propably caused by unbalnced class of health compared to the others."
   ]
  },
  {
   "cell_type": "markdown",
   "metadata": {
    "id": "IhfmN3xXhp7I"
   },
   "source": [
    "### Let's try to tune our model by finding the best hyperparameters.\n",
    ">**Since it would take 80 hours to achieve all the iterations, we will do it another time."
   ]
  },
  {
   "cell_type": "code",
   "execution_count": null,
   "metadata": {
    "id": "l0Ted7_uZDb-"
   },
   "outputs": [],
   "source": [
    "%%time\n",
    "grid = {}\n",
    "grid['Validation_Set'] = {}\n",
    "\n",
    "# Topics range\n",
    "min_topics = 2\n",
    "max_topics = 7\n",
    "step_size = 1\n",
    "topics_range = range(min_topics, max_topics, step_size)\n",
    "\n",
    "# Alpha parameter\n",
    "alpha = list(np.arange(0.01, 1, 0.3))\n",
    "alpha.append('symmetric')\n",
    "alpha.append('asymmetric')\n",
    "\n",
    "# Beta parameter\n",
    "beta = list(np.arange(0.01, 1, 0.3))\n",
    "beta.append('symmetric')\n",
    "\n",
    "# Validation sets\n",
    "num_of_docs = len(bow)\n",
    "corpus_sets = [ClippedCorpus(bow, int(num_of_docs*0.75)), \n",
    "               bow]\n",
    "\n",
    "corpus_title = ['75% Corpus', '100% Corpus']\n",
    "\n",
    "model_results = {'Validation_Set': [],\n",
    "                 'Topics': [],\n",
    "                 'Alpha': [],\n",
    "                 'Beta': [],\n",
    "                 'Coherence': []\n",
    "                }\n",
    "\n",
    "# Can take a long time to run\n",
    "if 1 == 1:\n",
    "    pbar = tqdm.tqdm(total=(len(beta)*len(alpha)*len(topics_range)*len(corpus_title)))\n",
    "    \n",
    "    # iterate through validation corpuses\n",
    "    for i in range(len(corpus_sets)):\n",
    "        # iterate through number of topics\n",
    "        for k in topics_range:\n",
    "            # iterate through alpha values\n",
    "            for a in alpha:\n",
    "                # iterare through beta values\n",
    "                for b in beta:\n",
    "                    # get the coherence score for the given parameters\n",
    "                    cv = compute_coherence_values(corpus=corpus_sets[i], dictionary=id2word, \n",
    "                                                  k=k, a=a, b=b)\n",
    "                    # Save the model results\n",
    "                    model_results['Validation_Set'].append(corpus_title[i])\n",
    "                    model_results['Topics'].append(k)\n",
    "                    model_results['Alpha'].append(a)\n",
    "                    model_results['Beta'].append(b)\n",
    "                    model_results['Coherence'].append(cv)\n",
    "                    \n",
    "                    pbar.update(1)\n",
    "    pd.DataFrame(model_results).to_csv('./results/lda_tuning_results.csv', index=False)\n",
    "    pbar.close()\n"
   ]
  },
  {
   "cell_type": "markdown",
   "metadata": {
    "id": "11WZ9vEBlRMc"
   },
   "source": [
    "# Text Classification with PySpark\n",
    "Applying a simple model of Machine Learning giving the size of the data would have been time costly. Thankfully, we can combine the simplicity of Python with the power of Apache Spark, in order to tame the big data!\n",
    "\n",
    "## Strategy:\n",
    "\n",
    "- We're going to process titles both with PySpark which means without lemmatization and a second time with our spaCy function adapted for PySpark but with lemmatization. The objective is to compare results of classification with those two processings.\n",
    "\n",
    "- Apply Logistic Regression and Naive Bayes algorithms on processed data as bag of words, tfidf and finally with word emebedding. All this, to keep the best combination of processing tool and words representation."
   ]
  },
  {
   "cell_type": "markdown",
   "metadata": {
    "id": "JO0BNeRipDBH"
   },
   "source": [
    "\n",
    "\n",
    "\n",
    "\n",
    "\n",
    "\n",
    "\n",
    "\n",
    "\n",
    "\n",
    "After setting the Spark environement, we have to start a spark session with some configurations in order to avoid Google Colab crashing."
   ]
  },
  {
   "cell_type": "code",
   "execution_count": null,
   "metadata": {
    "id": "YwFwqXPC5W4s"
   },
   "outputs": [],
   "source": [
    "spark = SparkSession.builder \\\n",
    "    .master(\"local[*]\") \\\n",
    "    .config(\"spark.driver.memory\", \"45g\") \\\n",
    "    .config(\"spark.serializer\", \"org.apache.spark.serializer.KryoSerializer\") \\\n",
    "    .config(\"spark.kryoserializer.buffer.max\", \"1000M\") \\\n",
    "    .config(\"spark.driver.maxResultSize\", \"0\") \\\n",
    "    .appName(\"News-Aggregator-Prediction\") \\\n",
    "    .getOrCreate()\n"
   ]
  },
  {
   "cell_type": "code",
   "execution_count": null,
   "metadata": {
    "id": "sg3BtbbF5W4t"
   },
   "outputs": [],
   "source": [
    "news_df = spark.read.load('/content/uci-news-aggregator.csv', \n",
    "                          header='true', \n",
    "                          treatEmptyValuesAsNulls='true', \n",
    "                          inferSchema=\"true\", \n",
    "                          format='com.databricks.spark.csv')"
   ]
  },
  {
   "cell_type": "code",
   "execution_count": null,
   "metadata": {
    "colab": {
     "base_uri": "https://localhost:8080/"
    },
    "id": "OHeOZsvJ5W4u",
    "outputId": "954d6873-9501-43c9-fcb5-bf203bcf4e77"
   },
   "outputs": [
    {
     "name": "stdout",
     "output_type": "stream",
     "text": [
      "root\n",
      " |-- ID: string (nullable = true)\n",
      " |-- TITLE: string (nullable = true)\n",
      " |-- URL: string (nullable = true)\n",
      " |-- PUBLISHER: string (nullable = true)\n",
      " |-- CATEGORY: string (nullable = true)\n",
      " |-- STORY: string (nullable = true)\n",
      " |-- HOSTNAME: string (nullable = true)\n",
      " |-- TIMESTAMP: string (nullable = true)\n",
      "\n"
     ]
    }
   ],
   "source": [
    "news_df.printSchema()"
   ]
  },
  {
   "cell_type": "code",
   "execution_count": null,
   "metadata": {
    "colab": {
     "base_uri": "https://localhost:8080/"
    },
    "id": "RnYhL_WQ5W4u",
    "outputId": "b4966950-a7ed-4340-c4e8-7a2a78049b74",
    "scrolled": true
   },
   "outputs": [
    {
     "name": "stdout",
     "output_type": "stream",
     "text": [
      "+----+--------------------+--------------------+--------------------+--------+--------------------+--------------------+-------------+\n",
      "|  ID|               TITLE|                 URL|           PUBLISHER|CATEGORY|               STORY|            HOSTNAME|    TIMESTAMP|\n",
      "+----+--------------------+--------------------+--------------------+--------+--------------------+--------------------+-------------+\n",
      "| 166|Don't Chase Stock...|http://investorpl...|   Investorplace.com|       b|dchKRTV8vDviyCMH_...|   investorplace.com|1394472092116|\n",
      "| 381|American Airlines...|http://www.dailyb...|        Daily Breeze|       b|dqGernbFbzJ9-vM23...| www.dailybreeze.com|1394479539110|\n",
      "| 567|Sbarro pizza chai...|http://www.nydail...| New York Daily News|       b|dKtO7lhuRoSQrcML_...| www.nydailynews.com|1394483912844|\n",
      "| 744|Business news and...|http://www.telegr...|     Telegraph.co.uk|       b|d2OyTeAXDFQpb3M9C...| www.telegraph.co.uk|1394487587361|\n",
      "|1334|Google Will Relea...|http://www.cruxia...|          CruxialCIO|       t|d8BgiXmwu2G9mhMQL...|  www.cruxialcio.com|1394502217935|\n",
      "|1400|Android SDK For W...|http://techcrunch...|          TechCrunch|       t|d8BgiXmwu2G9mhMQL...|      techcrunch.com|1394502231680|\n",
      "|1676|Apple releases up...|http://www.silico...|         SiliconBeat|       t|dkPpmX2BDXp_I-M_Y...| www.siliconbeat.com|1394508569572|\n",
      "|1808|Apple Releases iO...|http://recode.net...|            Re\\/code|       t|dkPpmX2BDXp_I-M_Y...|          recode.net|1394508597388|\n",
      "|2212|Game of Thrones s...|http://metro.co.u...|               Metro|       e|doklLt-bdL5ggOMQ_...|         metro.co.uk|1394519935374|\n",
      "|2887|Zac Efron open to...|http://www.3news....|            3News NZ|       e|dEwcrt6LPSpnQZMj6...|     www.3news.co.nz|1394529759286|\n",
      "|3001|'True Detective' ...|http://blogs.indi...| Indie Wire \\(blog\\)|       e|die2_r19Z7sKHWMxX...| blogs.indiewire.com|1394532890470|\n",
      "|3283|Watch The Nationa...|http://www.prefix...|           Prefixmag|       e|dIAUryHj5P5xMKMj_...|   www.prefixmag.com|1394534955463|\n",
      "|3418|SXSW Film's First...|http://www.austin...|    Austin Chronicle|       e|dcIVq7irVOe0J0M7G...|www.austinchronic...|1394537421064|\n",
      "|4134|Maybe ban these i...|http://www.washin...|Washington Post \\...|       e|dSg2r49OAZjxU0MKN...|www.washingtonpos...|1394545650012|\n",
      "|4206|Why Sheryl Sandbe...|http://www.elle.c...|                Elle|       e|dSg2r49OAZjxU0MKN...|        www.elle.com|1394545667212|\n",
      "|5118|The Switchboard: ...|http://www.washin...|Washington Post \\...|       b|dwKImS3hJEOWOxMdJ...|www.washingtonpos...|1394578473974|\n",
      "|5205|Growth strengthen...|http://www.vancou...|      Vancouver Desi|       b|d92F0oRwK1HBLOMJp...|www.vancouverdesi...|1394580366993|\n",
      "|5236|Virtu IPO Filing:...|http://www.bloomb...|           Bloomberg|       b|dHF--A9t5KnFT1MmU...|   www.bloomberg.com|1394580775521|\n",
      "|5242|High-frequency tr...|http://www.nasdaq...|              NASDAQ|       b|dHF--A9t5KnFT1MmU...|      www.nasdaq.com|1394580776818|\n",
      "|5625|Cosmos: A Spaceti...|http://channelhop...|            OntheBox|       t|dZ9Dt3M_96s6vvMSB...|channelhopping.on...|1394585508259|\n",
      "+----+--------------------+--------------------+--------------------+--------+--------------------+--------------------+-------------+\n",
      "only showing top 20 rows\n",
      "\n"
     ]
    }
   ],
   "source": [
    "news_df.dropDuplicates().show()"
   ]
  },
  {
   "cell_type": "code",
   "execution_count": null,
   "metadata": {
    "id": "h_e8gwjM_M1H"
   },
   "outputs": [],
   "source": [
    "news_df = news_df.dropDuplicates()"
   ]
  },
  {
   "cell_type": "code",
   "execution_count": null,
   "metadata": {
    "colab": {
     "base_uri": "https://localhost:8080/"
    },
    "id": "i01oyCub5W4v",
    "outputId": "759aa866-da43-4915-a880-cbe3d2ece90e"
   },
   "outputs": [
    {
     "name": "stdout",
     "output_type": "stream",
     "text": [
      "(422937, 8)\n"
     ]
    }
   ],
   "source": [
    "# print dataset size\n",
    "print((news_df.count(), len(news_df.columns)))"
   ]
  },
  {
   "cell_type": "code",
   "execution_count": null,
   "metadata": {
    "collapsed": true,
    "id": "zY-QdnXx5W4v"
   },
   "outputs": [],
   "source": [
    "title_category = news_df.select(\"TITLE\", \"CATEGORY\")"
   ]
  },
  {
   "cell_type": "code",
   "execution_count": null,
   "metadata": {
    "id": "BCuvQ2OuUaBu"
   },
   "outputs": [],
   "source": [
    "title_category = title_category.dropna()"
   ]
  },
  {
   "cell_type": "code",
   "execution_count": null,
   "metadata": {
    "colab": {
     "base_uri": "https://localhost:8080/"
    },
    "id": "JkgSZQTODUay",
    "outputId": "39b0f059-bfb3-46cc-cde1-a4539ef897f1"
   },
   "outputs": [
    {
     "name": "stdout",
     "output_type": "stream",
     "text": [
      "(422421, 2)\n"
     ]
    }
   ],
   "source": [
    "print((title_category.count(), len(title_category.columns)))"
   ]
  },
  {
   "cell_type": "code",
   "execution_count": null,
   "metadata": {
    "colab": {
     "base_uri": "https://localhost:8080/"
    },
    "id": "DXSqnLOmajzq",
    "outputId": "d5e4cb89-3023-4234-b6f5-bcee347014d3"
   },
   "outputs": [
    {
     "name": "stdout",
     "output_type": "stream",
     "text": [
      "+--------------------+--------+\n",
      "|               TITLE|CATEGORY|\n",
      "+--------------------+--------+\n",
      "|Don't Chase Stock...|       b|\n",
      "|American Airlines...|       b|\n",
      "|Sbarro pizza chai...|       b|\n",
      "|Business news and...|       b|\n",
      "|Google Will Relea...|       t|\n",
      "|Android SDK For W...|       t|\n",
      "|Apple releases up...|       t|\n",
      "|Apple Releases iO...|       t|\n",
      "|Game of Thrones s...|       e|\n",
      "|Zac Efron open to...|       e|\n",
      "|'True Detective' ...|       e|\n",
      "|Watch The Nationa...|       e|\n",
      "|SXSW Film's First...|       e|\n",
      "|Maybe ban these i...|       e|\n",
      "|Why Sheryl Sandbe...|       e|\n",
      "|The Switchboard: ...|       b|\n",
      "|Growth strengthen...|       b|\n",
      "|Virtu IPO Filing:...|       b|\n",
      "|High-frequency tr...|       b|\n",
      "|Cosmos: A Spaceti...|       t|\n",
      "+--------------------+--------+\n",
      "only showing top 20 rows\n",
      "\n"
     ]
    }
   ],
   "source": [
    "title_category.show()"
   ]
  },
  {
   "cell_type": "markdown",
   "metadata": {
    "id": "SdQP4HrCpM9L"
   },
   "source": [
    "Text processing using PySpark"
   ]
  },
  {
   "cell_type": "code",
   "execution_count": null,
   "metadata": {
    "id": "kp3dApZebF9U"
   },
   "outputs": [],
   "source": [
    "#----------------Define text preprocessings ------------------\n",
    "title_category = title_category\\\n",
    "                .withColumn(\"IS_ALPHA\", \n",
    "                            regexp_replace(col(\"TITLE\"), \n",
    "                                           r\"(\\d+)\", \"\")\n",
    "                            )\n",
    "title_category = title_category\\\n",
    "                .withColumn(\"LOWERED_NO_PUNCT\", \n",
    "                            trim(lower(regexp_replace(col(\"IS_ALPHA\"), \n",
    "                                                      r'(([^\\s\\w_]|_)+)', ' '))))\n",
    "\n",
    "title_category = title_category\\\n",
    "                .withColumn(\"LOWERED_NO_PUNCT\", \n",
    "                            trim(lower(regexp_replace(col(\"LOWERED_NO_PUNCT\"), \n",
    "                                                      r'(\\s+)', ' '))))\n",
    "\n"
   ]
  },
  {
   "cell_type": "code",
   "execution_count": null,
   "metadata": {
    "id": "9TdSWaxBLLWM"
   },
   "outputs": [],
   "source": [
    "#-----------Encode the Category variable into label using StringIndexer-----------\n",
    "                         \n",
    "label_string_idx = StringIndexer(inputCol=\"CATEGORY\", \n",
    "                                 outputCol=\"label\")\n",
    "\n",
    "title_category = label_string_idx.fit(title_category).transform(title_category)"
   ]
  },
  {
   "cell_type": "markdown",
   "metadata": {
    "id": "8tFe0UsBpnlM"
   },
   "source": [
    "Text processing using spaCy.\n",
    "Explanation:\n",
    "- We have to adapt python libraries using PySpark.\n",
    "- In the case of spaCy, we have to ensure getting, otherwise we get an error saying spaCy not found.\n",
    "- We have to transform python functions into user-defined function (udf), defining:\n",
    "    - Using a decorator @ and F for pyspark function ;\n",
    "    - Type of what the function returns StringType or ArrayType(StringType()) is it is a list of strings (it somehow very similar to Java syntax)"
   ]
  },
  {
   "cell_type": "code",
   "execution_count": null,
   "metadata": {
    "id": "xC2Ft2gYK6Cc"
   },
   "outputs": [],
   "source": [
    "class SpacyMagic(object):\n",
    "    \"\"\"\n",
    "    Simple Spacy Magic to minimize loading time.\n",
    "    >>> SpacyMagic.get('en_core_web_md')\n",
    "    <spacy.en.en_core_web_md ...\n",
    "    \"\"\"\n",
    "    _spacys = {}\n",
    "\n",
    "    @classmethod\n",
    "    def get(cls, model):\n",
    "        if model not in cls._spacys:\n",
    "            import spacy\n",
    "            cls._spacys[model] = spacy.load(model)\n",
    "        return cls._spacys[model]\n",
    "\n",
    "#@F.udf(T.ArrayType(StringType()))\n",
    "@F.udf(T.StringType())    \n",
    "def process_text_pyspark_spacy(sent):\n",
    "    nlp = SpacyMagic.get('en_core_web_md')\n",
    "    tokens = [token.lemma_.lower() for token in nlp(sent) if token.is_alpha and not token.is_punct and not token.is_stop]\n",
    "    return ' '.join(tokens)\n"
   ]
  },
  {
   "cell_type": "code",
   "execution_count": null,
   "metadata": {
    "colab": {
     "base_uri": "https://localhost:8080/"
    },
    "id": "bAv9uhQ7MRl2",
    "outputId": "6fec17ba-f257-4394-c68d-6d0319c80717"
   },
   "outputs": [
    {
     "name": "stdout",
     "output_type": "stream",
     "text": [
      "CPU times: user 8.01 ms, sys: 918 µs, total: 8.93 ms\n",
      "Wall time: 32.9 ms\n"
     ]
    }
   ],
   "source": [
    "%%time\n",
    "title_category = title_category.withColumn(\"TEXT_SPACY\", process_text_pyspark_spacy(title_category[\"TITLE\"]))"
   ]
  },
  {
   "cell_type": "markdown",
   "metadata": {
    "id": "QPYsRUj9rPZM"
   },
   "source": [
    "Impressive! It took spaCy only 32.9 ms to process the whole column with PySpark, whilst it took it 1h 2min 6s with Pandas DataFrame column."
   ]
  },
  {
   "cell_type": "code",
   "execution_count": null,
   "metadata": {
    "id": "zYohc-z7bZ8Y"
   },
   "outputs": [],
   "source": [
    "title_category = title_category.select(\"TEXT_SPACY\", \"CATEGORY\", \"label\")"
   ]
  },
  {
   "cell_type": "code",
   "execution_count": null,
   "metadata": {
    "colab": {
     "base_uri": "https://localhost:8080/"
    },
    "id": "LR81Z_gdnI1p",
    "outputId": "9df8ae10-9b25-4255-9d00-daa488130cbf"
   },
   "outputs": [
    {
     "data": {
      "text/plain": [
       "DataFrame[TEXT_SPACY: string, CATEGORY: string, label: double]"
      ]
     },
     "execution_count": 12,
     "metadata": {
      "tags": []
     },
     "output_type": "execute_result"
    }
   ],
   "source": [
    "title_category.cache()"
   ]
  },
  {
   "cell_type": "code",
   "execution_count": null,
   "metadata": {
    "colab": {
     "base_uri": "https://localhost:8080/"
    },
    "id": "Wk3ahO2mbtj4",
    "outputId": "bd7e395e-9dd4-4fa1-f29a-e5c232b377e2"
   },
   "outputs": [
    {
     "name": "stdout",
     "output_type": "stream",
     "text": [
      "+--------------------+--------+\n",
      "|    LOWERED_NO_PUNCT|CATEGORY|\n",
      "+--------------------+--------+\n",
      "|don t chase stock...|       b|\n",
      "|american airlines...|       b|\n",
      "|sbarro pizza chai...|       b|\n",
      "|business news and...|       b|\n",
      "|google will relea...|       t|\n",
      "|android sdk for w...|       t|\n",
      "|apple releases up...|       t|\n",
      "|apple releases io...|       t|\n",
      "|game of thrones s...|       e|\n",
      "|zac efron open to...|       e|\n",
      "|true detective cr...|       e|\n",
      "|watch the nationa...|       e|\n",
      "|sxsw film s first...|       e|\n",
      "|maybe ban these i...|       e|\n",
      "|why sheryl sandbe...|       e|\n",
      "|the switchboard c...|       b|\n",
      "|growth strengthen...|       b|\n",
      "|virtu ipo filing ...|       b|\n",
      "|high frequency tr...|       b|\n",
      "|cosmos a spacetim...|       t|\n",
      "+--------------------+--------+\n",
      "only showing top 20 rows\n",
      "\n"
     ]
    }
   ],
   "source": [
    "title_category.show()"
   ]
  },
  {
   "cell_type": "markdown",
   "metadata": {
    "id": "hjaPO6OMr62Q"
   },
   "source": [
    "## Split Data into train/test."
   ]
  },
  {
   "cell_type": "code",
   "execution_count": null,
   "metadata": {
    "id": "tXjUqfkjaZTf"
   },
   "outputs": [],
   "source": [
    "X_y_train, X_y_test = title_category.randomSplit([0.8, 0.2], seed=60)"
   ]
  },
  {
   "cell_type": "markdown",
   "metadata": {
    "id": "-R8HwwucsIqH"
   },
   "source": [
    "## Define diffrent stages of the pipeline data processing"
   ]
  },
  {
   "cell_type": "code",
   "execution_count": null,
   "metadata": {
    "id": "rvtFhcTnU8RB"
   },
   "outputs": [],
   "source": [
    "#----------------Define tokenizer with regextokenizer()------------------\n",
    "regex_tokenizer = RegexTokenizer(inputCol=\"LOWERED_NO_PUNCT\", #\"TEXT_SPACY\"\n",
    "                                 outputCol=\"TOKENS\", # TOKENS_SPACY\n",
    "                                 pattern=\"\\\\W\")\n",
    "\n",
    "#----------------Define stopwords with stopwordsremover()---------------------\n",
    "extra_stopwords = ['http','amp','rt','t','c','the']\n",
    "stopwords_remover = StopWordsRemover(inputCol=\"TOKENS\",\n",
    "                                     outputCol=\"TOKENS_NO_LEMMA\",\n",
    "                                     stopWords=extra_stopwords)\n",
    "\n",
    "\n",
    "#----------Define bags of words using countVectorizer()---------------------------\n",
    "count_vectors = CountVectorizer(inputCol=\"TOKENS_NO_LEMMA\", # \"TOKENS_SPACY\"\n",
    "                                outputCol=\"features\",\n",
    "                                vocabSize=10000,\n",
    "                                minDF=5)\n",
    "\n",
    "#-----------Using TF-IDF to vectorise features instead of countVectoriser-----------------\n",
    "hashingTf = HashingTF(inputCol=\"TOKENS_NO_LEMMA\", # \"TOKENS_SPACY\"\n",
    "                      outputCol=\"raw_features\",\n",
    "                      numFeatures=10000)\n",
    " \n",
    "#Use minDocFreq to remove sparse terms\n",
    "idf = IDF(inputCol=\"raw_features\",\n",
    "          outputCol=\"features\",\n",
    "          minDocFreq=5)\n",
    "\n",
    "#---------------Define bag of words using Word2Vec---------------------------\n",
    "word2Vec = Word2Vec(inputCol=\"TOKENS_NO_LEMMA\", # \"TOKENS_SPACY\" \n",
    "                    outputCol=\"features\",\n",
    "                    vectorSize=1000, \n",
    "                    minCount=0)"
   ]
  },
  {
   "cell_type": "code",
   "execution_count": null,
   "metadata": {
    "id": "UEljMN3NYJpN"
   },
   "outputs": [],
   "source": [
    "#-----------Define classifier structure for logistic Regression--------------\n",
    "lr = LogisticRegression(maxIter=20, regParam=0.3, elasticNetParam=0)\n",
    "\n",
    "#---------Define classifier structure for Naive Bayes----------\n",
    "nb = NaiveBayes(modelType=\"multinomial\", smoothing=1)"
   ]
  },
  {
   "cell_type": "code",
   "execution_count": null,
   "metadata": {
    "colab": {
     "base_uri": "https://localhost:8080/"
    },
    "id": "1_RdEcw1cOB0",
    "outputId": "d6df4070-3079-4092-d9a9-d472901b5698"
   },
   "outputs": [
    {
     "name": "stdout",
     "output_type": "stream",
     "text": [
      "CPU times: user 71.8 ms, sys: 30.6 ms, total: 102 ms\n",
      "Wall time: 3min 59s\n"
     ]
    }
   ],
   "source": [
    "%%time\n",
    "pipeline_cv_lr = Pipeline(stages=[regex_tokenizer, \n",
    "                     stopwords_remover,\n",
    "                     count_vectors, \n",
    "                     lr])\n",
    "\n",
    "predictions_cv_lr = pipeline_cv_lr.fit(X_y_train).transform(X_y_test)"
   ]
  },
  {
   "cell_type": "code",
   "execution_count": null,
   "metadata": {
    "colab": {
     "base_uri": "https://localhost:8080/"
    },
    "id": "O3uLdEqogqo0",
    "outputId": "399c9d0c-0215-422b-a22e-f44b3640bbc0"
   },
   "outputs": [
    {
     "name": "stdout",
     "output_type": "stream",
     "text": [
      "Accuracy of Logistic Regression with no lemmas + cv = 0.9264742370358118\n",
      "CPU times: user 2.6 ms, sys: 2.43 ms, total: 5.03 ms\n",
      "Wall time: 2.13 s\n"
     ]
    }
   ],
   "source": [
    "%%time\n",
    "evaluator_cv_lr = MulticlassClassificationEvaluator(labelCol=\"label\", \n",
    "                                                  predictionCol=\"prediction\", \n",
    "                                                  metricName=\"accuracy\")\n",
    "\n",
    "cv_lr_accuracy = evaluator_cv_lr.evaluate(predictions_cv_lr)\n",
    "print(f\"Accuracy of Logistic Regression with no lemmas + cv = {cv_lr_accuracy}\")"
   ]
  },
  {
   "cell_type": "code",
   "execution_count": null,
   "metadata": {
    "colab": {
     "base_uri": "https://localhost:8080/"
    },
    "id": "1tCORk5f5oDL",
    "outputId": "9a3b3dd4-fcb1-4b20-df2a-4c0ffc7cb8cf"
   },
   "outputs": [
    {
     "name": "stdout",
     "output_type": "stream",
     "text": [
      "CPU times: user 30.4 ms, sys: 6.74 ms, total: 37.1 ms\n",
      "Wall time: 7.95 s\n"
     ]
    }
   ],
   "source": [
    "%%time\n",
    "pipeline_cv_nb = Pipeline(stages=[regex_tokenizer, \n",
    "                     stopwords_remover,\n",
    "                     count_vectors, \n",
    "                     nb])\n",
    "\n",
    "predictions_cv_nb = pipeline_cv_nb.fit(X_y_train).transform(X_y_test)"
   ]
  },
  {
   "cell_type": "code",
   "execution_count": null,
   "metadata": {
    "colab": {
     "base_uri": "https://localhost:8080/"
    },
    "id": "cq09zN4a8-Ly",
    "outputId": "3f7d68f7-841c-4249-8830-e5b7989b6d68"
   },
   "outputs": [
    {
     "name": "stdout",
     "output_type": "stream",
     "text": [
      "Accuracy of Naive Bayes with no lemmas + cv = 0.9175301582050404\n",
      "CPU times: user 2.42 ms, sys: 1.98 ms, total: 4.4 ms\n",
      "Wall time: 2.11 s\n"
     ]
    }
   ],
   "source": [
    "%%time\n",
    "evaluator_cv_nb = MulticlassClassificationEvaluator(labelCol=\"label\", \n",
    "                                                  predictionCol=\"prediction\", \n",
    "                                                  metricName=\"accuracy\")\n",
    "\n",
    "cv_nb_accuracy = evaluator_cv_nb.evaluate(predictions_cv_nb)\n",
    "print(f\"Accuracy of Naive Bayes with no lemmas + cv = {cv_nb_accuracy}\")"
   ]
  },
  {
   "cell_type": "markdown",
   "metadata": {
    "id": "g5mQDfYms3nB"
   },
   "source": [
    " Logistic Regression has better accuracy than Naive Bayes using bag of words."
   ]
  },
  {
   "cell_type": "code",
   "execution_count": null,
   "metadata": {
    "colab": {
     "base_uri": "https://localhost:8080/"
    },
    "id": "XF5VAwQ293CF",
    "outputId": "8f386a13-8f75-427d-8492-80bf9060ca40"
   },
   "outputs": [
    {
     "name": "stdout",
     "output_type": "stream",
     "text": [
      "CPU times: user 78.8 ms, sys: 18.7 ms, total: 97.5 ms\n",
      "Wall time: 3min 42s\n"
     ]
    }
   ],
   "source": [
    "%%time\n",
    "pipeline_tfidf_lr = Pipeline(stages=[regex_tokenizer, \n",
    "                     stopwords_remover,\n",
    "                     hashingTf,\n",
    "                     idf,\n",
    "                     lr])\n",
    "\n",
    "predictions_tfidf_lr = pipeline_tfidf_lr.fit(X_y_train).transform(X_y_test)"
   ]
  },
  {
   "cell_type": "code",
   "execution_count": null,
   "metadata": {
    "colab": {
     "base_uri": "https://localhost:8080/"
    },
    "id": "TA0wbIWR-APD",
    "outputId": "100bb3ff-3fc9-49fa-b289-4bdad67794ee"
   },
   "outputs": [
    {
     "name": "stdout",
     "output_type": "stream",
     "text": [
      "Accuracy of Logistic Regression with no lemmas + tfidf = 0.8963928305587391\n",
      "CPU times: user 3.84 ms, sys: 1.27 ms, total: 5.1 ms\n",
      "Wall time: 2.41 s\n"
     ]
    }
   ],
   "source": [
    "%%time\n",
    "evaluator_tfidf_lr = MulticlassClassificationEvaluator(labelCol=\"label\", \n",
    "                                                  predictionCol=\"prediction\", \n",
    "                                                  metricName=\"accuracy\")\n",
    "\n",
    "tfidf_lr_accuracy = evaluator_tfidf_lr.evaluate(predictions_tfidf_lr)\n",
    "print(f\"Accuracy of Logistic Regression with no lemmas + tfidf = {tfidf_lr_accuracy}\")"
   ]
  },
  {
   "cell_type": "code",
   "execution_count": null,
   "metadata": {
    "colab": {
     "base_uri": "https://localhost:8080/"
    },
    "id": "Yh70DX6mBJGT",
    "outputId": "67058561-95a0-411a-c5d0-0329272208f7"
   },
   "outputs": [
    {
     "name": "stdout",
     "output_type": "stream",
     "text": [
      "CPU times: user 19.7 ms, sys: 8.71 ms, total: 28.5 ms\n",
      "Wall time: 2.13 s\n"
     ]
    }
   ],
   "source": [
    "%%time\n",
    "pipeline_tfidf_nb = Pipeline(stages=[regex_tokenizer, \n",
    "                     stopwords_remover,\n",
    "                     hashingTf,\n",
    "                     idf, \n",
    "                     nb])\n",
    "\n",
    "predictions_tfidf_nb = pipeline_tfidf_nb.fit(X_y_train).transform(X_y_test)"
   ]
  },
  {
   "cell_type": "code",
   "execution_count": null,
   "metadata": {
    "colab": {
     "base_uri": "https://localhost:8080/"
    },
    "id": "AFuDtCFmBBz3",
    "outputId": "d66bf164-b79f-4792-c7f3-6355cf807d14"
   },
   "outputs": [
    {
     "name": "stdout",
     "output_type": "stream",
     "text": [
      "Accuracy of Naive Bayes with no lemmas + tfidf = 0.8671266703687512\n",
      "CPU times: user 4.15 ms, sys: 110 µs, total: 4.26 ms\n",
      "Wall time: 1.83 s\n"
     ]
    }
   ],
   "source": [
    "%%time\n",
    "evaluator_tfidf_nb = MulticlassClassificationEvaluator(labelCol=\"label\", \n",
    "                                                  predictionCol=\"prediction\", \n",
    "                                                  metricName=\"accuracy\")\n",
    "\n",
    "tfidf_nb_accuracy = evaluator_tfidf_nb.evaluate(predictions_tfidf_nb)\n",
    "print(f\"Accuracy of Naive Bayes with no lemmas + tfidf = {tfidf_nb_accuracy}\")"
   ]
  },
  {
   "cell_type": "markdown",
   "metadata": {
    "id": "z_DTib8dtIcT"
   },
   "source": [
    "Again, Logistic Regression wins this time using tfidf reprentation of words."
   ]
  },
  {
   "cell_type": "code",
   "execution_count": null,
   "metadata": {
    "colab": {
     "base_uri": "https://localhost:8080/"
    },
    "id": "YnTvoXR8CLf2",
    "outputId": "40729d6c-25fa-4019-f2fc-7e1a6b0d4920"
   },
   "outputs": [
    {
     "name": "stdout",
     "output_type": "stream",
     "text": [
      "CPU times: user 177 ms, sys: 106 ms, total: 283 ms\n",
      "Wall time: 13min 31s\n"
     ]
    }
   ],
   "source": [
    "%%time\n",
    "pipeline_wv_lr = Pipeline(stages=[regex_tokenizer, \n",
    "                     stopwords_remover,\n",
    "                     word2Vec, \n",
    "                     lr])\n",
    "\n",
    "predictions_wv_lr = pipeline_wv_lr.fit(X_y_train).transform(X_y_test)"
   ]
  },
  {
   "cell_type": "code",
   "execution_count": null,
   "metadata": {
    "colab": {
     "base_uri": "https://localhost:8080/"
    },
    "id": "9hjMUxFWCR3F",
    "outputId": "fc8ca168-bd18-4bef-ab3c-fe67cd0574b6"
   },
   "outputs": [
    {
     "name": "stdout",
     "output_type": "stream",
     "text": [
      "Accuracy of Logistic Regression with no lemmas + word2vec = 0.8502309864480073\n",
      "CPU times: user 2.01 ms, sys: 2.67 ms, total: 4.68 ms\n",
      "Wall time: 4.56 s\n"
     ]
    }
   ],
   "source": [
    "%%time\n",
    "evaluator_wv_lr = MulticlassClassificationEvaluator(labelCol=\"label\", \n",
    "                                                  predictionCol=\"prediction\", \n",
    "                                                  metricName=\"accuracy\")\n",
    "\n",
    "wv_lr_accuracy = evaluator_wv_lr.evaluate(predictions_wv_lr)\n",
    "print(f\"Accuracy of Logistic Regression with no lemmas + word2vec = {wv_lr_accuracy}\")"
   ]
  },
  {
   "cell_type": "markdown",
   "metadata": {
    "id": "mGhA4TgdtaPu"
   },
   "source": [
    "As Naive Bayes doesn't accept negative values, word embeddings couldn't be used. Anyway, results are not improved using it, in the contrary."
   ]
  },
  {
   "cell_type": "markdown",
   "metadata": {
    "id": "jBp-xiSrWM3a"
   },
   "source": [
    "Unfortunately, at this point, we couldn't apply classification using data processed by spaCy without crashing environement session. Indeed, spaCy is memory expensive.\n",
    "\n",
    "Possible improvements regarding accuracy score:\n",
    "- Tune hyperparameters of models\n",
    "- Use LightGBM and XGboost mmlspark (installing them is a bit complicated on Colaboratory)\n",
    "- Find the best number of topics using LDA and PySpark and best hyperparameters using gensim\n",
    "- Use NLP PySpark librarie to better processing (lemmatization)"
   ]
  }
 ],
 "metadata": {
  "accelerator": "TPU",
  "colab": {
   "collapsed_sections": [],
   "machine_shape": "hm",
   "name": "News-Aggregator-Copy1.ipynb",
   "provenance": [],
   "toc_visible": true
  },
  "kernelspec": {
   "display_name": "Python 3",
   "language": "python",
   "name": "python3"
  },
  "language_info": {
   "codemirror_mode": {
    "name": "ipython",
    "version": 3
   },
   "file_extension": ".py",
   "mimetype": "text/x-python",
   "name": "python",
   "nbconvert_exporter": "python",
   "pygments_lexer": "ipython3",
   "version": "3.7.6"
  },
  "toc": {
   "base_numbering": 1,
   "nav_menu": {},
   "number_sections": true,
   "sideBar": true,
   "skip_h1_title": false,
   "title_cell": "Table of Contents",
   "title_sidebar": "Contents",
   "toc_cell": false,
   "toc_position": {},
   "toc_section_display": true,
   "toc_window_display": false
  },
  "varInspector": {
   "cols": {
    "lenName": 16,
    "lenType": 16,
    "lenVar": 40
   },
   "kernels_config": {
    "python": {
     "delete_cmd_postfix": "",
     "delete_cmd_prefix": "del ",
     "library": "var_list.py",
     "varRefreshCmd": "print(var_dic_list())"
    },
    "r": {
     "delete_cmd_postfix": ") ",
     "delete_cmd_prefix": "rm(",
     "library": "var_list.r",
     "varRefreshCmd": "cat(var_dic_list()) "
    }
   },
   "types_to_exclude": [
    "module",
    "function",
    "builtin_function_or_method",
    "instance",
    "_Feature"
   ],
   "window_display": false
  }
 },
 "nbformat": 4,
 "nbformat_minor": 1
}
